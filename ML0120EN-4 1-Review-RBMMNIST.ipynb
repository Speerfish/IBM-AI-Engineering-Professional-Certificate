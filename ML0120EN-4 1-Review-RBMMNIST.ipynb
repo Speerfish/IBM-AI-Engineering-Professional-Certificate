{
 "cells": [
  {
   "cell_type": "markdown",
   "metadata": {},
   "source": [
    "<img src=\"https://cf-courses-data.s3.us.cloud-object-storage.appdomain.cloud/IBMDeveloperSkillsNetwork-DL0120EN-SkillsNetwork/images/IDSN-logo.png\" width=\"300\" alt=\"cognitiveclass.ai logo\">\n",
    "\n",
    "<h1 align=\"center\"><font size=\"5\">RESTRICTED BOLTZMANN MACHINES</font></h1>\n"
   ]
  },
  {
   "cell_type": "markdown",
   "metadata": {},
   "source": [
    "Estimated time needed: **25** minutes\n"
   ]
  },
  {
   "cell_type": "markdown",
   "metadata": {},
   "source": [
    "<h3>Introduction</h3>\n",
    "<b>Restricted Boltzmann Machine (RBM):</b>  RBMs are shallow neural nets that learn to reconstruct data by themselves in an unsupervised fashion.  \n",
    "\n",
    "\n",
    "<h4>Why are RBMs important?</h4>\n",
    "An RBM are a basic form of autoencoder.  It can automatically extract <b>meaningful</b> features from a given input.\n",
    "\n",
    "\n",
    "<h4>How does it work?</h4>\n",
    "RBM is a 2 layer neural network. Simply, RBM takes the inputs and translates those into a set of binary values that represents them in the hidden layer. Then, these numbers can be translated back to reconstruct the inputs. Through several forward and backward passes, the RBM will be trained, and a trained RBM can reveal which features are the most important ones when detecting patterns.   \n",
    "\n",
    "\n",
    "<h4>What are the applications of an RBM?</h4>\n",
    "RBM is useful for <a href='http://www.cs.utoronto.ca/~hinton/absps/netflixICML.pdf'>  Collaborative Filtering</a>, dimensionality reduction, classification, regression, feature learning, topic modeling and even <b>Deep Belief Networks</b>.\n",
    "\n",
    "<h4>Is RBM a generative or Discriminative model?</h4>\n",
    "RBM is a generative model. Let me explain it by first, see what is different between discriminative and generative models: \n",
    "\n",
    "<b>Discriminative:</b> Consider a classification problem where we want to learn to distinguish between Sedan cars (y = 1) and SUV cars (y = 0), based on some features of cars. Given a training set, an algorithm like logistic regression tries to find a straight line, or <i>decision boundary</i>, that separates the suv and sedan.  \n",
    "\n",
    "<b>Generative:</b> looking at cars, we can build a model of what Sedan cars look like. Then, looking at SUVs, we can build a separate model of what SUV cars look like. Finally, to classify a new car, we can match the new car against the Sedan model, and match it against the SUV model, to see whether the new car looks more like the SUV or Sedan. \n",
    "\n",
    "Generative Models specify a probability distribution over a dataset of input vectors. We can carry out both supervised and unsupervised tasks with generative models:\n",
    "<ul>\n",
    "    <li>In an unsupervised task, we try to form a model for $P(x)$, where $P$ is the probability given $x$ as an input vector.</li>\n",
    "    <li>In the supervised task, we first form a model for $P(x|y)$, where $P$ is the probability of $x$ given $y$(the label for $x$). For example, if $y = 0$ indicates that a car is an SUV, and $y = 1$ indicates that a car is a sedan, then $p(x|y = 0)$ models the distribution of SUV features, and $p(x|y = 1)$ models the distribution of sedan features. If we manage to find $P(x|y)$ and $P(y)$, then we can use <b>Bayes rule</b> to estimate $P(y|x)$, because:   \n",
    "        $$p(y|x) = \\frac{p(x|y)p(y)}{p(x)}$$</li>\n",
    "</ul>\n",
    "Now the question is, can we build a generative model, and then use it to create synthetic data by directly sampling from the modeled probability distributions? Lets see. \n"
   ]
  },
  {
   "cell_type": "markdown",
   "metadata": {},
   "source": [
    "<h2>Table of Contents</h2>\n",
    "<ol>\n",
    "    <li><a href=\"#ref1\">Initialization</a></li>\n",
    "    <li><a href=\"#ref2\">RBM layers</a></li>\n",
    "    <li><a href=\"#ref3\">What RBM can do after training?</a></li>\n",
    "    <li><a href=\"#ref4\">How to train the model?</a></li>\n",
    "    <li><a href=\"#ref5\">Learned features</a></li>\n",
    "</ol>\n",
    "<p></p>\n",
    "</div>\n",
    "<br>\n",
    "\n",
    "<hr>\n"
   ]
  },
  {
   "cell_type": "markdown",
   "metadata": {},
   "source": [
    "<a id=\"ref1\"></a>\n",
    "<h3>Initialization</h3>\n",
    "\n",
    "First, we have to load the utility file which contains different utility functions that are not connected\n",
    "in any way to the networks presented in the tutorials, but rather help in\n",
    "processing the outputs into a more understandable way.\n"
   ]
  },
  {
   "cell_type": "code",
   "execution_count": 1,
   "metadata": {
    "tags": []
   },
   "outputs": [],
   "source": [
    "import urllib.request\n",
    "with urllib.request.urlopen(\"https://cf-courses-data.s3.us.cloud-object-storage.appdomain.cloud/IBMDeveloperSkillsNetwork-DL0120EN-SkillsNetwork/labs/Week4/data/utils.py\") as url:\n",
    "    response = url.read()\n",
    "target = open('utils.py', 'w')\n",
    "target.write(response.decode('utf-8'))\n",
    "target.close()"
   ]
  },
  {
   "cell_type": "markdown",
   "metadata": {},
   "source": [
    "<h2>Installing TensorFlow </h2>\n",
    "\n",
    "We will installing TensorFlow version 2.9.0 and its required prerequistes.  Also installing pillow...\n"
   ]
  },
  {
   "cell_type": "code",
   "execution_count": 2,
   "metadata": {
    "tags": []
   },
   "outputs": [
    {
     "name": "stdout",
     "output_type": "stream",
     "text": [
      "Requirement already satisfied: grpcio==1.24.3 in /home/jupyterlab/conda/envs/python/lib/python3.7/site-packages (1.24.3)\n",
      "Requirement already satisfied: six>=1.5.2 in /home/jupyterlab/conda/envs/python/lib/python3.7/site-packages (from grpcio==1.24.3) (1.16.0)\n",
      "Requirement already satisfied: tensorflow==2.9.0 in /home/jupyterlab/conda/envs/python/lib/python3.7/site-packages (2.9.0)\n",
      "Requirement already satisfied: absl-py>=1.0.0 in /home/jupyterlab/conda/envs/python/lib/python3.7/site-packages (from tensorflow==2.9.0) (1.4.0)\n",
      "Requirement already satisfied: astunparse>=1.6.0 in /home/jupyterlab/conda/envs/python/lib/python3.7/site-packages (from tensorflow==2.9.0) (1.6.3)\n",
      "Requirement already satisfied: flatbuffers<2,>=1.12 in /home/jupyterlab/conda/envs/python/lib/python3.7/site-packages (from tensorflow==2.9.0) (1.12)\n",
      "Requirement already satisfied: gast<=0.4.0,>=0.2.1 in /home/jupyterlab/conda/envs/python/lib/python3.7/site-packages (from tensorflow==2.9.0) (0.4.0)\n",
      "Requirement already satisfied: google-pasta>=0.1.1 in /home/jupyterlab/conda/envs/python/lib/python3.7/site-packages (from tensorflow==2.9.0) (0.2.0)\n",
      "Requirement already satisfied: grpcio<2.0,>=1.24.3 in /home/jupyterlab/conda/envs/python/lib/python3.7/site-packages (from tensorflow==2.9.0) (1.24.3)\n",
      "Requirement already satisfied: h5py>=2.9.0 in /home/jupyterlab/conda/envs/python/lib/python3.7/site-packages (from tensorflow==2.9.0) (3.8.0)\n",
      "Requirement already satisfied: keras<2.10.0,>=2.9.0rc0 in /home/jupyterlab/conda/envs/python/lib/python3.7/site-packages (from tensorflow==2.9.0) (2.9.0)\n",
      "Requirement already satisfied: keras-preprocessing>=1.1.1 in /home/jupyterlab/conda/envs/python/lib/python3.7/site-packages (from tensorflow==2.9.0) (1.1.2)\n",
      "Requirement already satisfied: libclang>=13.0.0 in /home/jupyterlab/conda/envs/python/lib/python3.7/site-packages (from tensorflow==2.9.0) (18.1.1)\n",
      "Requirement already satisfied: numpy>=1.20 in /home/jupyterlab/conda/envs/python/lib/python3.7/site-packages (from tensorflow==2.9.0) (1.21.6)\n",
      "Requirement already satisfied: opt-einsum>=2.3.2 in /home/jupyterlab/conda/envs/python/lib/python3.7/site-packages (from tensorflow==2.9.0) (3.3.0)\n",
      "Requirement already satisfied: packaging in /home/jupyterlab/conda/envs/python/lib/python3.7/site-packages (from tensorflow==2.9.0) (23.1)\n",
      "Requirement already satisfied: protobuf>=3.9.2 in /home/jupyterlab/conda/envs/python/lib/python3.7/site-packages (from tensorflow==2.9.0) (3.19.6)\n",
      "Requirement already satisfied: setuptools in /home/jupyterlab/conda/envs/python/lib/python3.7/site-packages (from tensorflow==2.9.0) (67.7.2)\n",
      "Requirement already satisfied: six>=1.12.0 in /home/jupyterlab/conda/envs/python/lib/python3.7/site-packages (from tensorflow==2.9.0) (1.16.0)\n",
      "Requirement already satisfied: tensorboard<2.10,>=2.9 in /home/jupyterlab/conda/envs/python/lib/python3.7/site-packages (from tensorflow==2.9.0) (2.9.1)\n",
      "Requirement already satisfied: tensorflow-io-gcs-filesystem>=0.23.1 in /home/jupyterlab/conda/envs/python/lib/python3.7/site-packages (from tensorflow==2.9.0) (0.34.0)\n",
      "Requirement already satisfied: tensorflow-estimator<2.10.0,>=2.9.0rc0 in /home/jupyterlab/conda/envs/python/lib/python3.7/site-packages (from tensorflow==2.9.0) (2.9.0)\n",
      "Requirement already satisfied: termcolor>=1.1.0 in /home/jupyterlab/conda/envs/python/lib/python3.7/site-packages (from tensorflow==2.9.0) (2.3.0)\n",
      "Requirement already satisfied: typing-extensions>=3.6.6 in /home/jupyterlab/conda/envs/python/lib/python3.7/site-packages (from tensorflow==2.9.0) (4.5.0)\n",
      "Requirement already satisfied: wrapt>=1.11.0 in /home/jupyterlab/conda/envs/python/lib/python3.7/site-packages (from tensorflow==2.9.0) (1.14.1)\n",
      "Requirement already satisfied: wheel<1.0,>=0.23.0 in /home/jupyterlab/conda/envs/python/lib/python3.7/site-packages (from astunparse>=1.6.0->tensorflow==2.9.0) (0.40.0)\n",
      "Requirement already satisfied: google-auth<3,>=1.6.3 in /home/jupyterlab/conda/envs/python/lib/python3.7/site-packages (from tensorboard<2.10,>=2.9->tensorflow==2.9.0) (2.34.0)\n",
      "Requirement already satisfied: google-auth-oauthlib<0.5,>=0.4.1 in /home/jupyterlab/conda/envs/python/lib/python3.7/site-packages (from tensorboard<2.10,>=2.9->tensorflow==2.9.0) (0.4.6)\n",
      "Requirement already satisfied: markdown>=2.6.8 in /home/jupyterlab/conda/envs/python/lib/python3.7/site-packages (from tensorboard<2.10,>=2.9->tensorflow==2.9.0) (3.4.3)\n",
      "Requirement already satisfied: requests<3,>=2.21.0 in /home/jupyterlab/conda/envs/python/lib/python3.7/site-packages (from tensorboard<2.10,>=2.9->tensorflow==2.9.0) (2.29.0)\n",
      "Requirement already satisfied: tensorboard-data-server<0.7.0,>=0.6.0 in /home/jupyterlab/conda/envs/python/lib/python3.7/site-packages (from tensorboard<2.10,>=2.9->tensorflow==2.9.0) (0.6.1)\n",
      "Requirement already satisfied: tensorboard-plugin-wit>=1.6.0 in /home/jupyterlab/conda/envs/python/lib/python3.7/site-packages (from tensorboard<2.10,>=2.9->tensorflow==2.9.0) (1.8.1)\n",
      "Requirement already satisfied: werkzeug>=1.0.1 in /home/jupyterlab/conda/envs/python/lib/python3.7/site-packages (from tensorboard<2.10,>=2.9->tensorflow==2.9.0) (2.2.3)\n",
      "Requirement already satisfied: cachetools<6.0,>=2.0.0 in /home/jupyterlab/conda/envs/python/lib/python3.7/site-packages (from google-auth<3,>=1.6.3->tensorboard<2.10,>=2.9->tensorflow==2.9.0) (5.5.0)\n",
      "Requirement already satisfied: pyasn1-modules>=0.2.1 in /home/jupyterlab/conda/envs/python/lib/python3.7/site-packages (from google-auth<3,>=1.6.3->tensorboard<2.10,>=2.9->tensorflow==2.9.0) (0.3.0)\n",
      "Requirement already satisfied: rsa<5,>=3.1.4 in /home/jupyterlab/conda/envs/python/lib/python3.7/site-packages (from google-auth<3,>=1.6.3->tensorboard<2.10,>=2.9->tensorflow==2.9.0) (4.9)\n",
      "Requirement already satisfied: requests-oauthlib>=0.7.0 in /home/jupyterlab/conda/envs/python/lib/python3.7/site-packages (from google-auth-oauthlib<0.5,>=0.4.1->tensorboard<2.10,>=2.9->tensorflow==2.9.0) (2.0.0)\n",
      "Requirement already satisfied: importlib-metadata>=4.4 in /home/jupyterlab/conda/envs/python/lib/python3.7/site-packages (from markdown>=2.6.8->tensorboard<2.10,>=2.9->tensorflow==2.9.0) (4.11.4)\n",
      "Requirement already satisfied: charset-normalizer<4,>=2 in /home/jupyterlab/conda/envs/python/lib/python3.7/site-packages (from requests<3,>=2.21.0->tensorboard<2.10,>=2.9->tensorflow==2.9.0) (3.1.0)\n",
      "Requirement already satisfied: idna<4,>=2.5 in /home/jupyterlab/conda/envs/python/lib/python3.7/site-packages (from requests<3,>=2.21.0->tensorboard<2.10,>=2.9->tensorflow==2.9.0) (3.4)\n",
      "Requirement already satisfied: urllib3<1.27,>=1.21.1 in /home/jupyterlab/conda/envs/python/lib/python3.7/site-packages (from requests<3,>=2.21.0->tensorboard<2.10,>=2.9->tensorflow==2.9.0) (1.26.15)\n",
      "Requirement already satisfied: certifi>=2017.4.17 in /home/jupyterlab/conda/envs/python/lib/python3.7/site-packages (from requests<3,>=2.21.0->tensorboard<2.10,>=2.9->tensorflow==2.9.0) (2023.5.7)\n",
      "Requirement already satisfied: MarkupSafe>=2.1.1 in /home/jupyterlab/conda/envs/python/lib/python3.7/site-packages (from werkzeug>=1.0.1->tensorboard<2.10,>=2.9->tensorflow==2.9.0) (2.1.1)\n",
      "Requirement already satisfied: zipp>=0.5 in /home/jupyterlab/conda/envs/python/lib/python3.7/site-packages (from importlib-metadata>=4.4->markdown>=2.6.8->tensorboard<2.10,>=2.9->tensorflow==2.9.0) (3.15.0)\n",
      "Requirement already satisfied: pyasn1<0.6.0,>=0.4.6 in /home/jupyterlab/conda/envs/python/lib/python3.7/site-packages (from pyasn1-modules>=0.2.1->google-auth<3,>=1.6.3->tensorboard<2.10,>=2.9->tensorflow==2.9.0) (0.5.0)\n",
      "Requirement already satisfied: oauthlib>=3.0.0 in /home/jupyterlab/conda/envs/python/lib/python3.7/site-packages (from requests-oauthlib>=0.7.0->google-auth-oauthlib<0.5,>=0.4.1->tensorboard<2.10,>=2.9->tensorflow==2.9.0) (3.2.2)\n",
      "Requirement already satisfied: pillow==8.1.0 in /home/jupyterlab/conda/envs/python/lib/python3.7/site-packages (8.1.0)\n"
     ]
    }
   ],
   "source": [
    "!pip install grpcio==1.24.3\n",
    "!pip install tensorflow==2.9.0\n",
    "!pip install pillow==8.1.0"
   ]
  },
  {
   "cell_type": "markdown",
   "metadata": {},
   "source": [
    "**Restart kernel for latest version of TensorFlow to be activated, then continue to the next section.**\n"
   ]
  },
  {
   "cell_type": "markdown",
   "metadata": {},
   "source": [
    "<b>Notice:</b> This notebook has been created with TensorFlow version 2.9.0, and might not work with other versions. Therefore we check:\n"
   ]
  },
  {
   "cell_type": "code",
   "execution_count": 3,
   "metadata": {
    "tags": []
   },
   "outputs": [
    {
     "name": "stderr",
     "output_type": "stream",
     "text": [
      "2024-08-27 03:38:49.356506: I tensorflow/core/util/util.cc:169] oneDNN custom operations are on. You may see slightly different numerical results due to floating-point round-off errors from different computation orders. To turn them off, set the environment variable `TF_ENABLE_ONEDNN_OPTS=0`.\n",
      "2024-08-27 03:38:49.374129: W tensorflow/stream_executor/platform/default/dso_loader.cc:64] Could not load dynamic library 'libcudart.so.11.0'; dlerror: libcudart.so.11.0: cannot open shared object file: No such file or directory\n",
      "2024-08-27 03:38:49.374157: I tensorflow/stream_executor/cuda/cudart_stub.cc:29] Ignore above cudart dlerror if you do not have a GPU set up on your machine.\n"
     ]
    }
   ],
   "source": [
    "import tensorflow as tf\n",
    "from IPython.display import Markdown, display\n",
    "\n",
    "def printmd(string):\n",
    "    display(Markdown('# <span style=\"color:red\">'+string+'</span>'))\n",
    "\n",
    "\n",
    "if not tf.__version__ == '2.9.0':\n",
    "    printmd('<<<<<!!!!! ERROR !!!! please upgrade to TensorFlow 2.9.0, or restart your Kernel (Kernel->Restart & Clear Output)>>>>>')"
   ]
  },
  {
   "cell_type": "markdown",
   "metadata": {},
   "source": [
    "Now, we load in all the packages that we use to create the net including the TensorFlow package:\n"
   ]
  },
  {
   "cell_type": "code",
   "execution_count": 4,
   "metadata": {
    "tags": []
   },
   "outputs": [
    {
     "ename": "ModuleNotFoundError",
     "evalue": "No module named 'utils'",
     "output_type": "error",
     "traceback": [
      "\u001b[0;31m---------------------------------------------------------------------------\u001b[0m",
      "\u001b[0;31mModuleNotFoundError\u001b[0m                       Traceback (most recent call last)",
      "\u001b[0;32m/tmp/ipykernel_3922/1638510450.py\u001b[0m in \u001b[0;36m<module>\u001b[0;34m\u001b[0m\n\u001b[1;32m      3\u001b[0m \u001b[0;34m\u001b[0m\u001b[0m\n\u001b[1;32m      4\u001b[0m \u001b[0;32mfrom\u001b[0m \u001b[0mPIL\u001b[0m \u001b[0;32mimport\u001b[0m \u001b[0mImage\u001b[0m\u001b[0;34m\u001b[0m\u001b[0;34m\u001b[0m\u001b[0m\n\u001b[0;32m----> 5\u001b[0;31m \u001b[0;32mfrom\u001b[0m \u001b[0mutils\u001b[0m \u001b[0;32mimport\u001b[0m \u001b[0mtile_raster_images\u001b[0m\u001b[0;34m\u001b[0m\u001b[0;34m\u001b[0m\u001b[0m\n\u001b[0m\u001b[1;32m      6\u001b[0m \u001b[0;32mimport\u001b[0m \u001b[0mmatplotlib\u001b[0m\u001b[0;34m.\u001b[0m\u001b[0mpyplot\u001b[0m \u001b[0;32mas\u001b[0m \u001b[0mplt\u001b[0m\u001b[0;34m\u001b[0m\u001b[0;34m\u001b[0m\u001b[0m\n\u001b[1;32m      7\u001b[0m \u001b[0mget_ipython\u001b[0m\u001b[0;34m(\u001b[0m\u001b[0;34m)\u001b[0m\u001b[0;34m.\u001b[0m\u001b[0mrun_line_magic\u001b[0m\u001b[0;34m(\u001b[0m\u001b[0;34m'matplotlib'\u001b[0m\u001b[0;34m,\u001b[0m \u001b[0;34m'inline'\u001b[0m\u001b[0;34m)\u001b[0m\u001b[0;34m\u001b[0m\u001b[0;34m\u001b[0m\u001b[0m\n",
      "\u001b[0;31mModuleNotFoundError\u001b[0m: No module named 'utils'"
     ]
    }
   ],
   "source": [
    "import tensorflow as tf\n",
    "import numpy as np\n",
    "\n",
    "from PIL import Image\n",
    "from utils import tile_raster_images\n",
    "import matplotlib.pyplot as plt\n",
    "%matplotlib inline"
   ]
  },
  {
   "cell_type": "markdown",
   "metadata": {},
   "source": [
    "<hr>\n"
   ]
  },
  {
   "cell_type": "markdown",
   "metadata": {},
   "source": [
    "<a id=\"ref2\"></a>\n",
    "<h3>RBM layers</h3>\n",
    "\n",
    "An RBM has two layers. The first layer of the RBM is called the <b>visible</b> (or input layer). Imagine that our toy example, has only vectors with 7 values, so the visible layer must have $V=7$ input nodes. \n",
    "The second layer is the <b>hidden</b> layer, which has $H$ neurons in our case. Each hidden node takes on values of either 0 or 1 (i.e., $h_i = 1$ or $h_i$ = 0), with a probability that is a logistic function of the inputs it receives from the other $V$ visible units, called for example, $p(h_i = 1)$. For our toy sample, we'll use 2 nodes in the hidden layer, so $H = 2$.\n",
    "\n",
    "<center><img src=\"https://ibm.box.com/shared/static/eu26opvcefgls6vnwuo29uwp0nudmokh.png\" alt=\"RBM Model\" style=\"width: 400px;\"></center>\n"
   ]
  },
  {
   "cell_type": "markdown",
   "metadata": {},
   "source": [
    "     \n",
    "\n",
    "Each node in the first layer also has a <b>bias</b>. We will denote the bias as $v_{bias}$, and this single value is shared among the $V$ visible units.\n",
    "\n",
    "The <b>bias</b> of the second is defined similarly as $h_{bias}$, and this single value among the $H$ hidden units.\n"
   ]
  },
  {
   "cell_type": "code",
   "execution_count": 5,
   "metadata": {
    "tags": []
   },
   "outputs": [
    {
     "name": "stderr",
     "output_type": "stream",
     "text": [
      "2024-08-27 03:39:23.634537: W tensorflow/stream_executor/platform/default/dso_loader.cc:64] Could not load dynamic library 'libcuda.so.1'; dlerror: libcuda.so.1: cannot open shared object file: No such file or directory\n",
      "2024-08-27 03:39:23.634664: W tensorflow/stream_executor/cuda/cuda_driver.cc:269] failed call to cuInit: UNKNOWN ERROR (303)\n",
      "2024-08-27 03:39:23.634698: I tensorflow/stream_executor/cuda/cuda_diagnostics.cc:156] kernel driver does not appear to be running on this host (jupyterlab-sirarmin): /proc/driver/nvidia/version does not exist\n",
      "2024-08-27 03:39:23.635215: I tensorflow/core/platform/cpu_feature_guard.cc:193] This TensorFlow binary is optimized with oneAPI Deep Neural Network Library (oneDNN) to use the following CPU instructions in performance-critical operations:  AVX2 AVX512F AVX512_VNNI FMA\n",
      "To enable them in other operations, rebuild TensorFlow with the appropriate compiler flags.\n"
     ]
    }
   ],
   "source": [
    "v_bias = tf.Variable(tf.zeros([7]), tf.float32)\n",
    "h_bias = tf.Variable(tf.zeros([2]), tf.float32)"
   ]
  },
  {
   "cell_type": "markdown",
   "metadata": {},
   "source": [
    "We have to define weights among the input layer and hidden layer nodes. In the weight matrix, the number of rows are equal to the input nodes, and the number of columns are equal to the output nodes. We define a tensor $\\mathbf{W}$ of shape = (7,2), where the number of visible neurons = 7, and the number of hidden neurons = 2. \n"
   ]
  },
  {
   "cell_type": "code",
   "execution_count": 6,
   "metadata": {
    "tags": []
   },
   "outputs": [],
   "source": [
    "W = tf.constant(np.random.normal(loc=0.0, scale=1.0, size=(7, 2)).astype(np.float32))"
   ]
  },
  {
   "cell_type": "markdown",
   "metadata": {},
   "source": [
    "<hr>\n"
   ]
  },
  {
   "cell_type": "markdown",
   "metadata": {},
   "source": [
    "<a id=\"ref3\"></a>\n",
    "<h3>What RBM can do after training?</h3>\n",
    "Think of RBM as a model that has been trained based on images of a dataset of many SUV and sedan cars. Also, imagine that the RBM network has only two hidden nodes, where one node encodes the weight and, and the other encodes the size.  \n",
    "In a sense, the different configurations represent different cars, where one is an SUV and the other is Sedan.  In a training process, through many forward and backward passes, the RBM adjust its weights to send a stronger signal to either the SUV node (0, 1) or the sedan node (1, 0) in the hidden layer, given the pixels of images. Now, given an SUV in hidden layer, which distribution of pixels should we expect? RBM can give you 2 things. First, it encodes your images in hidden layer. Second, it gives you the probability of observing a case, given some hidden values.\n",
    "\n",
    "\n",
    "<h3>The Inference Process</h3>\n",
    "\n",
    "RBM has two phases:\n",
    "<ul>\n",
    "    <li>Forward Pass</li>  \n",
    "    <li>Backward Pass or Reconstruction</li>\n",
    "</ul>\n",
    "\n",
    "<b>Phase 1) Forward pass:</b>  \n",
    "\n",
    "Input one training sample (one image) $\\mathbf{x}$ through all visible nodes, and pass it to all hidden nodes. Processing happens in each node in the hidden layer. This computation begins by making stochastic decisions about whether to transmit that input or not (i.e. to determine the state of each hidden layer).  First, the probability vector is computed using the input feature vector $\\mathbf{x}$, the weight matrix $\\mathbf{W}$, and the bias term $h_{bias}$, as \n",
    "\n",
    "\n",
    "$$p({h_j}|\\mathbf x)= \\sigma( \\sum_{i=1}^V W_{ij} x_i + h_{bias} )$$, \n",
    "\n",
    "where $\\sigma(z) = (1+e^{-z})^{-1}$ is the logistic function.\n",
    "\n",
    "\n",
    "So, what does $p({h_j})$ represent? It is the <b>probability distribution</b> of the hidden units. That is, RBM uses inputs $x_i$ to make predictions about hidden node activations. For example, imagine that the hidden node activation values are [0.51 0.84] for the first training item. It tells you that the conditional probability for each hidden neuron for Phase 1 is: \n",
    "\n",
    "$$p(h_{1} = 1|\\mathbf{v}) = 0.51$$\n",
    "$$p(h_{2} = 1|\\mathbf{v}) = 0.84$$\n",
    "\n",
    "As a result, for each row in the training set, vector of probabilities is generated.  In TensorFlow, this is referred to as a `tensor` with a shape of (1,2). \n",
    "\n",
    "We then turn unit $j$ with probability $p(h_{j}|\\mathbf{v})$, and turn it off with probability $1 - p(h_{j}|\\mathbf{v})$ by generating a uniform random number vector $\\mathbf{\\xi}$, and comparing it to the activation probability as \n",
    "\n",
    "<center>If $\\xi_j>p(h_{j}|\\mathbf{v})$, then $h_j=1$, else $h_j=0$.</center>\n",
    "\n",
    "\n",
    "Therefore, the conditional probability of a configuration of $\\mathbf{h}$ given $\\mathbf{v}$ (for a training sample) is:\n",
    "\n",
    "$$p(\\mathbf{h} \\mid \\mathbf{v}) = \\prod_{j=1}^H p(h_j \\mid \\mathbf{v})$$\n",
    "\n",
    "\n",
    "where $H$ is the number of hidden units.\n",
    "\n"
   ]
  },
  {
   "cell_type": "markdown",
   "metadata": {},
   "source": [
    "Before we go further, let's look at a toy example for one case out of all input. Assume that we have a trained RBM, and a very simple input vector, such as [1.0, 0.0, 0.0, 1.0, 0.0, 0.0, 0.0].   \n",
    "Let's see what the output of forward pass would look like:\n"
   ]
  },
  {
   "cell_type": "code",
   "execution_count": 7,
   "metadata": {
    "tags": []
   },
   "outputs": [
    {
     "name": "stdout",
     "output_type": "stream",
     "text": [
      "Input:  tf.Tensor([[1. 0. 0. 1. 0. 0. 0.]], shape=(1, 7), dtype=float32)\n",
      "hb:  tf.Tensor([0.1 0.1], shape=(2,), dtype=float32)\n",
      "w:  tf.Tensor(\n",
      "[[ 0.24184623  0.26580667]\n",
      " [ 0.49563366  0.5893651 ]\n",
      " [-1.031468    0.70636785]\n",
      " [ 0.3095672  -0.6113541 ]\n",
      " [ 0.09977861 -0.4504674 ]\n",
      " [ 0.28506246 -0.57686204]\n",
      " [ 0.14571676  0.01089439]], shape=(7, 2), dtype=float32)\n",
      "p(h|v):  tf.Tensor([[0.6573289  0.43891972]], shape=(1, 2), dtype=float32)\n",
      "h0 states: tf.Tensor([[0. 0.]], shape=(1, 2), dtype=float32)\n"
     ]
    }
   ],
   "source": [
    "X = tf.constant([[1.0, 0.0, 0.0, 1.0, 0.0, 0.0, 0.0]], tf.float32)\n",
    "\n",
    "v_state = X\n",
    "print (\"Input: \", v_state)\n",
    "\n",
    "h_bias = tf.constant([0.1, 0.1])\n",
    "print (\"hb: \", h_bias)\n",
    "print (\"w: \", W)\n",
    "\n",
    "# Calculate the probabilities of turning the hidden units on:\n",
    "h_prob = tf.nn.sigmoid(tf.matmul(v_state, W) + h_bias)  #probabilities of the hidden units\n",
    "print (\"p(h|v): \", h_prob)\n",
    "\n",
    "# Draw samples from the distribution:\n",
    "h_state = tf.nn.relu(tf.sign(h_prob - tf.random.uniform(tf.shape(h_prob)))) #states\n",
    "print (\"h0 states:\", h_state)"
   ]
  },
  {
   "cell_type": "markdown",
   "metadata": {},
   "source": [
    "<b>Phase 2) Backward Pass (Reconstruction):</b>\n",
    "The RBM reconstructs data by making several forward and backward passes between the visible and hidden layers.\n",
    "\n",
    "So, in the second phase (i.e. reconstruction phase), the samples from the hidden layer (i.e. $\\mathbf h$) becomes the input in the backward pass. The same weight matrix and visible layer biases are used to passed to the sigmoid function. The reproduced output is a reconstruction which is an approximation of the original input.\n"
   ]
  },
  {
   "cell_type": "code",
   "execution_count": 8,
   "metadata": {
    "tags": []
   },
   "outputs": [
    {
     "name": "stdout",
     "output_type": "stream",
     "text": [
      "b:  tf.Tensor([0.1 0.2 0.1 0.1 0.1 0.2 0.1], shape=(7,), dtype=float32)\n",
      "p(vi∣h):  tf.Tensor([[0.5249792 0.549834  0.5249792 0.5249792 0.5249792 0.549834  0.5249792]], shape=(1, 7), dtype=float32)\n",
      "v probability states:  tf.Tensor([[1. 1. 1. 1. 1. 0. 1.]], shape=(1, 7), dtype=float32)\n"
     ]
    }
   ],
   "source": [
    "vb = tf.constant([0.1, 0.2, 0.1, 0.1, 0.1, 0.2, 0.1])\n",
    "print (\"b: \", vb)\n",
    "v_prob = tf.nn.sigmoid(tf.matmul(h_state, tf.transpose(W)) + vb)\n",
    "print (\"p(vi∣h): \", v_prob)\n",
    "v_state = tf.nn.relu(tf.sign(v_prob - tf.random.uniform(tf.shape(v_prob))))\n",
    "print (\"v probability states: \", v_state)"
   ]
  },
  {
   "cell_type": "markdown",
   "metadata": {},
   "source": [
    "RBM learns a probability distribution over the input, and then, after being trained, the RBM can generate new samples from the learned probability distribution. As you know, <b>probability distribution</b>, is a mathematical function that provides the probabilities of occurrence of different possible outcomes in an experiment.\n",
    "\n",
    "The (conditional) probability distribution over the visible units v is given by\n",
    "\n",
    "$$p(\\mathbf{v} \\mid \\mathbf{h}) = \\prod_{i=1}^V p(v_i \\mid \\mathbf{h}),$$\n",
    "\n",
    "\n",
    "where,\n",
    "\n",
    "$$p(v_i \\mid \\mathbf{h}) = \\sigma\\left(\\sum_{j=1}^H W_{ji} h_j + v_{bias} \\right)$$\n",
    "\n",
    "so, given current state of hidden units and weights, what is the probability of generating [1. 0. 0. 1. 0. 0. 0.] in reconstruction phase, based on the above <b>probability distribution</b> function?\n"
   ]
  },
  {
   "cell_type": "code",
   "execution_count": 9,
   "metadata": {
    "tags": []
   },
   "outputs": [
    {
     "name": "stdout",
     "output_type": "stream",
     "text": [
      "input X: [[1. 0. 0. 1. 0. 0. 0.]]\n",
      "probablity vector: [0.5249792 0.549834  0.5249792 0.5249792 0.5249792 0.549834  0.5249792]\n",
      "probability of generating X:  0.005986424\n"
     ]
    }
   ],
   "source": [
    "inp = X\n",
    "print(\"input X:\" , inp.numpy())\n",
    "\n",
    "print(\"probablity vector:\" , v_prob[0].numpy())\n",
    "v_probability = 1\n",
    "\n",
    "for elm, p in zip(inp[0],v_prob[0]) :\n",
    "    if elm ==1:\n",
    "        v_probability *= p\n",
    "    else:\n",
    "        v_probability *= (1-p)\n",
    "\n",
    "print(\"probability of generating X: \" , v_probability.numpy())"
   ]
  },
  {
   "cell_type": "markdown",
   "metadata": {},
   "source": [
    "How similar are vectors $\\mathbf{x}$ and $\\mathbf{v}$? Of course, the reconstructed values most likely will not look anything like the input vector, because our network has not been trained yet. Our objective is to train the model in such a way that the input vector and reconstructed vector to be same. Therefore, based on how different the input values look to the ones that we just reconstructed, the weights are adjusted. \n"
   ]
  },
  {
   "cell_type": "markdown",
   "metadata": {},
   "source": [
    "<hr>\n"
   ]
  },
  {
   "cell_type": "markdown",
   "metadata": {},
   "source": [
    "\n",
    "<h2>MNIST</h2>\n"
   ]
  },
  {
   "cell_type": "markdown",
   "metadata": {},
   "source": [
    "We will be using the MNIST dataset to practice the usage of RBMs. The following cell loads the MNIST dataset.\n"
   ]
  },
  {
   "cell_type": "code",
   "execution_count": 10,
   "metadata": {
    "tags": []
   },
   "outputs": [],
   "source": [
    "#loading training and test data\n",
    "mnist = tf.keras.datasets.mnist\n",
    "(trX, trY), (teX, teY) = mnist.load_data()\n",
    "\n",
    "# showing an example of the Flatten class and operation\n",
    "from tensorflow.keras.layers import Flatten\n",
    "flatten = Flatten(dtype='float32')\n",
    "trX = flatten(trX/255.0)\n",
    "trY = flatten(trY/255.0)"
   ]
  },
  {
   "cell_type": "markdown",
   "metadata": {},
   "source": [
    "Lets look at the dimension of the images.\n"
   ]
  },
  {
   "cell_type": "markdown",
   "metadata": {},
   "source": [
    "MNIST images have 784 pixels, so the visible layer must have 784 input nodes.  For our case, we'll use 50 nodes in the hidden layer, so i = 50.\n"
   ]
  },
  {
   "cell_type": "code",
   "execution_count": 11,
   "metadata": {
    "tags": []
   },
   "outputs": [],
   "source": [
    "vb = tf.Variable(tf.zeros([784]), tf.float32)\n",
    "hb = tf.Variable(tf.zeros([50]), tf.float32)"
   ]
  },
  {
   "cell_type": "markdown",
   "metadata": {},
   "source": [
    "Let $\\mathbf W$ be the Tensor of 784x50 (784 - number of visible neurons, 50 - number of hidden neurons) that represents weights between the neurons. \n"
   ]
  },
  {
   "cell_type": "code",
   "execution_count": 12,
   "metadata": {
    "tags": []
   },
   "outputs": [],
   "source": [
    "W = tf.Variable(tf.zeros([784,50]), tf.float32)"
   ]
  },
  {
   "cell_type": "markdown",
   "metadata": {},
   "source": [
    "Lets define the visible layer:\n"
   ]
  },
  {
   "cell_type": "code",
   "execution_count": 13,
   "metadata": {
    "tags": []
   },
   "outputs": [
    {
     "data": {
      "text/plain": [
       "<tf.Tensor: shape=(1, 50), dtype=float32, numpy=\n",
       "array([[0., 0., 0., 0., 0., 0., 0., 0., 0., 0., 0., 0., 0., 0., 0., 0.,\n",
       "        0., 0., 0., 0., 0., 0., 0., 0., 0., 0., 0., 0., 0., 0., 0., 0.,\n",
       "        0., 0., 0., 0., 0., 0., 0., 0., 0., 0., 0., 0., 0., 0., 0., 0.,\n",
       "        0., 0.]], dtype=float32)>"
      ]
     },
     "execution_count": 13,
     "metadata": {},
     "output_type": "execute_result"
    }
   ],
   "source": [
    "v0_state = tf.Variable(tf.zeros([784]), tf.float32)\n",
    "\n",
    "#testing to see if the matrix product works\n",
    "tf.matmul( [v0_state], W)"
   ]
  },
  {
   "cell_type": "markdown",
   "metadata": {},
   "source": [
    "Now, we can define hidden layer:\n"
   ]
  },
  {
   "cell_type": "code",
   "execution_count": 14,
   "metadata": {
    "tags": []
   },
   "outputs": [
    {
     "name": "stdout",
     "output_type": "stream",
     "text": [
      "h0_state shape:  tf.Tensor([ 1 50], shape=(2,), dtype=int32)\n",
      "first 15 hidden states:  tf.Tensor([1. 1. 1. 1. 1. 0. 1. 1. 1. 0. 1. 0. 0. 1. 0.], shape=(15,), dtype=float32)\n"
     ]
    }
   ],
   "source": [
    "#computing the hidden nodes probability vector and checking shape\n",
    "h0_prob = tf.nn.sigmoid(tf.matmul([v0_state], W) + hb)  #probabilities of the hidden units\n",
    "print(\"h0_state shape: \" , tf.shape(h0_prob))\n",
    "\n",
    "#defining a function to return only the generated hidden states \n",
    "def hidden_layer(v0_state, W, hb):\n",
    "    h0_prob = tf.nn.sigmoid(tf.matmul([v0_state], W) + hb)  #probabilities of the hidden units\n",
    "    h0_state = tf.nn.relu(tf.sign(h0_prob - tf.random.uniform(tf.shape(h0_prob)))) #sample_h_given_X\n",
    "    return h0_state\n",
    "\n",
    "\n",
    "h0_state = hidden_layer(v0_state, W, hb)\n",
    "print(\"first 15 hidden states: \", h0_state[0][0:15])"
   ]
  },
  {
   "cell_type": "markdown",
   "metadata": {},
   "source": [
    "Now, we define reconstruction part:\n"
   ]
  },
  {
   "cell_type": "code",
   "execution_count": 15,
   "metadata": {
    "tags": []
   },
   "outputs": [
    {
     "name": "stdout",
     "output_type": "stream",
     "text": [
      "hidden state shape:  (1, 50)\n",
      "v0 state shape:   (784,)\n",
      "v1 state shape:   (784,)\n"
     ]
    }
   ],
   "source": [
    "def reconstructed_output(h0_state, W, vb):\n",
    "    v1_prob = tf.nn.sigmoid(tf.matmul(h0_state, tf.transpose(W)) + vb) \n",
    "    v1_state = tf.nn.relu(tf.sign(v1_prob - tf.random.uniform(tf.shape(v1_prob)))) #sample_v_given_h\n",
    "    return v1_state[0]\n",
    "\n",
    "v1_state = reconstructed_output(h0_state, W, vb)\n",
    "print(\"hidden state shape: \", h0_state.shape)\n",
    "print(\"v0 state shape:  \", v0_state.shape)\n",
    "print(\"v1 state shape:  \", v1_state.shape)"
   ]
  },
  {
   "cell_type": "markdown",
   "metadata": {},
   "source": [
    "<h3>What is the objective function?</h3>\n",
    "\n",
    "<b>Goal</b>: Maximize the likelihood of our data being drawn from that distribution\n",
    "\n",
    "<b>Calculate error:</b>  \n",
    "In each epoch, we compute the \"error\" as a sum of the squared difference between step 1 and step n,\n",
    "e.g the error shows the difference between the data and its reconstruction.\n",
    "\n",
    "<b>Note:</b> tf.reduce_mean computes the mean of elements across dimensions of a tensor.\n"
   ]
  },
  {
   "cell_type": "code",
   "execution_count": 16,
   "metadata": {
    "tags": []
   },
   "outputs": [
    {
     "name": "stdout",
     "output_type": "stream",
     "text": [
      "error 0.49617347\n"
     ]
    }
   ],
   "source": [
    "def error(v0_state, v1_state):\n",
    "    return tf.reduce_mean(tf.square(v0_state - v1_state))\n",
    "\n",
    "err = tf.reduce_mean(tf.square(v0_state - v1_state))\n",
    "print(\"error\" , err.numpy())"
   ]
  },
  {
   "cell_type": "markdown",
   "metadata": {},
   "source": [
    "<a id=\"ref4\"></a>\n",
    "<h3>Training the Model</h3>\n",
    "<b>Warning...</b> The following part is math-heavy, but you can skip it if you just want to run the cells in the next section.\n",
    "\n",
    "As mentioned, we want to give a high probability to the input data we train on. So, in order to train an RBM, we have to maximize the product of probabilities assigned to all rows $\\mathbf{v}$ (images) in the training set $\\mathbf{V}$ (a matrix, where each row of it is treated as a visible vector $\\mathbf{v}$)\n",
    "\n",
    "$$\\arg \\max_W \\prod_{\\mathbf{v}\\in\\mathbf{V}_T} p(\\mathbf{v})$$\n",
    "\n",
    "\n",
    "which is equivalent to maximizing the expectation of the log probability, given as\n",
    "\n",
    "$$\\arg\\max_W\\left[ \\mathbb{E} \\left(\\prod_{\\mathbf v\\in \\mathbf V}\\text{log} \\left(p(\\mathbf v)\\right) \\right) \\right].$$\n",
    "\n",
    "\n",
    "So, we have to update the weights $W_{ij}$  to increase $p(\\mathbf{v})$ for all $\\mathbf{v}$ in our training data during training. So we have to calculate the derivative:\n",
    "\n",
    "\n",
    "$$\\frac{\\partial \\log p(\\mathbf v)}{\\partial W_{ij}}$$\n",
    "\n",
    "This cannot be easily done by typical <b>gradient descent (SGD)</b>, so we can use another approach, which has 2 steps:\n",
    "<ol>\n",
    "    <li>Gibbs Sampling</li>\n",
    "    <li>Contrastive Divergence</li>\n",
    "</ol>    \n",
    "    \n",
    "<h3>Gibbs Sampling</h3>   \n",
    "\n",
    "<h4>Gibbs Sampling Step 1</h4> \n",
    "Given an input vector $\\mathbf{v}$, we are using $p(\\mathbf{h}|\\mathbf{v})$ to predict the hidden values $\\mathbf{h}$. \n",
    "  $$p({h_j}|\\mathbf v)= \\sigma\\left(\\sum_{i=1}^V W_{ij} v_i + h_{bias} \\right)$$\n",
    "The samples are generated from this distribution by generating the uniform random variate vector $\\mathbf{\\xi} \\sim U[0,1]$ of length $H$ and comparing to the computed probabilities as\n",
    "\n",
    "\n",
    "<center>If $\\xi_j>p(h_{j}|\\mathbf{v})$, then $h_j=1$, else $h_j=0$.</center>\n",
    "\n",
    "\n",
    "<h4>Gibbs Sampling Step 2</h4> \n",
    "Then, knowing the hidden values, we use $p(\\mathbf v| \\mathbf h)$ for reconstructing of new input values v. \n",
    "\n",
    "   $$p({v_i}|\\mathbf h)= \\sigma\\left(\\sum_{j=1}^H W^{T}_{ij} h_j + v_{bias} \\right)$$\n",
    "\n",
    "\n",
    "The samples are generated from this distribution by generating a uniform random variate vector $\\mathbf{\\xi} \\sim U[0,1]$ of length $V$ and comparing to the computed probabilities as\n",
    "\n",
    "<center>If $\\xi_i>p(v_{i}|\\mathbf{h})$, then $v_i=1$, else $v_i=0$.</center>\n",
    "\n",
    "Let vectors $\\mathbf v_k$ and $\\mathbf h_k$ be for the $k$th iteration.  In general, the $kth$ state is generrated as: \n",
    "\n",
    "\n",
    "    \n",
    "<b>Iteration</b> $k$: \n",
    "\n",
    "$$\\mathbf v_{k-1} \\Rightarrow p(\\mathbf h_{k-1}|\\mathbf v_{k-1})\\Rightarrow \\mathbf h_{k-1}\\Rightarrow p(\\mathbf v_{k}|\\mathbf h_{k-1})\\Rightarrow \\mathbf v_k$$       \n",
    "    \n",
    "<h3>Contrastive Divergence (CD-k)</h3>\n",
    "The update of the weight matrix is done during the Contrastive Divergence step. \n",
    "\n",
    "Vectors v0 and vk are used to calculate the activation probabilities for hidden values h0 and hk. The difference between the outer products of those probabilities with input vectors v0 and vk results in the update matrix:\n",
    "\n",
    "\n",
    "$$\\Delta \\mathbf W_k =\\mathbf v_k \\otimes \\mathbf h_k - \\mathbf v_{k-1} \\otimes \\mathbf h_{k-1}$$\n",
    "\n",
    "Contrastive Divergence is actually matrix of values that is computed and used to adjust values of the $\\mathbf W$ matrix. Changing $\\mathbf W$ incrementally leads to training of the  $\\mathbf W$ values. Then, on each step (epoch), $\\mathbf W$ is updated using the following:\n",
    "\n",
    "$$\\mathbf W_k = \\mathbf W_{k-1} + \\alpha * \\Delta \\mathbf W_k$$\n",
    "\n",
    "\n",
    "\n",
    "Reconstruction steps:\n",
    "<ul>\n",
    "    <li> Get one data point from data set, like <i>x</i>, and pass it through the following steps:</li>\n",
    "    \n",
    "<b>Iteration</b> $k=1$: \n",
    "    \n",
    "Sampling (starting with input image)\n",
    "    $$\\mathbf x = \\mathbf v_0 \\Rightarrow p(\\mathbf h_0|\\mathbf v_0)\\Rightarrow \\mathbf h_0 \\Rightarrow p(\\mathbf v_1|\\mathbf h_0)\\Rightarrow \\mathbf v_1$$   \n",
    "    followed by the CD-k step\n",
    "$$\\Delta \\mathbf W_1 =\\mathbf v_1 \\otimes \\mathbf h_1 - \\mathbf v_{0} \\otimes \\mathbf h_{0}$$     \n",
    "$$\\mathbf W_1 = \\mathbf W_{0} + \\alpha * \\Delta \\mathbf W_1$$ \n",
    " \n",
    "<li> $\\mathbf v_1$ is the reconstruction of $\\mathbf x$ sent to the next iteration).</li>\n",
    "\n",
    "<b>Iteration</b> $k=2$: \n",
    "\n",
    "Sampling (starting with $\\mathbf v_1$)\n",
    "\n",
    "$$\\mathbf v_1 \\Rightarrow p(\\mathbf h_1|\\mathbf v_1)\\Rightarrow \\mathbf h_1\\Rightarrow p(\\mathbf v_2|\\mathbf h_1)\\Rightarrow \\mathbf v_2$$   \n",
    "\n",
    "followed by the CD-k step\n",
    "$$\\Delta \\mathbf W_2 =\\mathbf v_2 \\otimes \\mathbf h_2 - \\mathbf v_{1} \\otimes \\mathbf h_{1}$$     \n",
    "$$\\mathbf W_2 = \\mathbf W_{1} + \\alpha * \\Delta \\mathbf W_2$$ \n",
    "\n",
    "<li> $\\mathbf v_2$ is the reconstruction of $\\mathbf v_1$ sent to the next iteration).</li>    \n",
    "      \n",
    "<b>Iteration</b> $k=K$:\n",
    "    \n",
    "Sampling (starting with $\\mathbf v_{K-1}$)\n",
    "\n",
    "$$\\mathbf v_{K-1} \\Rightarrow p(\\mathbf h_{K-1}|\\mathbf v_{K-1})\\Rightarrow \\mathbf h_{K-1}\\Rightarrow p(\\mathbf v_K|\\mathbf h_{K-1})\\Rightarrow \\mathbf v_K$$   \n",
    "\n",
    "followed by the CD-k step\n",
    "$$\\Delta \\mathbf W_K =\\mathbf v_K \\otimes \\mathbf h_K - \\mathbf v_{K-1} \\otimes \\mathbf h_{K-1}$$     \n",
    "$$\\mathbf W_K = \\mathbf W_{K-1} + \\alpha * \\Delta \\mathbf W_K$$ \n",
    "    \n",
    "<b>What is $\\alpha$?</b>  \n",
    "Here, alpha is some small step size, and is also known as the \"learning rate\".\n"
   ]
  },
  {
   "cell_type": "markdown",
   "metadata": {},
   "source": [
    "$K$ is adjustable, and good performance can be achieved with $K=1$, so that we just take one set of sampling steps per image.\n"
   ]
  },
  {
   "cell_type": "code",
   "execution_count": 17,
   "metadata": {
    "tags": []
   },
   "outputs": [],
   "source": [
    "h1_prob = tf.nn.sigmoid(tf.matmul([v1_state], W) + hb)\n",
    "h1_state = tf.nn.relu(tf.sign(h1_prob - tf.random.uniform(tf.shape(h1_prob)))) #sample_h_given_X"
   ]
  },
  {
   "cell_type": "markdown",
   "metadata": {},
   "source": [
    "Lets look at the error of the first run:\n"
   ]
  },
  {
   "cell_type": "code",
   "execution_count": 18,
   "metadata": {
    "tags": []
   },
   "outputs": [
    {
     "name": "stdout",
     "output_type": "stream",
     "text": [
      "error:  tf.Tensor(0.49617347, shape=(), dtype=float32)\n"
     ]
    }
   ],
   "source": [
    "print(\"error: \", error(v0_state, v1_state))"
   ]
  },
  {
   "cell_type": "code",
   "execution_count": 19,
   "metadata": {
    "tags": []
   },
   "outputs": [
    {
     "name": "stdout",
     "output_type": "stream",
     "text": [
      "Epoch: 0 batch #: 1  of 300 sample #: 199 reconstruction error: 0.174002\n",
      "Epoch: 0 batch #: 2  of 300 sample #: 199 reconstruction error: 0.212968\n",
      "Epoch: 0 batch #: 3  of 300 sample #: 199 reconstruction error: 0.110506\n",
      "Epoch: 0 batch #: 4  of 300 sample #: 199 reconstruction error: 0.129163\n",
      "Epoch: 0 batch #: 5  of 300 sample #: 199 reconstruction error: 0.115619\n",
      "Epoch: 0 batch #: 6  of 300 sample #: 199 reconstruction error: 0.196108\n",
      "Epoch: 0 batch #: 7  of 300 sample #: 199 reconstruction error: 0.114569\n",
      "Epoch: 0 batch #: 8  of 300 sample #: 199 reconstruction error: 0.122025\n",
      "Epoch: 0 batch #: 9  of 300 sample #: 199 reconstruction error: 0.097261\n",
      "Epoch: 0 batch #: 10  of 300 sample #: 199 reconstruction error: 0.170179\n",
      "Epoch: 0 batch #: 11  of 300 sample #: 199 reconstruction error: 0.089840\n",
      "Epoch: 0 batch #: 12  of 300 sample #: 199 reconstruction error: 0.151987\n",
      "Epoch: 0 batch #: 13  of 300 sample #: 199 reconstruction error: 0.061758\n",
      "Epoch: 0 batch #: 14  of 300 sample #: 199 reconstruction error: 0.110185\n",
      "Epoch: 0 batch #: 15  of 300 sample #: 199 reconstruction error: 0.112486\n",
      "Epoch: 0 batch #: 16  of 300 sample #: 199 reconstruction error: 0.100575\n",
      "Epoch: 0 batch #: 17  of 300 sample #: 199 reconstruction error: 0.075863\n",
      "Epoch: 0 batch #: 18  of 300 sample #: 199 reconstruction error: 0.123521\n",
      "Epoch: 0 batch #: 19  of 300 sample #: 199 reconstruction error: 0.140761\n",
      "Epoch: 0 batch #: 20  of 300 sample #: 199 reconstruction error: 0.092567\n",
      "Epoch: 0 batch #: 21  of 300 sample #: 199 reconstruction error: 0.106960\n",
      "Epoch: 0 batch #: 22  of 300 sample #: 199 reconstruction error: 0.084222\n",
      "Epoch: 0 batch #: 23  of 300 sample #: 199 reconstruction error: 0.118308\n",
      "Epoch: 0 batch #: 24  of 300 sample #: 199 reconstruction error: 0.139650\n",
      "Epoch: 0 batch #: 25  of 300 sample #: 199 reconstruction error: 0.101120\n",
      "Epoch: 0 batch #: 26  of 300 sample #: 199 reconstruction error: 0.091749\n",
      "Epoch: 0 batch #: 27  of 300 sample #: 199 reconstruction error: 0.102686\n",
      "Epoch: 0 batch #: 28  of 300 sample #: 199 reconstruction error: 0.088537\n",
      "Epoch: 0 batch #: 29  of 300 sample #: 199 reconstruction error: 0.106853\n",
      "Epoch: 0 batch #: 30  of 300 sample #: 199 reconstruction error: 0.086747\n",
      "Epoch: 0 batch #: 31  of 300 sample #: 199 reconstruction error: 0.103083\n",
      "Epoch: 0 batch #: 32  of 300 sample #: 199 reconstruction error: 0.114417\n",
      "Epoch: 0 batch #: 33  of 300 sample #: 199 reconstruction error: 0.063644\n",
      "Epoch: 0 batch #: 34  of 300 sample #: 199 reconstruction error: 0.075130\n",
      "Epoch: 0 batch #: 35  of 300 sample #: 199 reconstruction error: 0.068618\n",
      "Epoch: 0 batch #: 36  of 300 sample #: 199 reconstruction error: 0.089951\n",
      "Epoch: 0 batch #: 37  of 300 sample #: 199 reconstruction error: 0.066435\n",
      "Epoch: 0 batch #: 38  of 300 sample #: 199 reconstruction error: 0.062580\n",
      "Epoch: 0 batch #: 39  of 300 sample #: 199 reconstruction error: 0.092307\n",
      "Epoch: 0 batch #: 40  of 300 sample #: 199 reconstruction error: 0.106632\n",
      "Epoch: 0 batch #: 41  of 300 sample #: 199 reconstruction error: 0.105839\n",
      "Epoch: 0 batch #: 42  of 300 sample #: 199 reconstruction error: 0.065309\n",
      "Epoch: 0 batch #: 43  of 300 sample #: 199 reconstruction error: 0.122502\n",
      "Epoch: 0 batch #: 44  of 300 sample #: 199 reconstruction error: 0.086406\n",
      "Epoch: 0 batch #: 45  of 300 sample #: 199 reconstruction error: 0.056260\n",
      "Epoch: 0 batch #: 46  of 300 sample #: 199 reconstruction error: 0.026939\n",
      "Epoch: 0 batch #: 47  of 300 sample #: 199 reconstruction error: 0.035083\n",
      "Epoch: 0 batch #: 48  of 300 sample #: 199 reconstruction error: 0.037610\n",
      "Epoch: 0 batch #: 49  of 300 sample #: 199 reconstruction error: 0.123082\n",
      "Epoch: 0 batch #: 50  of 300 sample #: 199 reconstruction error: 0.056160\n",
      "Epoch: 0 batch #: 51  of 300 sample #: 199 reconstruction error: 0.066097\n",
      "Epoch: 0 batch #: 52  of 300 sample #: 199 reconstruction error: 0.034785\n",
      "Epoch: 0 batch #: 53  of 300 sample #: 199 reconstruction error: 0.120358\n",
      "Epoch: 0 batch #: 54  of 300 sample #: 199 reconstruction error: 0.052774\n",
      "Epoch: 0 batch #: 55  of 300 sample #: 199 reconstruction error: 0.104292\n",
      "Epoch: 0 batch #: 56  of 300 sample #: 199 reconstruction error: 0.055380\n",
      "Epoch: 0 batch #: 57  of 300 sample #: 199 reconstruction error: 0.048620\n",
      "Epoch: 0 batch #: 58  of 300 sample #: 199 reconstruction error: 0.082520\n",
      "Epoch: 0 batch #: 59  of 300 sample #: 199 reconstruction error: 0.063744\n",
      "Epoch: 0 batch #: 60  of 300 sample #: 199 reconstruction error: 0.097461\n",
      "Epoch: 0 batch #: 61  of 300 sample #: 199 reconstruction error: 0.072103\n",
      "Epoch: 0 batch #: 62  of 300 sample #: 199 reconstruction error: 0.083364\n",
      "Epoch: 0 batch #: 63  of 300 sample #: 199 reconstruction error: 0.053625\n",
      "Epoch: 0 batch #: 64  of 300 sample #: 199 reconstruction error: 0.092185\n",
      "Epoch: 0 batch #: 65  of 300 sample #: 199 reconstruction error: 0.095599\n",
      "Epoch: 0 batch #: 66  of 300 sample #: 199 reconstruction error: 0.060296\n",
      "Epoch: 0 batch #: 67  of 300 sample #: 199 reconstruction error: 0.051025\n",
      "Epoch: 0 batch #: 68  of 300 sample #: 199 reconstruction error: 0.068791\n",
      "Epoch: 0 batch #: 69  of 300 sample #: 199 reconstruction error: 0.079971\n",
      "Epoch: 0 batch #: 70  of 300 sample #: 199 reconstruction error: 0.082268\n",
      "Epoch: 0 batch #: 71  of 300 sample #: 199 reconstruction error: 0.086144\n",
      "Epoch: 0 batch #: 72  of 300 sample #: 199 reconstruction error: 0.072065\n",
      "Epoch: 0 batch #: 73  of 300 sample #: 199 reconstruction error: 0.096422\n",
      "Epoch: 0 batch #: 74  of 300 sample #: 199 reconstruction error: 0.108815\n",
      "Epoch: 0 batch #: 75  of 300 sample #: 199 reconstruction error: 0.050849\n",
      "Epoch: 0 batch #: 76  of 300 sample #: 199 reconstruction error: 0.078771\n",
      "Epoch: 0 batch #: 77  of 300 sample #: 199 reconstruction error: 0.102519\n",
      "Epoch: 0 batch #: 78  of 300 sample #: 199 reconstruction error: 0.105940\n",
      "Epoch: 0 batch #: 79  of 300 sample #: 199 reconstruction error: 0.096747\n",
      "Epoch: 0 batch #: 80  of 300 sample #: 199 reconstruction error: 0.031976\n",
      "Epoch: 0 batch #: 81  of 300 sample #: 199 reconstruction error: 0.055931\n",
      "Epoch: 0 batch #: 82  of 300 sample #: 199 reconstruction error: 0.056432\n",
      "Epoch: 0 batch #: 83  of 300 sample #: 199 reconstruction error: 0.091501\n",
      "Epoch: 0 batch #: 84  of 300 sample #: 199 reconstruction error: 0.094094\n",
      "Epoch: 0 batch #: 85  of 300 sample #: 199 reconstruction error: 0.046688\n",
      "Epoch: 0 batch #: 86  of 300 sample #: 199 reconstruction error: 0.078946\n",
      "Epoch: 0 batch #: 87  of 300 sample #: 199 reconstruction error: 0.071574\n",
      "Epoch: 0 batch #: 88  of 300 sample #: 199 reconstruction error: 0.023135\n",
      "Epoch: 0 batch #: 89  of 300 sample #: 199 reconstruction error: 0.067026\n",
      "Epoch: 0 batch #: 90  of 300 sample #: 199 reconstruction error: 0.067237\n",
      "Epoch: 0 batch #: 91  of 300 sample #: 199 reconstruction error: 0.053343\n",
      "Epoch: 0 batch #: 92  of 300 sample #: 199 reconstruction error: 0.092359\n",
      "Epoch: 0 batch #: 93  of 300 sample #: 199 reconstruction error: 0.116473\n",
      "Epoch: 0 batch #: 94  of 300 sample #: 199 reconstruction error: 0.115060\n",
      "Epoch: 0 batch #: 95  of 300 sample #: 199 reconstruction error: 0.082757\n",
      "Epoch: 0 batch #: 96  of 300 sample #: 199 reconstruction error: 0.039535\n",
      "Epoch: 0 batch #: 97  of 300 sample #: 199 reconstruction error: 0.101949\n",
      "Epoch: 0 batch #: 98  of 300 sample #: 199 reconstruction error: 0.082432\n",
      "Epoch: 0 batch #: 99  of 300 sample #: 199 reconstruction error: 0.066009\n",
      "Epoch: 0 batch #: 100  of 300 sample #: 199 reconstruction error: 0.109703\n",
      "Epoch: 0 batch #: 101  of 300 sample #: 199 reconstruction error: 0.065174\n",
      "Epoch: 0 batch #: 102  of 300 sample #: 199 reconstruction error: 0.081742\n",
      "Epoch: 0 batch #: 103  of 300 sample #: 199 reconstruction error: 0.077309\n",
      "Epoch: 0 batch #: 104  of 300 sample #: 199 reconstruction error: 0.068967\n",
      "Epoch: 0 batch #: 105  of 300 sample #: 199 reconstruction error: 0.065413\n",
      "Epoch: 0 batch #: 106  of 300 sample #: 199 reconstruction error: 0.116866\n",
      "Epoch: 0 batch #: 107  of 300 sample #: 199 reconstruction error: 0.134486\n",
      "Epoch: 0 batch #: 108  of 300 sample #: 199 reconstruction error: 0.059363\n",
      "Epoch: 0 batch #: 109  of 300 sample #: 199 reconstruction error: 0.119669\n",
      "Epoch: 0 batch #: 110  of 300 sample #: 199 reconstruction error: 0.062063\n",
      "Epoch: 0 batch #: 111  of 300 sample #: 199 reconstruction error: 0.105734\n",
      "Epoch: 0 batch #: 112  of 300 sample #: 199 reconstruction error: 0.051170\n",
      "Epoch: 0 batch #: 113  of 300 sample #: 199 reconstruction error: 0.081212\n",
      "Epoch: 0 batch #: 114  of 300 sample #: 199 reconstruction error: 0.072919\n",
      "Epoch: 0 batch #: 115  of 300 sample #: 199 reconstruction error: 0.063572\n",
      "Epoch: 0 batch #: 116  of 300 sample #: 199 reconstruction error: 0.048024\n",
      "Epoch: 0 batch #: 117  of 300 sample #: 199 reconstruction error: 0.031143\n",
      "Epoch: 0 batch #: 118  of 300 sample #: 199 reconstruction error: 0.071525\n",
      "Epoch: 0 batch #: 119  of 300 sample #: 199 reconstruction error: 0.111328\n",
      "Epoch: 0 batch #: 120  of 300 sample #: 199 reconstruction error: 0.086535\n",
      "Epoch: 0 batch #: 121  of 300 sample #: 199 reconstruction error: 0.042352\n",
      "Epoch: 0 batch #: 122  of 300 sample #: 199 reconstruction error: 0.108876\n",
      "Epoch: 0 batch #: 123  of 300 sample #: 199 reconstruction error: 0.062967\n",
      "Epoch: 0 batch #: 124  of 300 sample #: 199 reconstruction error: 0.086259\n",
      "Epoch: 0 batch #: 125  of 300 sample #: 199 reconstruction error: 0.048122\n",
      "Epoch: 0 batch #: 126  of 300 sample #: 199 reconstruction error: 0.092965\n",
      "Epoch: 0 batch #: 127  of 300 sample #: 199 reconstruction error: 0.081571\n",
      "Epoch: 0 batch #: 128  of 300 sample #: 199 reconstruction error: 0.070383\n",
      "Epoch: 0 batch #: 129  of 300 sample #: 199 reconstruction error: 0.045138\n",
      "Epoch: 0 batch #: 130  of 300 sample #: 199 reconstruction error: 0.079876\n",
      "Epoch: 0 batch #: 131  of 300 sample #: 199 reconstruction error: 0.072816\n",
      "Epoch: 0 batch #: 132  of 300 sample #: 199 reconstruction error: 0.054734\n",
      "Epoch: 0 batch #: 133  of 300 sample #: 199 reconstruction error: 0.073327\n",
      "Epoch: 0 batch #: 134  of 300 sample #: 199 reconstruction error: 0.104996\n",
      "Epoch: 0 batch #: 135  of 300 sample #: 199 reconstruction error: 0.084719\n",
      "Epoch: 0 batch #: 136  of 300 sample #: 199 reconstruction error: 0.101534\n",
      "Epoch: 0 batch #: 137  of 300 sample #: 199 reconstruction error: 0.067050\n",
      "Epoch: 0 batch #: 138  of 300 sample #: 199 reconstruction error: 0.067050\n",
      "Epoch: 0 batch #: 139  of 300 sample #: 199 reconstruction error: 0.103857\n",
      "Epoch: 0 batch #: 140  of 300 sample #: 199 reconstruction error: 0.078267\n",
      "Epoch: 0 batch #: 141  of 300 sample #: 199 reconstruction error: 0.096936\n",
      "Epoch: 0 batch #: 142  of 300 sample #: 199 reconstruction error: 0.058370\n",
      "Epoch: 0 batch #: 143  of 300 sample #: 199 reconstruction error: 0.064800\n",
      "Epoch: 0 batch #: 144  of 300 sample #: 199 reconstruction error: 0.054343\n",
      "Epoch: 0 batch #: 145  of 300 sample #: 199 reconstruction error: 0.095427\n",
      "Epoch: 0 batch #: 146  of 300 sample #: 199 reconstruction error: 0.121247\n",
      "Epoch: 0 batch #: 147  of 300 sample #: 199 reconstruction error: 0.080905\n",
      "Epoch: 0 batch #: 148  of 300 sample #: 199 reconstruction error: 0.107802\n",
      "Epoch: 0 batch #: 149  of 300 sample #: 199 reconstruction error: 0.060004\n",
      "Epoch: 0 batch #: 150  of 300 sample #: 199 reconstruction error: 0.043655\n",
      "Epoch: 0 batch #: 151  of 300 sample #: 199 reconstruction error: 0.101434\n",
      "Epoch: 0 batch #: 152  of 300 sample #: 199 reconstruction error: 0.102587\n",
      "Epoch: 0 batch #: 153  of 300 sample #: 199 reconstruction error: 0.057101\n",
      "Epoch: 0 batch #: 154  of 300 sample #: 199 reconstruction error: 0.072737\n",
      "Epoch: 0 batch #: 155  of 300 sample #: 199 reconstruction error: 0.055415\n",
      "Epoch: 0 batch #: 156  of 300 sample #: 199 reconstruction error: 0.083505\n",
      "Epoch: 0 batch #: 157  of 300 sample #: 199 reconstruction error: 0.105529\n",
      "Epoch: 0 batch #: 158  of 300 sample #: 199 reconstruction error: 0.058540\n",
      "Epoch: 0 batch #: 159  of 300 sample #: 199 reconstruction error: 0.056800\n",
      "Epoch: 0 batch #: 160  of 300 sample #: 199 reconstruction error: 0.063830\n",
      "Epoch: 0 batch #: 161  of 300 sample #: 199 reconstruction error: 0.077283\n",
      "Epoch: 0 batch #: 162  of 300 sample #: 199 reconstruction error: 0.099373\n",
      "Epoch: 0 batch #: 163  of 300 sample #: 199 reconstruction error: 0.045999\n",
      "Epoch: 0 batch #: 164  of 300 sample #: 199 reconstruction error: 0.073964\n",
      "Epoch: 0 batch #: 165  of 300 sample #: 199 reconstruction error: 0.071001\n",
      "Epoch: 0 batch #: 166  of 300 sample #: 199 reconstruction error: 0.061016\n",
      "Epoch: 0 batch #: 167  of 300 sample #: 199 reconstruction error: 0.075695\n",
      "Epoch: 0 batch #: 168  of 300 sample #: 199 reconstruction error: 0.061861\n",
      "Epoch: 0 batch #: 169  of 300 sample #: 199 reconstruction error: 0.035921\n",
      "Epoch: 0 batch #: 170  of 300 sample #: 199 reconstruction error: 0.056678\n",
      "Epoch: 0 batch #: 171  of 300 sample #: 199 reconstruction error: 0.038844\n",
      "Epoch: 0 batch #: 172  of 300 sample #: 199 reconstruction error: 0.046140\n",
      "Epoch: 0 batch #: 173  of 300 sample #: 199 reconstruction error: 0.077511\n",
      "Epoch: 0 batch #: 174  of 300 sample #: 199 reconstruction error: 0.104547\n",
      "Epoch: 0 batch #: 175  of 300 sample #: 199 reconstruction error: 0.062669\n",
      "Epoch: 0 batch #: 176  of 300 sample #: 199 reconstruction error: 0.045046\n",
      "Epoch: 0 batch #: 177  of 300 sample #: 199 reconstruction error: 0.041139\n",
      "Epoch: 0 batch #: 178  of 300 sample #: 199 reconstruction error: 0.102539\n",
      "Epoch: 0 batch #: 179  of 300 sample #: 199 reconstruction error: 0.076595\n",
      "Epoch: 0 batch #: 180  of 300 sample #: 199 reconstruction error: 0.078424\n",
      "Epoch: 0 batch #: 181  of 300 sample #: 199 reconstruction error: 0.088275\n",
      "Epoch: 0 batch #: 182  of 300 sample #: 199 reconstruction error: 0.080078\n",
      "Epoch: 0 batch #: 183  of 300 sample #: 199 reconstruction error: 0.119303\n",
      "Epoch: 0 batch #: 184  of 300 sample #: 199 reconstruction error: 0.059947\n",
      "Epoch: 0 batch #: 185  of 300 sample #: 199 reconstruction error: 0.074034\n",
      "Epoch: 0 batch #: 186  of 300 sample #: 199 reconstruction error: 0.104074\n",
      "Epoch: 0 batch #: 187  of 300 sample #: 199 reconstruction error: 0.069178\n",
      "Epoch: 0 batch #: 188  of 300 sample #: 199 reconstruction error: 0.097620\n",
      "Epoch: 0 batch #: 189  of 300 sample #: 199 reconstruction error: 0.079642\n",
      "Epoch: 0 batch #: 190  of 300 sample #: 199 reconstruction error: 0.067945\n",
      "Epoch: 0 batch #: 191  of 300 sample #: 199 reconstruction error: 0.087891\n",
      "Epoch: 0 batch #: 192  of 300 sample #: 199 reconstruction error: 0.133289\n",
      "Epoch: 0 batch #: 193  of 300 sample #: 199 reconstruction error: 0.117294\n",
      "Epoch: 0 batch #: 194  of 300 sample #: 199 reconstruction error: 0.089323\n",
      "Epoch: 0 batch #: 195  of 300 sample #: 199 reconstruction error: 0.043902\n",
      "Epoch: 0 batch #: 196  of 300 sample #: 199 reconstruction error: 0.040230\n",
      "Epoch: 0 batch #: 197  of 300 sample #: 199 reconstruction error: 0.048182\n",
      "Epoch: 0 batch #: 198  of 300 sample #: 199 reconstruction error: 0.079145\n",
      "Epoch: 0 batch #: 199  of 300 sample #: 199 reconstruction error: 0.076127\n",
      "Epoch: 0 batch #: 200  of 300 sample #: 199 reconstruction error: 0.105832\n",
      "Epoch: 0 batch #: 201  of 300 sample #: 199 reconstruction error: 0.088852\n",
      "Epoch: 0 batch #: 202  of 300 sample #: 199 reconstruction error: 0.033765\n",
      "Epoch: 0 batch #: 203  of 300 sample #: 199 reconstruction error: 0.087790\n",
      "Epoch: 0 batch #: 204  of 300 sample #: 199 reconstruction error: 0.054366\n",
      "Epoch: 0 batch #: 205  of 300 sample #: 199 reconstruction error: 0.022431\n",
      "Epoch: 0 batch #: 206  of 300 sample #: 199 reconstruction error: 0.064808\n",
      "Epoch: 0 batch #: 207  of 300 sample #: 199 reconstruction error: 0.085199\n",
      "Epoch: 0 batch #: 208  of 300 sample #: 199 reconstruction error: 0.067190\n",
      "Epoch: 0 batch #: 209  of 300 sample #: 199 reconstruction error: 0.031941\n",
      "Epoch: 0 batch #: 210  of 300 sample #: 199 reconstruction error: 0.093785\n",
      "Epoch: 0 batch #: 211  of 300 sample #: 199 reconstruction error: 0.107045\n",
      "Epoch: 0 batch #: 212  of 300 sample #: 199 reconstruction error: 0.091980\n",
      "Epoch: 0 batch #: 213  of 300 sample #: 199 reconstruction error: 0.109961\n",
      "Epoch: 0 batch #: 214  of 300 sample #: 199 reconstruction error: 0.124418\n",
      "Epoch: 0 batch #: 215  of 300 sample #: 199 reconstruction error: 0.030077\n",
      "Epoch: 0 batch #: 216  of 300 sample #: 199 reconstruction error: 0.098386\n",
      "Epoch: 0 batch #: 217  of 300 sample #: 199 reconstruction error: 0.070742\n",
      "Epoch: 0 batch #: 218  of 300 sample #: 199 reconstruction error: 0.062319\n",
      "Epoch: 0 batch #: 219  of 300 sample #: 199 reconstruction error: 0.070576\n",
      "Epoch: 0 batch #: 220  of 300 sample #: 199 reconstruction error: 0.052333\n",
      "Epoch: 0 batch #: 221  of 300 sample #: 199 reconstruction error: 0.075553\n",
      "Epoch: 0 batch #: 222  of 300 sample #: 199 reconstruction error: 0.079743\n",
      "Epoch: 0 batch #: 223  of 300 sample #: 199 reconstruction error: 0.080011\n",
      "Epoch: 0 batch #: 224  of 300 sample #: 199 reconstruction error: 0.070384\n",
      "Epoch: 0 batch #: 225  of 300 sample #: 199 reconstruction error: 0.080697\n",
      "Epoch: 0 batch #: 226  of 300 sample #: 199 reconstruction error: 0.136726\n",
      "Epoch: 0 batch #: 227  of 300 sample #: 199 reconstruction error: 0.061705\n",
      "Epoch: 0 batch #: 228  of 300 sample #: 199 reconstruction error: 0.085663\n",
      "Epoch: 0 batch #: 229  of 300 sample #: 199 reconstruction error: 0.088260\n",
      "Epoch: 0 batch #: 230  of 300 sample #: 199 reconstruction error: 0.043937\n",
      "Epoch: 0 batch #: 231  of 300 sample #: 199 reconstruction error: 0.035903\n",
      "Epoch: 0 batch #: 232  of 300 sample #: 199 reconstruction error: 0.076426\n",
      "Epoch: 0 batch #: 233  of 300 sample #: 199 reconstruction error: 0.061757\n",
      "Epoch: 0 batch #: 234  of 300 sample #: 199 reconstruction error: 0.065027\n",
      "Epoch: 0 batch #: 235  of 300 sample #: 199 reconstruction error: 0.071366\n",
      "Epoch: 0 batch #: 236  of 300 sample #: 199 reconstruction error: 0.105068\n",
      "Epoch: 0 batch #: 237  of 300 sample #: 199 reconstruction error: 0.071882\n",
      "Epoch: 0 batch #: 238  of 300 sample #: 199 reconstruction error: 0.111099\n",
      "Epoch: 0 batch #: 239  of 300 sample #: 199 reconstruction error: 0.019257\n",
      "Epoch: 0 batch #: 240  of 300 sample #: 199 reconstruction error: 0.117224\n",
      "Epoch: 0 batch #: 241  of 300 sample #: 199 reconstruction error: 0.076763\n",
      "Epoch: 0 batch #: 242  of 300 sample #: 199 reconstruction error: 0.074031\n",
      "Epoch: 0 batch #: 243  of 300 sample #: 199 reconstruction error: 0.068644\n",
      "Epoch: 0 batch #: 244  of 300 sample #: 199 reconstruction error: 0.073970\n",
      "Epoch: 0 batch #: 245  of 300 sample #: 199 reconstruction error: 0.068350\n",
      "Epoch: 0 batch #: 246  of 300 sample #: 199 reconstruction error: 0.087940\n",
      "Epoch: 0 batch #: 247  of 300 sample #: 199 reconstruction error: 0.036946\n",
      "Epoch: 0 batch #: 248  of 300 sample #: 199 reconstruction error: 0.066822\n",
      "Epoch: 0 batch #: 249  of 300 sample #: 199 reconstruction error: 0.043115\n",
      "Epoch: 0 batch #: 250  of 300 sample #: 199 reconstruction error: 0.093279\n",
      "Epoch: 0 batch #: 251  of 300 sample #: 199 reconstruction error: 0.048226\n",
      "Epoch: 0 batch #: 252  of 300 sample #: 199 reconstruction error: 0.079721\n",
      "Epoch: 0 batch #: 253  of 300 sample #: 199 reconstruction error: 0.056886\n",
      "Epoch: 0 batch #: 254  of 300 sample #: 199 reconstruction error: 0.041252\n",
      "Epoch: 0 batch #: 255  of 300 sample #: 199 reconstruction error: 0.055543\n",
      "Epoch: 0 batch #: 256  of 300 sample #: 199 reconstruction error: 0.104901\n",
      "Epoch: 0 batch #: 257  of 300 sample #: 199 reconstruction error: 0.092940\n",
      "Epoch: 0 batch #: 258  of 300 sample #: 199 reconstruction error: 0.086133\n",
      "Epoch: 0 batch #: 259  of 300 sample #: 199 reconstruction error: 0.057956\n",
      "Epoch: 0 batch #: 260  of 300 sample #: 199 reconstruction error: 0.097453\n",
      "Epoch: 0 batch #: 261  of 300 sample #: 199 reconstruction error: 0.035392\n",
      "Epoch: 0 batch #: 262  of 300 sample #: 199 reconstruction error: 0.065208\n",
      "Epoch: 0 batch #: 263  of 300 sample #: 199 reconstruction error: 0.078732\n",
      "Epoch: 0 batch #: 264  of 300 sample #: 199 reconstruction error: 0.074645\n",
      "Epoch: 0 batch #: 265  of 300 sample #: 199 reconstruction error: 0.055898\n",
      "Epoch: 0 batch #: 266  of 300 sample #: 199 reconstruction error: 0.034343\n",
      "Epoch: 0 batch #: 267  of 300 sample #: 199 reconstruction error: 0.071528\n",
      "Epoch: 0 batch #: 268  of 300 sample #: 199 reconstruction error: 0.016126\n",
      "Epoch: 0 batch #: 269  of 300 sample #: 199 reconstruction error: 0.085152\n",
      "Epoch: 0 batch #: 270  of 300 sample #: 199 reconstruction error: 0.082191\n",
      "Epoch: 0 batch #: 271  of 300 sample #: 199 reconstruction error: 0.056568\n",
      "Epoch: 0 batch #: 272  of 300 sample #: 199 reconstruction error: 0.054273\n",
      "Epoch: 0 batch #: 273  of 300 sample #: 199 reconstruction error: 0.047865\n",
      "Epoch: 0 batch #: 274  of 300 sample #: 199 reconstruction error: 0.050000\n",
      "Epoch: 0 batch #: 275  of 300 sample #: 199 reconstruction error: 0.083950\n",
      "Epoch: 0 batch #: 276  of 300 sample #: 199 reconstruction error: 0.076738\n",
      "Epoch: 0 batch #: 277  of 300 sample #: 199 reconstruction error: 0.076350\n",
      "Epoch: 0 batch #: 278  of 300 sample #: 199 reconstruction error: 0.044884\n",
      "Epoch: 0 batch #: 279  of 300 sample #: 199 reconstruction error: 0.051951\n",
      "Epoch: 0 batch #: 280  of 300 sample #: 199 reconstruction error: 0.077239\n",
      "Epoch: 0 batch #: 281  of 300 sample #: 199 reconstruction error: 0.083368\n",
      "Epoch: 0 batch #: 282  of 300 sample #: 199 reconstruction error: 0.093826\n",
      "Epoch: 0 batch #: 283  of 300 sample #: 199 reconstruction error: 0.048337\n",
      "Epoch: 0 batch #: 284  of 300 sample #: 199 reconstruction error: 0.052483\n",
      "Epoch: 0 batch #: 285  of 300 sample #: 199 reconstruction error: 0.057322\n",
      "Epoch: 0 batch #: 286  of 300 sample #: 199 reconstruction error: 0.083959\n",
      "Epoch: 0 batch #: 287  of 300 sample #: 199 reconstruction error: 0.077477\n",
      "Epoch: 0 batch #: 288  of 300 sample #: 199 reconstruction error: 0.022340\n",
      "Epoch: 0 batch #: 289  of 300 sample #: 199 reconstruction error: 0.075833\n",
      "Epoch: 0 batch #: 290  of 300 sample #: 199 reconstruction error: 0.092326\n",
      "Epoch: 0 batch #: 291  of 300 sample #: 199 reconstruction error: 0.122304\n",
      "Epoch: 0 batch #: 292  of 300 sample #: 199 reconstruction error: 0.063579\n",
      "Epoch: 0 batch #: 293  of 300 sample #: 199 reconstruction error: 0.065669\n",
      "Epoch: 0 batch #: 294  of 300 sample #: 199 reconstruction error: 0.085157\n",
      "Epoch: 0 batch #: 295  of 300 sample #: 199 reconstruction error: 0.071461\n",
      "Epoch: 0 batch #: 296  of 300 sample #: 199 reconstruction error: 0.031280\n",
      "Epoch: 0 batch #: 297  of 300 sample #: 199 reconstruction error: 0.098734\n",
      "Epoch: 0 batch #: 298  of 300 sample #: 199 reconstruction error: 0.049651\n",
      "Epoch: 0 batch #: 299  of 300 sample #: 199 reconstruction error: 0.046049\n",
      "Epoch: 0 batch #: 300  of 300 sample #: 199 reconstruction error: 0.086496\n"
     ]
    }
   ],
   "source": [
    "#Parameters\n",
    "alpha = 0.01\n",
    "epochs = 1\n",
    "batchsize = 200\n",
    "weights = []\n",
    "errors = []\n",
    "batch_number = 0\n",
    "K = 1\n",
    "\n",
    "#creating datasets\n",
    "train_ds = \\\n",
    "    tf.data.Dataset.from_tensor_slices((trX, trY)).batch(batchsize)\n",
    "\n",
    "for epoch in range(epochs):\n",
    "    for batch_x, batch_y in train_ds:\n",
    "        batch_number += 1\n",
    "        for i_sample in range(batchsize):           \n",
    "            for k in range(K):\n",
    "                v0_state = batch_x[i_sample]\n",
    "                h0_state = hidden_layer(v0_state, W, hb)\n",
    "                v1_state = reconstructed_output(h0_state, W, vb)\n",
    "                h1_state = hidden_layer(v1_state, W, hb)\n",
    "\n",
    "                delta_W = tf.matmul(tf.transpose([v0_state]), h0_state) - tf.matmul(tf.transpose([v1_state]), h1_state)\n",
    "                W = W + alpha * delta_W\n",
    "\n",
    "                vb = vb + alpha * tf.reduce_mean(v0_state - v1_state, 0)\n",
    "                hb = hb + alpha * tf.reduce_mean(h0_state - h1_state, 0) \n",
    "\n",
    "                v0_state = v1_state\n",
    "\n",
    "            if i_sample == batchsize-1:\n",
    "                err = error(batch_x[i_sample], v1_state)\n",
    "                errors.append(err)\n",
    "                weights.append(W)\n",
    "                print ( 'Epoch: %d' % epoch, \n",
    "                       \"batch #: %i \" % batch_number, \"of %i\" % int(60e3/batchsize), \n",
    "                       \"sample #: %i\" % i_sample,\n",
    "                       'reconstruction error: %f' % err)\n",
    "\n"
   ]
  },
  {
   "cell_type": "markdown",
   "metadata": {},
   "source": [
    "Let's take a look at the errors at the end of each batch:\n"
   ]
  },
  {
   "cell_type": "code",
   "execution_count": 21,
   "metadata": {
    "tags": []
   },
   "outputs": [
    {
     "ename": "NameError",
     "evalue": "name 'plt' is not defined",
     "output_type": "error",
     "traceback": [
      "\u001b[0;31m---------------------------------------------------------------------------\u001b[0m",
      "\u001b[0;31mNameError\u001b[0m                                 Traceback (most recent call last)",
      "\u001b[0;32m/tmp/ipykernel_3922/2522601983.py\u001b[0m in \u001b[0;36m<module>\u001b[0;34m\u001b[0m\n\u001b[0;32m----> 1\u001b[0;31m \u001b[0mplt\u001b[0m\u001b[0;34m.\u001b[0m\u001b[0mplot\u001b[0m\u001b[0;34m(\u001b[0m\u001b[0merrors\u001b[0m\u001b[0;34m)\u001b[0m\u001b[0;34m\u001b[0m\u001b[0;34m\u001b[0m\u001b[0m\n\u001b[0m\u001b[1;32m      2\u001b[0m \u001b[0mplt\u001b[0m\u001b[0;34m.\u001b[0m\u001b[0mxlabel\u001b[0m\u001b[0;34m(\u001b[0m\u001b[0;34m\"Batch Number\"\u001b[0m\u001b[0;34m)\u001b[0m\u001b[0;34m\u001b[0m\u001b[0;34m\u001b[0m\u001b[0m\n\u001b[1;32m      3\u001b[0m \u001b[0mplt\u001b[0m\u001b[0;34m.\u001b[0m\u001b[0mylabel\u001b[0m\u001b[0;34m(\u001b[0m\u001b[0;34m\"Error\"\u001b[0m\u001b[0;34m)\u001b[0m\u001b[0;34m\u001b[0m\u001b[0;34m\u001b[0m\u001b[0m\n\u001b[1;32m      4\u001b[0m \u001b[0mplt\u001b[0m\u001b[0;34m.\u001b[0m\u001b[0mshow\u001b[0m\u001b[0;34m(\u001b[0m\u001b[0;34m)\u001b[0m\u001b[0;34m\u001b[0m\u001b[0;34m\u001b[0m\u001b[0m\n",
      "\u001b[0;31mNameError\u001b[0m: name 'plt' is not defined"
     ]
    }
   ],
   "source": [
    "plt.plot(errors)\n",
    "plt.xlabel(\"Batch Number\")\n",
    "plt.ylabel(\"Error\")\n",
    "plt.show()"
   ]
  },
  {
   "cell_type": "markdown",
   "metadata": {},
   "source": [
    "What is the final weight matrix $W$ after training?\n"
   ]
  },
  {
   "cell_type": "code",
   "execution_count": 22,
   "metadata": {
    "tags": []
   },
   "outputs": [
    {
     "name": "stdout",
     "output_type": "stream",
     "text": [
      "[[-0.25000003 -0.29       -0.42999986 ... -0.36999992 -0.29999998\n",
      "  -0.28      ]\n",
      " [-0.23000003 -0.32999995 -0.42999986 ... -0.3799999  -0.29\n",
      "  -0.29999998]\n",
      " [-0.20000002 -0.25000003 -0.42999986 ... -0.32999995 -0.30999997\n",
      "  -0.25000003]\n",
      " ...\n",
      " [-0.25000003 -0.28       -0.41999987 ... -0.40999988 -0.3999999\n",
      "  -0.29      ]\n",
      " [-0.28       -0.29       -0.43999985 ... -0.34999993 -0.29999998\n",
      "  -0.31999996]\n",
      " [-0.18       -0.28       -0.40999988 ... -0.3799999  -0.33999994\n",
      "  -0.24000004]]\n"
     ]
    }
   ],
   "source": [
    "print(W.numpy()) # a weight matrix of shape (50,784)"
   ]
  },
  {
   "cell_type": "markdown",
   "metadata": {},
   "source": [
    "<a id=\"ref5\"></a>\n",
    "<h3>Learned features</h3> \n"
   ]
  },
  {
   "cell_type": "markdown",
   "metadata": {},
   "source": [
    "We can take each hidden unit and visualize the connections between that hidden unit and each element in the input vector. In our case, we have 50 hidden units. Lets visualize those.\n"
   ]
  },
  {
   "cell_type": "markdown",
   "metadata": {},
   "source": [
    "Let's plot the current weights:\n",
    "<b>tile_raster_images</b> helps in generating an easy to grasp image from a set of samples or weights. It transforms the <b>uw</b> (with one flattened image per row of size 784), into an array (of size $28\\times28$) in which images are reshaped and laid out like tiles on a floor.\n"
   ]
  },
  {
   "cell_type": "code",
   "execution_count": 23,
   "metadata": {
    "tags": []
   },
   "outputs": [
    {
     "ename": "NameError",
     "evalue": "name 'tile_raster_images' is not defined",
     "output_type": "error",
     "traceback": [
      "\u001b[0;31m---------------------------------------------------------------------------\u001b[0m",
      "\u001b[0;31mNameError\u001b[0m                                 Traceback (most recent call last)",
      "\u001b[0;32m/tmp/ipykernel_3922/557658495.py\u001b[0m in \u001b[0;36m<module>\u001b[0;34m\u001b[0m\n\u001b[0;32m----> 1\u001b[0;31m \u001b[0mtile_raster_images\u001b[0m\u001b[0;34m(\u001b[0m\u001b[0mX\u001b[0m\u001b[0;34m=\u001b[0m\u001b[0mW\u001b[0m\u001b[0;34m.\u001b[0m\u001b[0mnumpy\u001b[0m\u001b[0;34m(\u001b[0m\u001b[0;34m)\u001b[0m\u001b[0;34m.\u001b[0m\u001b[0mT\u001b[0m\u001b[0;34m,\u001b[0m \u001b[0mimg_shape\u001b[0m\u001b[0;34m=\u001b[0m\u001b[0;34m(\u001b[0m\u001b[0;36m28\u001b[0m\u001b[0;34m,\u001b[0m \u001b[0;36m28\u001b[0m\u001b[0;34m)\u001b[0m\u001b[0;34m,\u001b[0m \u001b[0mtile_shape\u001b[0m\u001b[0;34m=\u001b[0m\u001b[0;34m(\u001b[0m\u001b[0;36m5\u001b[0m\u001b[0;34m,\u001b[0m \u001b[0;36m10\u001b[0m\u001b[0;34m)\u001b[0m\u001b[0;34m,\u001b[0m \u001b[0mtile_spacing\u001b[0m\u001b[0;34m=\u001b[0m\u001b[0;34m(\u001b[0m\u001b[0;36m1\u001b[0m\u001b[0;34m,\u001b[0m \u001b[0;36m1\u001b[0m\u001b[0;34m)\u001b[0m\u001b[0;34m)\u001b[0m\u001b[0;34m\u001b[0m\u001b[0;34m\u001b[0m\u001b[0m\n\u001b[0m\u001b[1;32m      2\u001b[0m \u001b[0;32mimport\u001b[0m \u001b[0mmatplotlib\u001b[0m\u001b[0;34m.\u001b[0m\u001b[0mpyplot\u001b[0m \u001b[0;32mas\u001b[0m \u001b[0mplt\u001b[0m\u001b[0;34m\u001b[0m\u001b[0;34m\u001b[0m\u001b[0m\n\u001b[1;32m      3\u001b[0m \u001b[0;32mfrom\u001b[0m \u001b[0mPIL\u001b[0m \u001b[0;32mimport\u001b[0m \u001b[0mImage\u001b[0m\u001b[0;34m\u001b[0m\u001b[0;34m\u001b[0m\u001b[0m\n\u001b[1;32m      4\u001b[0m \u001b[0mget_ipython\u001b[0m\u001b[0;34m(\u001b[0m\u001b[0;34m)\u001b[0m\u001b[0;34m.\u001b[0m\u001b[0mrun_line_magic\u001b[0m\u001b[0;34m(\u001b[0m\u001b[0;34m'matplotlib'\u001b[0m\u001b[0;34m,\u001b[0m \u001b[0;34m'inline'\u001b[0m\u001b[0;34m)\u001b[0m\u001b[0;34m\u001b[0m\u001b[0;34m\u001b[0m\u001b[0m\n\u001b[1;32m      5\u001b[0m \u001b[0mimage\u001b[0m \u001b[0;34m=\u001b[0m \u001b[0mImage\u001b[0m\u001b[0;34m.\u001b[0m\u001b[0mfromarray\u001b[0m\u001b[0;34m(\u001b[0m\u001b[0mtile_raster_images\u001b[0m\u001b[0;34m(\u001b[0m\u001b[0mX\u001b[0m\u001b[0;34m=\u001b[0m\u001b[0mW\u001b[0m\u001b[0;34m.\u001b[0m\u001b[0mnumpy\u001b[0m\u001b[0;34m(\u001b[0m\u001b[0;34m)\u001b[0m\u001b[0;34m.\u001b[0m\u001b[0mT\u001b[0m\u001b[0;34m,\u001b[0m \u001b[0mimg_shape\u001b[0m\u001b[0;34m=\u001b[0m\u001b[0;34m(\u001b[0m\u001b[0;36m28\u001b[0m\u001b[0;34m,\u001b[0m \u001b[0;36m28\u001b[0m\u001b[0;34m)\u001b[0m \u001b[0;34m,\u001b[0m\u001b[0mtile_shape\u001b[0m\u001b[0;34m=\u001b[0m\u001b[0;34m(\u001b[0m\u001b[0;36m5\u001b[0m\u001b[0;34m,\u001b[0m \u001b[0;36m10\u001b[0m\u001b[0;34m)\u001b[0m\u001b[0;34m,\u001b[0m \u001b[0mtile_spacing\u001b[0m\u001b[0;34m=\u001b[0m\u001b[0;34m(\u001b[0m\u001b[0;36m1\u001b[0m\u001b[0;34m,\u001b[0m \u001b[0;36m1\u001b[0m\u001b[0;34m)\u001b[0m\u001b[0;34m)\u001b[0m\u001b[0;34m)\u001b[0m\u001b[0;34m\u001b[0m\u001b[0;34m\u001b[0m\u001b[0m\n",
      "\u001b[0;31mNameError\u001b[0m: name 'tile_raster_images' is not defined"
     ]
    }
   ],
   "source": [
    "tile_raster_images(X=W.numpy().T, img_shape=(28, 28), tile_shape=(5, 10), tile_spacing=(1, 1))\n",
    "import matplotlib.pyplot as plt\n",
    "from PIL import Image\n",
    "%matplotlib inline\n",
    "image = Image.fromarray(tile_raster_images(X=W.numpy().T, img_shape=(28, 28) ,tile_shape=(5, 10), tile_spacing=(1, 1)))\n",
    "### Plot image\n",
    "plt.rcParams['figure.figsize'] = (18.0, 18.0)\n",
    "imgplot = plt.imshow(image)\n",
    "imgplot.set_cmap('gray')  "
   ]
  },
  {
   "cell_type": "markdown",
   "metadata": {},
   "source": [
    "Each tile in the above visualization corresponds to a vector of connections between a hidden unit and visible layer's units. \n"
   ]
  },
  {
   "cell_type": "markdown",
   "metadata": {},
   "source": [
    "Let's look at one of the learned weights corresponding to one of hidden units for example. In this particular square, the gray color represents weight = 0, and the whiter it is, the more positive the weights are (closer to 1). Conversely, the darker pixels are, the more negative the weights. The positive pixels will increase the probability of activation in hidden units (after multiplying by input/visible pixels), and negative pixels will decrease the probability of a unit hidden to be 1 (activated). So, why is this important?  So we can see that this specific square (hidden unit) can detect a feature (e.g. a \"/\" shape) and if it exists in the input.\n"
   ]
  },
  {
   "cell_type": "code",
   "execution_count": 24,
   "metadata": {
    "tags": []
   },
   "outputs": [
    {
     "ename": "NameError",
     "evalue": "name 'tile_raster_images' is not defined",
     "output_type": "error",
     "traceback": [
      "\u001b[0;31m---------------------------------------------------------------------------\u001b[0m",
      "\u001b[0;31mNameError\u001b[0m                                 Traceback (most recent call last)",
      "\u001b[0;32m/tmp/ipykernel_3922/3400239828.py\u001b[0m in \u001b[0;36m<module>\u001b[0;34m\u001b[0m\n\u001b[1;32m      1\u001b[0m \u001b[0;32mfrom\u001b[0m \u001b[0mPIL\u001b[0m \u001b[0;32mimport\u001b[0m \u001b[0mImage\u001b[0m\u001b[0;34m\u001b[0m\u001b[0;34m\u001b[0m\u001b[0m\n\u001b[0;32m----> 2\u001b[0;31m \u001b[0mimage\u001b[0m \u001b[0;34m=\u001b[0m \u001b[0mImage\u001b[0m\u001b[0;34m.\u001b[0m\u001b[0mfromarray\u001b[0m\u001b[0;34m(\u001b[0m\u001b[0mtile_raster_images\u001b[0m\u001b[0;34m(\u001b[0m\u001b[0mX\u001b[0m \u001b[0;34m=\u001b[0m\u001b[0mW\u001b[0m\u001b[0;34m.\u001b[0m\u001b[0mnumpy\u001b[0m\u001b[0;34m(\u001b[0m\u001b[0;34m)\u001b[0m\u001b[0;34m.\u001b[0m\u001b[0mT\u001b[0m\u001b[0;34m[\u001b[0m\u001b[0;36m10\u001b[0m\u001b[0;34m:\u001b[0m\u001b[0;36m11\u001b[0m\u001b[0;34m]\u001b[0m\u001b[0;34m,\u001b[0m \u001b[0mimg_shape\u001b[0m\u001b[0;34m=\u001b[0m\u001b[0;34m(\u001b[0m\u001b[0;36m28\u001b[0m\u001b[0;34m,\u001b[0m \u001b[0;36m28\u001b[0m\u001b[0;34m)\u001b[0m\u001b[0;34m,\u001b[0m\u001b[0mtile_shape\u001b[0m\u001b[0;34m=\u001b[0m\u001b[0;34m(\u001b[0m\u001b[0;36m1\u001b[0m\u001b[0;34m,\u001b[0m \u001b[0;36m1\u001b[0m\u001b[0;34m)\u001b[0m\u001b[0;34m,\u001b[0m \u001b[0mtile_spacing\u001b[0m\u001b[0;34m=\u001b[0m\u001b[0;34m(\u001b[0m\u001b[0;36m1\u001b[0m\u001b[0;34m,\u001b[0m \u001b[0;36m1\u001b[0m\u001b[0;34m)\u001b[0m\u001b[0;34m)\u001b[0m\u001b[0;34m)\u001b[0m\u001b[0;34m\u001b[0m\u001b[0;34m\u001b[0m\u001b[0m\n\u001b[0m\u001b[1;32m      3\u001b[0m \u001b[0;31m### Plot image\u001b[0m\u001b[0;34m\u001b[0m\u001b[0;34m\u001b[0m\u001b[0;34m\u001b[0m\u001b[0m\n\u001b[1;32m      4\u001b[0m \u001b[0mplt\u001b[0m\u001b[0;34m.\u001b[0m\u001b[0mrcParams\u001b[0m\u001b[0;34m[\u001b[0m\u001b[0;34m'figure.figsize'\u001b[0m\u001b[0;34m]\u001b[0m \u001b[0;34m=\u001b[0m \u001b[0;34m(\u001b[0m\u001b[0;36m4.0\u001b[0m\u001b[0;34m,\u001b[0m \u001b[0;36m4.0\u001b[0m\u001b[0;34m)\u001b[0m\u001b[0;34m\u001b[0m\u001b[0;34m\u001b[0m\u001b[0m\n\u001b[1;32m      5\u001b[0m \u001b[0mimgplot\u001b[0m \u001b[0;34m=\u001b[0m \u001b[0mplt\u001b[0m\u001b[0;34m.\u001b[0m\u001b[0mimshow\u001b[0m\u001b[0;34m(\u001b[0m\u001b[0mimage\u001b[0m\u001b[0;34m)\u001b[0m\u001b[0;34m\u001b[0m\u001b[0;34m\u001b[0m\u001b[0m\n",
      "\u001b[0;31mNameError\u001b[0m: name 'tile_raster_images' is not defined"
     ]
    }
   ],
   "source": [
    "from PIL import Image\n",
    "image = Image.fromarray(tile_raster_images(X =W.numpy().T[10:11], img_shape=(28, 28),tile_shape=(1, 1), tile_spacing=(1, 1)))\n",
    "### Plot image\n",
    "plt.rcParams['figure.figsize'] = (4.0, 4.0)\n",
    "imgplot = plt.imshow(image)\n",
    "imgplot.set_cmap('gray')  "
   ]
  },
  {
   "cell_type": "markdown",
   "metadata": {},
   "source": [
    "Let's look at the reconstruction of an image now. Imagine that we have a destructed image of figure 3. Lets see if our trained network can fix it:\n",
    "\n",
    "First we plot the image:\n"
   ]
  },
  {
   "cell_type": "code",
   "execution_count": 25,
   "metadata": {
    "tags": []
   },
   "outputs": [
    {
     "name": "stdout",
     "output_type": "stream",
     "text": [
      "--2024-08-27 03:50:09--  https://ibm.box.com/shared/static/vvm1b63uvuxq88vbw9znpwu5ol380mco.jpg\n",
      "Resolving ibm.box.com (ibm.box.com)... 74.112.186.157, 74.112.186.157\n",
      "Connecting to ibm.box.com (ibm.box.com)|74.112.186.157|:443... connected.\n",
      "HTTP request sent, awaiting response... 301 Moved Permanently\n",
      "Location: /public/static/vvm1b63uvuxq88vbw9znpwu5ol380mco.jpg [following]\n",
      "--2024-08-27 03:50:09--  https://ibm.box.com/public/static/vvm1b63uvuxq88vbw9znpwu5ol380mco.jpg\n",
      "Reusing existing connection to ibm.box.com:443.\n",
      "HTTP request sent, awaiting response... 301 Moved Permanently\n",
      "Location: https://ibm.ent.box.com/public/static/vvm1b63uvuxq88vbw9znpwu5ol380mco.jpg [following]\n",
      "--2024-08-27 03:50:09--  https://ibm.ent.box.com/public/static/vvm1b63uvuxq88vbw9znpwu5ol380mco.jpg\n",
      "Resolving ibm.ent.box.com (ibm.ent.box.com)... 74.112.186.157, 74.112.186.157\n",
      "Connecting to ibm.ent.box.com (ibm.ent.box.com)|74.112.186.157|:443... connected.\n",
      "HTTP request sent, awaiting response... 302 Found\n",
      "Location: https://public.boxcloud.com/d/1/b1!aoN2EhtclKV8OlDXmLLvyoEcO8Y-1e49a7Sor7Tr2qyh8j1Z5hOhM-tnlcLnAX_6qxLk--6XnD_HOyB8GBS_zvkaeUccvxJfveH0B_9pa6QQsSQl-lMRINjsRJfgx0H-SpmUBdoyXQzwK7x_rzls-TNFR0_w_hq0VmrHql_qglgA994wxDPG5bxZxlEmqBfGIzzFMqOH0J3ew7ANPOQFJo1eGEreYBWAO5ByVSEElWrH1uyyBMDwj_zagOUKDOhQDP2kAeUzrHDqLB4QyLemXtZ6YPHEldcuvk3-D97LsNddI5MF1c48ar84DK2l3CszQIgkuIlVPDbNQ-KEudu-JFR0t7GUWVMGu_F-ZI1ASIv1scm9Psng2YniShul0Kqg9cVksZEY4ApbRRT_Frreu1Br0CyEa3Tu8qDUsCD2G2sDchziJ_xO5zxBgSjXuRgoRQdgMdssQi5065czx8Z-1C5dKF8Ac7t90UCqydH3gdGebKpiVSbzU5hvn5DNjMAGM5RiDGOMkFfUF0E21ub60ULPsL9r6Dq1fzJcXVYoeJdPVFWaLCwMDS6HeHl5qmA33QXWxPWZK4l_B4WuPeArW8FXUlgg89VR7IIOXDIdAAG1wsJClDlw3dLvVws-Q7qhsBrMyMH3eSppTdDUeUiXVTNHkp5b5EDITThSzoUvGrkJKtRbwAoFuEmZeOzJnwz-1vlRLUe3bTcGhFfcXui2WolLcRn-93kNg0EW61tAZt1DrvplIn1XuDAg0YndA3hRrcFPQAsGFijlOsOsf8DXz9T6TE2oYEIVDDyAjGGlI1laXX9cDojckHItx2u3GBzGvuxNg7Ec0lEHvniDQ3ocZd0BU4wI6NIUCnIgg3eMJr9dUU6pngDfFuKpLfTu5wEyJhTm4aESLr7ZKTfN6ZK-OZ566whx3AEBbM9utEWh35W6Ps4WOQaxHSlB_GoUZRNeVZbkYtMAYDKB_NXfVLJnHYzp08NG-3W6nBlfkQTn20MxMbCX_EMEk-6W7e2Nn-a3VDEGa6RJ3GdgvyslJj83AmMNvnnyIebGQvW1zovKL3cI57_wgdnrWRkwP24vSX_yjgOT9-7sD6DQFW0FrSGIQZGwZCyLX6itYuP5OSjvmw8wdVt6gDnXDrtg0zlCun-gJKLWR4cCG1YOS37ON4_qIDNCPcSreLeonNcPVciYyRMJXUUeO701Bj0OiCjz5-07nlDlMC-lsU1mOFg2cGi0n3h6_IcJo9JZzXiqVWyrUjP7LAhalC2N4xA8RBSKcPhwJFd-85BYpBtXmPnqCWpykAQmaJ233N48Y3tvBeLaq154am5izfZ0thYIoEZr0BahgJ9MTaZ6WDS2PUFBChx_X7BSya92hI43Q3rRxzzKJ-0i-aPnOdCLaZwl9x7YrOz_hePj4wQcRL2ufSKLiA../download [following]\n",
      "--2024-08-27 03:50:11--  https://public.boxcloud.com/d/1/b1!aoN2EhtclKV8OlDXmLLvyoEcO8Y-1e49a7Sor7Tr2qyh8j1Z5hOhM-tnlcLnAX_6qxLk--6XnD_HOyB8GBS_zvkaeUccvxJfveH0B_9pa6QQsSQl-lMRINjsRJfgx0H-SpmUBdoyXQzwK7x_rzls-TNFR0_w_hq0VmrHql_qglgA994wxDPG5bxZxlEmqBfGIzzFMqOH0J3ew7ANPOQFJo1eGEreYBWAO5ByVSEElWrH1uyyBMDwj_zagOUKDOhQDP2kAeUzrHDqLB4QyLemXtZ6YPHEldcuvk3-D97LsNddI5MF1c48ar84DK2l3CszQIgkuIlVPDbNQ-KEudu-JFR0t7GUWVMGu_F-ZI1ASIv1scm9Psng2YniShul0Kqg9cVksZEY4ApbRRT_Frreu1Br0CyEa3Tu8qDUsCD2G2sDchziJ_xO5zxBgSjXuRgoRQdgMdssQi5065czx8Z-1C5dKF8Ac7t90UCqydH3gdGebKpiVSbzU5hvn5DNjMAGM5RiDGOMkFfUF0E21ub60ULPsL9r6Dq1fzJcXVYoeJdPVFWaLCwMDS6HeHl5qmA33QXWxPWZK4l_B4WuPeArW8FXUlgg89VR7IIOXDIdAAG1wsJClDlw3dLvVws-Q7qhsBrMyMH3eSppTdDUeUiXVTNHkp5b5EDITThSzoUvGrkJKtRbwAoFuEmZeOzJnwz-1vlRLUe3bTcGhFfcXui2WolLcRn-93kNg0EW61tAZt1DrvplIn1XuDAg0YndA3hRrcFPQAsGFijlOsOsf8DXz9T6TE2oYEIVDDyAjGGlI1laXX9cDojckHItx2u3GBzGvuxNg7Ec0lEHvniDQ3ocZd0BU4wI6NIUCnIgg3eMJr9dUU6pngDfFuKpLfTu5wEyJhTm4aESLr7ZKTfN6ZK-OZ566whx3AEBbM9utEWh35W6Ps4WOQaxHSlB_GoUZRNeVZbkYtMAYDKB_NXfVLJnHYzp08NG-3W6nBlfkQTn20MxMbCX_EMEk-6W7e2Nn-a3VDEGa6RJ3GdgvyslJj83AmMNvnnyIebGQvW1zovKL3cI57_wgdnrWRkwP24vSX_yjgOT9-7sD6DQFW0FrSGIQZGwZCyLX6itYuP5OSjvmw8wdVt6gDnXDrtg0zlCun-gJKLWR4cCG1YOS37ON4_qIDNCPcSreLeonNcPVciYyRMJXUUeO701Bj0OiCjz5-07nlDlMC-lsU1mOFg2cGi0n3h6_IcJo9JZzXiqVWyrUjP7LAhalC2N4xA8RBSKcPhwJFd-85BYpBtXmPnqCWpykAQmaJ233N48Y3tvBeLaq154am5izfZ0thYIoEZr0BahgJ9MTaZ6WDS2PUFBChx_X7BSya92hI43Q3rRxzzKJ-0i-aPnOdCLaZwl9x7YrOz_hePj4wQcRL2ufSKLiA../download\n",
      "Resolving public.boxcloud.com (public.boxcloud.com)... 74.112.186.130, 74.112.186.130\n",
      "Connecting to public.boxcloud.com (public.boxcloud.com)|74.112.186.130|:443... connected.\n",
      "HTTP request sent, awaiting response... 200 OK\n",
      "Length: 24383 (24K) [image/jpeg]\n",
      "Saving to: ‘destructed3.jpg’\n",
      "\n",
      "destructed3.jpg     100%[===================>]  23.81K  --.-KB/s    in 0.02s   \n",
      "\n",
      "2024-08-27 03:50:11 (1.13 MB/s) - ‘destructed3.jpg’ saved [24383/24383]\n",
      "\n"
     ]
    },
    {
     "data": {
      "image/png": "[encoded data removed]",
      "text/plain": [
       "<PIL.JpegImagePlugin.JpegImageFile image mode=RGB size=181x181 at 0x7F7B3467E5D0>"
      ]
     },
     "execution_count": 25,
     "metadata": {},
     "output_type": "execute_result"
    }
   ],
   "source": [
    "!wget -O destructed3.jpg  https://ibm.box.com/shared/static/vvm1b63uvuxq88vbw9znpwu5ol380mco.jpg\n",
    "img = Image.open('destructed3.jpg')\n",
    "img"
   ]
  },
  {
   "cell_type": "markdown",
   "metadata": {},
   "source": [
    "Now let's pass this image through the neural net:\n"
   ]
  },
  {
   "cell_type": "code",
   "execution_count": 26,
   "metadata": {
    "tags": []
   },
   "outputs": [],
   "source": [
    "# convert the image to a 1d numpy array\n",
    "sample_case = np.array(img.convert('I').resize((28,28))).ravel().reshape((1, -1))/255.0\n",
    "\n",
    "sample_case = tf.cast(sample_case, dtype=tf.float32)"
   ]
  },
  {
   "cell_type": "markdown",
   "metadata": {},
   "source": [
    "Feed the sample case into the network and reconstruct the output:\n"
   ]
  },
  {
   "cell_type": "code",
   "execution_count": 27,
   "metadata": {
    "tags": []
   },
   "outputs": [
    {
     "name": "stdout",
     "output_type": "stream",
     "text": [
      "Probability nodes in hidden layer: tf.Tensor(\n",
      "[[4.3639140e-08 1.7165058e-04 4.0263144e-06 1.0000000e+00 1.2285852e-01\n",
      "  9.9999845e-01 9.7481647e-18 5.7754817e-12 9.8697633e-01 4.3159119e-08\n",
      "  2.0720363e-01 1.0000000e+00 9.4770396e-04 9.5578790e-01 7.8271172e-15\n",
      "  8.8123882e-01 3.0204226e-14 1.1974641e-08 9.4211090e-14 4.6959203e-03\n",
      "  2.8645208e-14 9.9989468e-01 1.3185502e-04 1.9246211e-09 2.0652413e-10\n",
      "  1.0661367e-14 1.9099757e-04 9.9998748e-01 8.8597108e-07 9.8643982e-01\n",
      "  9.3754804e-01 4.1585180e-09 7.3172390e-10 9.9999946e-01 3.6875986e-07\n",
      "  1.0000000e+00 2.2003351e-04 9.9689531e-17 3.2926312e-06 9.9999994e-01\n",
      "  9.8801494e-01 8.4626253e-09 1.1483173e-06 1.0000000e+00 9.6634281e-01\n",
      "  5.6126863e-01 9.9999696e-01 9.9828261e-01 9.8691022e-01 8.9490634e-08]], shape=(1, 50), dtype=float32)\n",
      "activated nodes in hidden layer: tf.Tensor(\n",
      "[[0. 0. 0. 1. 0. 1. 0. 0. 1. 0. 0. 1. 0. 1. 0. 1. 0. 0. 0. 0. 0. 1. 0. 0.\n",
      "  0. 0. 0. 1. 0. 1. 1. 0. 0. 1. 0. 1. 0. 0. 0. 1. 1. 0. 0. 1. 1. 1. 1. 1.\n",
      "  1. 0.]], shape=(1, 50), dtype=float32)\n",
      "tf.Tensor(\n",
      "[[9.79423712e-05 9.22391409e-05 1.19624463e-04 9.22391409e-05\n",
      "  1.30888569e-04 5.88163130e-05 7.86021701e-05 1.16089475e-04\n",
      "  5.59479013e-05 1.05043327e-04 4.91279752e-05 1.08241999e-04\n",
      "  7.94263979e-05 6.68158464e-05 7.61088668e-05 1.46518723e-04\n",
      "  1.00924932e-04 5.26899967e-05 1.00924830e-04 1.28297193e-04\n",
      "  9.13215044e-05 8.43008893e-05 6.37145713e-05 9.31660907e-05\n",
      "  1.18434407e-04 1.13790957e-04 1.16089475e-04 5.21657348e-05\n",
      "  9.50480462e-05 9.69678076e-05 1.47573955e-04 1.09329747e-04\n",
      "  1.08650260e-04 7.72242711e-05 8.50679644e-05 9.90236585e-05\n",
      "  8.42249428e-05 9.06010464e-05 1.02995902e-04 8.38231354e-05\n",
      "  1.78988194e-04 1.25870734e-04 7.49099199e-05 1.28046027e-04\n",
      "  1.26643063e-04 2.00156952e-04 1.46639766e-04 8.94047334e-05\n",
      "  1.89979357e-04 1.16294439e-04 1.29505177e-04 1.63315926e-04\n",
      "  1.18434407e-04 7.32884509e-05 9.13215044e-05 1.10428336e-04\n",
      "  1.16089359e-04 8.34622915e-05 6.10678762e-05 9.90780682e-05\n",
      "  1.18281270e-04 8.47684350e-05 1.05154664e-04 6.76199052e-05\n",
      "  8.64910617e-05 1.05845698e-04 3.05556860e-05 2.58243708e-05\n",
      "  2.84665330e-05 1.82404456e-05 2.38886078e-05 5.76566563e-05\n",
      "  4.75176021e-05 3.37361962e-05 5.72891731e-05 4.34672656e-05\n",
      "  8.23245791e-05 1.81020660e-04 2.66295276e-04 1.52276480e-04\n",
      "  1.22501107e-04 8.08561526e-05 1.64730853e-04 1.43213154e-04\n",
      "  1.14934475e-04 1.56697904e-04 1.38741540e-04 1.09754881e-04\n",
      "  9.36753058e-05 7.68498358e-05 7.65761797e-05 4.83541262e-05\n",
      "  8.65183756e-05 7.31945838e-05 5.66241506e-05 9.29265225e-05\n",
      "  1.06592190e-04 2.23822324e-04 3.00759129e-04 3.55690310e-04\n",
      "  4.54793015e-04 1.11032312e-03 7.99828267e-04 8.80423759e-04\n",
      "  1.19413168e-03 1.01043808e-03 4.82215022e-04 3.45704932e-04\n",
      "  2.32158753e-04 1.69248495e-04 1.03327511e-04 1.25756997e-04\n",
      "  9.79424658e-05 1.17707656e-04 7.99419577e-05 9.09356677e-05\n",
      "  1.20964010e-04 2.68496398e-04 3.01913475e-04 1.87091093e-04\n",
      "  1.52554203e-04 4.24640835e-04 6.96070434e-04 1.72389275e-03\n",
      "  1.24044914e-03 7.00771296e-03 8.36941320e-03 1.54445665e-02\n",
      "  1.23095671e-02 2.69981120e-02 5.19362353e-02 2.78910585e-02\n",
      "  1.75399669e-02 1.64527278e-02 1.09074749e-02 6.02113269e-03\n",
      "  2.87800469e-03 6.64002262e-04 7.45406651e-05 7.29301755e-05\n",
      "  8.09957564e-05 7.47689774e-05 1.02564671e-04 1.85046389e-04\n",
      "  4.22791723e-04 6.76562078e-04 9.78228869e-04 8.25434108e-04\n",
      "  1.78362126e-03 9.45479982e-03 2.81186439e-02 5.23604080e-02\n",
      "  1.00511424e-01 2.76809990e-01 5.10879576e-01 5.88252127e-01\n",
      "  7.37123370e-01 7.58481622e-01 7.61869550e-01 6.72463179e-01\n",
      "  3.00092608e-01 8.58169198e-02 1.01278462e-01 2.62695570e-02\n",
      "  9.56601091e-03 2.96214013e-03 6.80893601e-04 1.15304632e-04\n",
      "  8.18096523e-05 1.04817089e-04 1.22332916e-04 4.90198610e-04\n",
      "  2.39689276e-03 1.52255420e-03 2.12114071e-03 3.56269511e-03\n",
      "  8.44637770e-03 4.72552069e-02 1.31744176e-01 2.19013020e-01\n",
      "  5.73934257e-01 7.34009683e-01 8.48128080e-01 9.45926785e-01\n",
      "  9.17083681e-01 9.11649406e-01 9.21654165e-01 9.07636285e-01\n",
      "  8.68580639e-01 3.94602299e-01 2.68612236e-01 1.23559155e-01\n",
      "  1.69199333e-02 8.20962340e-03 1.03223848e-03 1.77054491e-04\n",
      "  6.82270838e-05 1.65436373e-04 2.28618053e-04 6.63456740e-04\n",
      "  2.58233841e-03 4.03926848e-03 8.13030545e-03 6.02898560e-03\n",
      "  5.43374307e-02 2.49245122e-01 6.11946225e-01 7.12601960e-01\n",
      "  8.05478156e-01 8.64387870e-01 9.26942647e-01 9.62074280e-01\n",
      "  8.25765193e-01 6.81730628e-01 6.71708345e-01 7.93015003e-01\n",
      "  9.07743275e-01 6.10485315e-01 4.19196397e-01 4.21662927e-02\n",
      "  6.11023046e-03 1.08856137e-03 1.10925839e-03 1.22731784e-04\n",
      "  4.41698103e-05 1.12411901e-04 3.45013832e-04 5.01394563e-04\n",
      "  1.13338977e-03 2.98870425e-03 2.56773271e-03 5.30637288e-03\n",
      "  6.43615350e-02 1.60176396e-01 5.22302687e-01 7.80549705e-01\n",
      "  7.39307284e-01 7.43775666e-01 6.50278986e-01 5.22919297e-01\n",
      "  3.19456577e-01 2.89665282e-01 2.47711018e-01 7.26999760e-01\n",
      "  8.57263505e-01 7.29152918e-01 2.58777291e-01 6.64054649e-03\n",
      "  3.01742856e-03 7.05754326e-04 8.89281509e-04 1.39248368e-04\n",
      "  1.47146377e-04 1.14655559e-04 2.54505838e-04 6.08270639e-04\n",
      "  1.46402442e-03 1.33166241e-03 4.65185009e-03 1.31282378e-02\n",
      "  3.70359868e-02 9.15695503e-02 4.23555911e-01 3.14624935e-01\n",
      "  1.56200930e-01 1.19754337e-01 5.72400801e-02 1.10200748e-01\n",
      "  6.35439083e-02 8.55716467e-02 2.02286899e-01 4.93037909e-01\n",
      "  5.83178937e-01 4.75203782e-01 1.40303031e-01 5.14383521e-03\n",
      "  1.90068234e-03 5.96468628e-04 2.01306451e-04 8.42052032e-05\n",
      "  2.07345627e-04 1.39041236e-04 4.15985211e-04 5.88640454e-04\n",
      "  1.10190699e-03 1.70130946e-03 2.53452780e-03 5.37673850e-03\n",
      "  9.69589129e-03 2.05673426e-02 7.38421679e-02 3.64407711e-02\n",
      "  9.96039994e-03 3.68106738e-02 8.02143440e-02 1.47863418e-01\n",
      "  1.68697134e-01 1.65993720e-01 4.95624840e-01 6.61589801e-01\n",
      "  5.84865093e-01 3.13478589e-01 1.22325486e-02 1.86401827e-03\n",
      "  4.05082712e-04 3.75751726e-04 2.74359714e-04 7.48746461e-05\n",
      "  9.04023836e-05 1.01484482e-04 4.92935011e-04 3.91248061e-04\n",
      "  1.21990254e-03 9.69121174e-04 6.08161150e-04 1.08674436e-03\n",
      "  3.58174206e-03 9.27862339e-03 1.58507898e-02 7.66084157e-03\n",
      "  3.25395726e-02 2.34794512e-01 2.27059796e-01 4.97867495e-01\n",
      "  5.15048623e-01 6.14959359e-01 7.87079215e-01 6.20254219e-01\n",
      "  2.32724875e-01 1.59077663e-02 1.79707876e-03 3.03212961e-04\n",
      "  2.06164987e-04 3.07864597e-04 1.60528987e-04 1.19221921e-04\n",
      "  1.15282099e-04 1.74080778e-04 2.29210622e-04 3.69963469e-04\n",
      "  2.45424249e-04 4.61053773e-04 7.93674320e-04 8.06539319e-04\n",
      "  2.28964793e-03 5.79076540e-03 1.91347115e-02 9.17689875e-02\n",
      "  5.97941101e-01 8.75907958e-01 9.01648045e-01 8.93283546e-01\n",
      "  7.93741465e-01 8.65827799e-01 8.29012334e-01 5.00835121e-01\n",
      "  5.65102436e-02 2.57514138e-03 2.11897277e-04 3.22159831e-05\n",
      "  4.93062726e-05 1.48311199e-04 1.32370114e-04 5.88718030e-05\n",
      "  6.33210948e-05 1.45465761e-04 3.97306285e-04 3.08396295e-04\n",
      "  1.47378785e-04 2.45145726e-04 4.27961117e-04 8.17627006e-04\n",
      "  3.33990715e-03 5.66900782e-02 7.50832632e-02 5.04841268e-01\n",
      "  9.03212786e-01 9.62699950e-01 9.61996377e-01 8.71014237e-01\n",
      "  8.96195889e-01 9.51469541e-01 8.50168824e-01 2.81133413e-01\n",
      "  1.80476271e-02 7.59946415e-04 1.62171171e-04 1.09118673e-05\n",
      "  3.24327812e-05 1.73604552e-04 1.74415414e-04 7.87379540e-05\n",
      "  7.99073678e-05 1.15503812e-04 2.63170077e-04 3.08191142e-04\n",
      "  4.55715577e-04 2.62978429e-04 4.49613261e-04 5.66792791e-04\n",
      "  2.42739078e-03 4.42908891e-02 1.62782460e-01 7.71684110e-01\n",
      "  9.28987205e-01 8.90065670e-01 7.47943044e-01 6.96499884e-01\n",
      "  7.87760139e-01 8.84082675e-01 7.70854473e-01 1.10265218e-01\n",
      "  5.62840188e-03 3.11041687e-04 3.50618502e-05 1.00430725e-05\n",
      "  1.50890764e-05 8.23218361e-05 9.53056151e-05 8.34753446e-05\n",
      "  8.13618317e-05 9.98581163e-05 1.83946933e-04 3.14365432e-04\n",
      "  5.08843048e-04 5.84126101e-04 3.45432956e-04 3.41542123e-04\n",
      "  4.43345355e-03 2.38555353e-02 1.86080262e-01 5.00413358e-01\n",
      "  3.31391603e-01 1.93457276e-01 1.01614997e-01 1.32683694e-01\n",
      "  2.89781988e-01 7.82802582e-01 6.00576937e-01 7.31209815e-02\n",
      "  4.28249268e-03 1.15263851e-04 4.78261500e-05 1.58311614e-05\n",
      "  1.43869220e-05 3.15480283e-05 1.35664697e-04 1.02975566e-04\n",
      "  9.55900468e-05 6.24114837e-05 2.76768900e-04 1.34674250e-03\n",
      "  2.33316608e-03 4.63309494e-04 1.16012129e-03 1.57325983e-03\n",
      "  4.80356906e-03 1.74971577e-02 7.92165697e-02 3.50147299e-02\n",
      "  2.48938669e-02 1.25567513e-02 1.82742514e-02 7.91564658e-02\n",
      "  5.25903285e-01 7.44149566e-01 3.87432247e-01 2.43033040e-02\n",
      "  1.92641199e-03 2.37106171e-04 6.51539813e-05 2.71056251e-05\n",
      "  1.98320813e-05 5.32634949e-05 1.01624020e-04 8.85567424e-05\n",
      "  1.00924830e-04 1.73732886e-04 3.21532483e-04 6.09429786e-03\n",
      "  8.13322049e-03 6.88647106e-03 7.70337088e-03 7.77831301e-03\n",
      "  6.86164619e-03 1.28120743e-02 7.86876585e-03 5.65974973e-03\n",
      "  5.75615931e-03 4.06809524e-03 2.61972342e-02 1.03105932e-01\n",
      "  5.43236434e-01 7.27703214e-01 3.89207840e-01 3.04051116e-02\n",
      "  4.19879518e-03 4.64823883e-04 2.26872842e-04 7.11475877e-05\n",
      "  8.37922780e-05 7.68471946e-05 1.95043816e-04 1.16413052e-04\n",
      "  1.16280920e-04 5.68658179e-05 5.18622983e-04 1.91497300e-02\n",
      "  3.92073132e-02 4.28034179e-02 2.20338553e-02 1.48317674e-02\n",
      "  1.98712163e-02 8.98192544e-03 6.54469104e-03 2.05552112e-03\n",
      "  1.28673180e-03 2.13823561e-03 9.79157537e-03 1.08554699e-01\n",
      "  4.77658898e-01 8.14989209e-01 4.15974975e-01 1.01968922e-01\n",
      "  4.09951294e-03 1.66777358e-03 4.93369822e-04 5.13058796e-04\n",
      "  1.46768740e-04 1.68706159e-04 1.62383934e-04 5.89641168e-05\n",
      "  8.66129703e-05 7.82056086e-05 2.75262306e-03 8.47461894e-02\n",
      "  1.82069555e-01 2.47343212e-01 1.90875381e-01 6.64864928e-02\n",
      "  3.49519476e-02 2.71364339e-02 1.10918982e-02 7.68268015e-03\n",
      "  2.75997329e-03 3.55906948e-03 4.07744795e-02 1.91503003e-01\n",
      "  7.58897960e-01 7.56779015e-01 5.03105283e-01 7.98366442e-02\n",
      "  5.69425989e-03 1.19052897e-03 5.88922761e-04 5.40912093e-04\n",
      "  6.73047791e-04 2.20097078e-04 1.66158061e-04 9.77352538e-05\n",
      "  9.04129774e-05 1.33652909e-04 7.68598169e-03 2.32010871e-01\n",
      "  4.26200598e-01 4.97366786e-01 4.59422678e-01 2.53964901e-01\n",
      "  2.59067476e-01 8.78382698e-02 4.64872532e-02 2.62695234e-02\n",
      "  1.46663692e-02 4.13345881e-02 1.03777185e-01 5.12621999e-01\n",
      "  8.84022593e-01 8.60984504e-01 3.31324011e-01 1.73950046e-02\n",
      "  3.61891440e-03 1.50581670e-03 7.72051804e-04 3.46618704e-04\n",
      "  7.37420574e-04 4.22825397e-04 3.08589835e-04 1.66961181e-04\n",
      "  9.73375500e-05 1.24413258e-04 1.82089966e-03 3.53112459e-01\n",
      "  6.36371553e-01 8.29784989e-01 7.75214612e-01 7.59870589e-01\n",
      "  5.92871189e-01 1.79269314e-01 1.99160203e-01 1.14087261e-01\n",
      "  7.14125261e-02 1.62713200e-01 4.51878339e-01 8.09975028e-01\n",
      "  9.11083519e-01 6.48514092e-01 9.21115801e-02 6.52099214e-03\n",
      "  2.15248391e-03 1.06523419e-03 6.02158951e-04 6.60947408e-04\n",
      "  6.51402923e-04 2.85811286e-04 1.36732488e-04 7.43042692e-05\n",
      "  1.45140977e-04 8.84631445e-05 6.70486013e-04 6.98397607e-02\n",
      "  5.08223653e-01 7.82904565e-01 9.07581508e-01 9.00238991e-01\n",
      "  8.25709283e-01 3.76658916e-01 4.40641105e-01 6.52469575e-01\n",
      "  4.86703038e-01 6.04589641e-01 7.20618129e-01 6.69895649e-01\n",
      "  6.77240014e-01 2.80826509e-01 3.09507791e-02 6.31895941e-03\n",
      "  1.95969385e-03 6.46302477e-04 5.59624576e-04 9.40090860e-04\n",
      "  5.12301340e-04 2.04223965e-04 2.35062325e-04 1.13270238e-04\n",
      "  1.12658825e-04 7.40250471e-05 3.95411014e-04 8.95938277e-03\n",
      "  1.48079678e-01 6.29849792e-01 7.93277204e-01 8.63670528e-01\n",
      "  8.39935839e-01 8.31240416e-01 9.01351094e-01 6.77362919e-01\n",
      "  7.45645106e-01 7.40521431e-01 4.16853130e-01 3.27863216e-01\n",
      "  1.29692376e-01 2.57561672e-02 1.12739950e-02 1.46394141e-03\n",
      "  1.53166091e-03 2.27032549e-04 2.41122660e-04 3.13935074e-04\n",
      "  4.47203289e-04 1.72186614e-04 1.34478221e-04 1.17255971e-04\n",
      "  1.03998216e-04 9.31660907e-05 8.76552513e-05 6.30104449e-04\n",
      "  2.37956028e-02 1.20937593e-01 4.15380955e-01 5.28589785e-01\n",
      "  6.94731891e-01 7.02273607e-01 5.78520775e-01 4.02166396e-01\n",
      "  3.58759761e-01 1.73781991e-01 1.21235117e-01 3.81369889e-02\n",
      "  2.29682941e-02 8.29352811e-03 1.81618228e-03 8.04553449e-04\n",
      "  4.17721720e-04 2.35682572e-04 1.16976677e-04 1.70060564e-04\n",
      "  1.81689204e-04 8.69090873e-05 6.51012015e-05 9.04128974e-05\n",
      "  6.83341204e-05 1.18434298e-04 9.27106521e-05 1.00976438e-04\n",
      "  3.70354624e-04 1.62866432e-03 6.59930240e-03 1.95810124e-02\n",
      "  2.24326029e-02 2.35701893e-02 1.11172618e-02 1.43151619e-02\n",
      "  1.29892817e-02 9.91249457e-03 5.06859040e-03 4.50259494e-03\n",
      "  2.42355000e-03 1.07884605e-03 6.23284606e-04 3.38347454e-04\n",
      "  1.02673876e-04 1.38568066e-04 1.76943431e-04 1.62231183e-04\n",
      "  8.83003086e-05 1.08271619e-04 7.66210942e-05 1.08241889e-04\n",
      "  9.79424658e-05 9.89266409e-05 7.70458355e-05 1.11018962e-04\n",
      "  1.40862932e-04 5.23461786e-04 7.69445091e-04 7.89014448e-04\n",
      "  4.60312527e-04 5.58700936e-04 5.40033972e-04 3.63739004e-04\n",
      "  3.47501307e-04 4.48294886e-04 3.12319404e-04 3.45004140e-04\n",
      "  2.70295364e-04 2.59412860e-04 2.81056477e-04 1.60536030e-04\n",
      "  9.25255445e-05 1.31423702e-04 1.16925592e-04 8.69328796e-05\n",
      "  8.91840318e-05 8.30835124e-05 9.31660907e-05 7.78201065e-05\n",
      "  8.01898714e-05 8.09957564e-05 1.12658934e-04 7.32885237e-05\n",
      "  6.58173667e-05 1.36732750e-04 1.88813487e-04 3.34925222e-04\n",
      "  2.37386863e-04 3.84904764e-04 3.00720130e-04 4.05712053e-04\n",
      "  1.90748076e-04 1.75093926e-04 2.04519791e-04 1.97669011e-04\n",
      "  3.81689431e-04 3.04372952e-04 3.67390574e-04 1.86021134e-04\n",
      "  8.11196514e-05 1.38741671e-04 9.59993849e-05 8.70147269e-05\n",
      "  8.68680654e-05 6.37146295e-05 7.86020973e-05 8.51481600e-05]], shape=(1, 784), dtype=float32)\n"
     ]
    }
   ],
   "source": [
    "hh0_p = tf.nn.sigmoid(tf.matmul(sample_case, W) + hb)\n",
    "hh0_s = tf.round(hh0_p)\n",
    "\n",
    "print(\"Probability nodes in hidden layer:\" ,hh0_p)\n",
    "print(\"activated nodes in hidden layer:\" ,hh0_s)\n",
    "\n",
    "# reconstruct\n",
    "vv1_p = tf.nn.sigmoid(tf.matmul(hh0_s, tf.transpose(W)) + vb)\n",
    "\n",
    "print(vv1_p)\n",
    "#rec_prob = sess.run(vv1_p, feed_dict={ hh0_s: hh0_s_val, W: prv_w, vb: prv_vb})"
   ]
  },
  {
   "cell_type": "markdown",
   "metadata": {},
   "source": [
    "Here we plot the reconstructed image:\n"
   ]
  },
  {
   "cell_type": "code",
   "execution_count": 28,
   "metadata": {
    "tags": []
   },
   "outputs": [
    {
     "ename": "NameError",
     "evalue": "name 'tile_raster_images' is not defined",
     "output_type": "error",
     "traceback": [
      "\u001b[0;31m---------------------------------------------------------------------------\u001b[0m",
      "\u001b[0;31mNameError\u001b[0m                                 Traceback (most recent call last)",
      "\u001b[0;32m/tmp/ipykernel_3922/3803996827.py\u001b[0m in \u001b[0;36m<module>\u001b[0;34m\u001b[0m\n\u001b[0;32m----> 1\u001b[0;31m \u001b[0mimg\u001b[0m \u001b[0;34m=\u001b[0m \u001b[0mImage\u001b[0m\u001b[0;34m.\u001b[0m\u001b[0mfromarray\u001b[0m\u001b[0;34m(\u001b[0m\u001b[0mtile_raster_images\u001b[0m\u001b[0;34m(\u001b[0m\u001b[0mX\u001b[0m\u001b[0;34m=\u001b[0m\u001b[0mvv1_p\u001b[0m\u001b[0;34m.\u001b[0m\u001b[0mnumpy\u001b[0m\u001b[0;34m(\u001b[0m\u001b[0;34m)\u001b[0m\u001b[0;34m,\u001b[0m \u001b[0mimg_shape\u001b[0m\u001b[0;34m=\u001b[0m\u001b[0;34m(\u001b[0m\u001b[0;36m28\u001b[0m\u001b[0;34m,\u001b[0m \u001b[0;36m28\u001b[0m\u001b[0;34m)\u001b[0m\u001b[0;34m,\u001b[0m\u001b[0mtile_shape\u001b[0m\u001b[0;34m=\u001b[0m\u001b[0;34m(\u001b[0m\u001b[0;36m1\u001b[0m\u001b[0;34m,\u001b[0m \u001b[0;36m1\u001b[0m\u001b[0;34m)\u001b[0m\u001b[0;34m,\u001b[0m \u001b[0mtile_spacing\u001b[0m\u001b[0;34m=\u001b[0m\u001b[0;34m(\u001b[0m\u001b[0;36m1\u001b[0m\u001b[0;34m,\u001b[0m \u001b[0;36m1\u001b[0m\u001b[0;34m)\u001b[0m\u001b[0;34m)\u001b[0m\u001b[0;34m)\u001b[0m\u001b[0;34m\u001b[0m\u001b[0;34m\u001b[0m\u001b[0m\n\u001b[0m\u001b[1;32m      2\u001b[0m \u001b[0mplt\u001b[0m\u001b[0;34m.\u001b[0m\u001b[0mrcParams\u001b[0m\u001b[0;34m[\u001b[0m\u001b[0;34m'figure.figsize'\u001b[0m\u001b[0;34m]\u001b[0m \u001b[0;34m=\u001b[0m \u001b[0;34m(\u001b[0m\u001b[0;36m4.0\u001b[0m\u001b[0;34m,\u001b[0m \u001b[0;36m4.0\u001b[0m\u001b[0;34m)\u001b[0m\u001b[0;34m\u001b[0m\u001b[0;34m\u001b[0m\u001b[0m\n\u001b[1;32m      3\u001b[0m \u001b[0mimgplot\u001b[0m \u001b[0;34m=\u001b[0m \u001b[0mplt\u001b[0m\u001b[0;34m.\u001b[0m\u001b[0mimshow\u001b[0m\u001b[0;34m(\u001b[0m\u001b[0mimg\u001b[0m\u001b[0;34m)\u001b[0m\u001b[0;34m\u001b[0m\u001b[0;34m\u001b[0m\u001b[0m\n\u001b[1;32m      4\u001b[0m \u001b[0mimgplot\u001b[0m\u001b[0;34m.\u001b[0m\u001b[0mset_cmap\u001b[0m\u001b[0;34m(\u001b[0m\u001b[0;34m'gray'\u001b[0m\u001b[0;34m)\u001b[0m\u001b[0;34m\u001b[0m\u001b[0;34m\u001b[0m\u001b[0m\n",
      "\u001b[0;31mNameError\u001b[0m: name 'tile_raster_images' is not defined"
     ]
    }
   ],
   "source": [
    "img = Image.fromarray(tile_raster_images(X=vv1_p.numpy(), img_shape=(28, 28),tile_shape=(1, 1), tile_spacing=(1, 1)))\n",
    "plt.rcParams['figure.figsize'] = (4.0, 4.0)\n",
    "imgplot = plt.imshow(img)\n",
    "imgplot.set_cmap('gray') "
   ]
  },
  {
   "cell_type": "markdown",
   "metadata": {},
   "source": [
    "<hr>\n",
    "\n",
    "## Want to learn more?\n",
    "\n",
    "Also, you can use __Watson Studio__ to run these notebooks faster with bigger datasets.__Watson Studio__ is IBM’s leading cloud solution for data scientists, built by data scientists. With Jupyter notebooks, RStudio, Apache Spark and popular libraries pre-packaged in the cloud, __Watson Studio__ enables data scientists to collaborate on their projects without having to install anything. Join the fast-growing community of __Watson Studio__ users today with a free account at [Watson Studio](https://cocl.us/ML0120EN_DSX).This is the end of this lesson. Thank you for reading this notebook, and good luck on your studies.\n"
   ]
  },
  {
   "cell_type": "markdown",
   "metadata": {},
   "source": [
    "### Thanks for completing this lesson!\n",
    "\n",
    "Notebook created by: <a href = \"https://ca.linkedin.com/in/saeedaghabozorgi\">Saeed Aghabozorgi</a>\n",
    "\n",
    "Updated to TF 2.X by  <a href=\"https://ca.linkedin.com/in/nilmeier\"> Jerome Nilmeier</a><br />\n"
   ]
  },
  {
   "cell_type": "markdown",
   "metadata": {},
   "source": [
    "### References:\n",
    "https://en.wikipedia.org/wiki/Restricted_Boltzmann_machine  \n",
    "https://www.geeksforgeeks.org/deep-learning-tutorial/ \n",
    "http://www.cs.utoronto.ca/~hinton/absps/netflixICML.pdf<br>\n",
    "https://en.wikipedia.org/wiki/Restricted_Boltzmann_machine  \n"
   ]
  },
  {
   "cell_type": "markdown",
   "metadata": {},
   "source": [
    "<hr>\n",
    "\n",
    "Copyright &copy; 2018 [Cognitive Class](https://cocl.us/DX0108EN_CC). This notebook and its source code are released under the terms of the [MIT License](https://bigdatauniversity.com/mit-license/).\n"
   ]
  }
 ],
 "metadata": {
  "kernelspec": {
   "display_name": "Python",
   "language": "python",
   "name": "conda-env-python-py"
  },
  "language_info": {
   "codemirror_mode": {
    "name": "ipython",
    "version": 3
   },
   "file_extension": ".py",
   "mimetype": "text/x-python",
   "name": "python",
   "nbconvert_exporter": "python",
   "pygments_lexer": "ipython3",
   "version": "3.7.12"
  },
  "prev_pub_hash": "f4c64de5fb70d125596834382afe1f6deeca1efca05c05d070b1e0d77c81932b"
 },
 "nbformat": 4,
 "nbformat_minor": 4
}
