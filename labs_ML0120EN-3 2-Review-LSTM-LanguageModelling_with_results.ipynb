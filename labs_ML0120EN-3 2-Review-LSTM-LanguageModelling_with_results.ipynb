{
 "cells": [
  {
   "cell_type": "markdown",
   "metadata": {},
   "source": [
    "<img src=\"https://cf-courses-data.s3.us.cloud-object-storage.appdomain.cloud/IBMDeveloperSkillsNetwork-DL0120EN-SkillsNetwork/images/IDSN-logo.png\" width=\"300\" alt=\"cognitiveclass.ai logo\">\n",
    "\n",
    "<h1 align=\"center\"><font size=\"5\">RECURRENT NETWORKS and LSTM IN DEEP LEARNING</font></h1>\n"
   ]
  },
  {
   "cell_type": "markdown",
   "metadata": {},
   "source": [
    "Estimated time needed: **30** minutes\n"
   ]
  },
  {
   "cell_type": "markdown",
   "metadata": {},
   "source": [
    "<h2>Applying Recurrent Neural Networks/LSTM for Language Modeling</h2>\n",
    "Hello and welcome to this part. In this notebook, we will go over the topic of Language Modelling, and create a Recurrent Neural Network model based on the Long Short-Term Memory unit to train and benchmark on the Penn Treebank dataset. By the end of this notebook, you should be able to understand how TensorFlow builds and executes a RNN model for Language Modelling.\n"
   ]
  },
  {
   "cell_type": "markdown",
   "metadata": {},
   "source": [
    "<h2>The Objective</h2>\n",
    "By now, you should have an understanding of how Recurrent Networks work -- a specialized model to process sequential data by keeping track of the \"state\" or context. In this notebook, we go over a TensorFlow code snippet for creating a model focused on <b>Language Modelling</b> -- a very relevant task that is the cornerstone of many different linguistic problems such as <b>Speech Recognition, Machine Translation and Image Captioning</b>. For this, we will be using the Penn Treebank dataset, which is an often-used dataset for benchmarking Language Modelling models.\n"
   ]
  },
  {
   "cell_type": "markdown",
   "metadata": {},
   "source": [
    "\n",
    "<h2>Table of Contents</h2>\n",
    "<ol>\n",
    "    <li><a href=\"#language_modelling\">What exactly is Language Modelling?</a></li>\n",
    "    <li><a href=\"#treebank_dataset\">The Penn Treebank dataset</a></li>\n",
    "    <li><a href=\"#word_embedding\">Word Embedding</a></li>\n",
    "    <li><a href=\"#building_lstm_model\">Building the LSTM model for Language Modeling</a></li>\n",
    "    <li><a href=\"#ltsm\">LTSM</a></li>\n",
    "</ol>\n",
    "<p></p>\n",
    "</div>\n",
    "<br>\n"
   ]
  },
  {
   "cell_type": "markdown",
   "metadata": {},
   "source": [
    "--------\n"
   ]
  },
  {
   "cell_type": "markdown",
   "metadata": {},
   "source": [
    "<a id=\"language_modelling\"></a>\n",
    "<h2>What exactly is Language Modelling?</h2>\n",
    "Language Modelling, to put it simply, <b>is the task of assigning probabilities to sequences of words</b>. This means that, given a context of one or a sequence of words in the language the model was trained on, the model should provide the next most probable words or sequence of words that follows from the given sequence of words the sentence. Language Modelling is one of the most important tasks in Natural Language Processing.\n",
    "\n",
    "<img src=\"https://ibm.box.com/shared/static/1d1i5gub6wljby2vani2vzxp0xsph702.png\" width=\"1080\">\n",
    "<center><i>Example of a sentence being predicted</i></center>\n",
    "<br><br>\n",
    "In this example, one can see the predictions for the next word of a sentence, given the context \"This is an\". As you can see, this boils down to a sequential data analysis task -- you are given a word or a sequence of words (the input data), and, given the context (the state), you need to find out what is the next word (the prediction). This kind of analysis is very important for language-related tasks such as <b>Speech Recognition, Machine Translation, Image Captioning, Text Correction</b> and many other very relevant problems. \n",
    "\n",
    "<img src=\"https://ibm.box.com/shared/static/az39idf9ipfdpc5ugifpgxnydelhyf3i.png\" width=\"1080\">\n",
    "<center><i>The above example is a schema of an RNN in execution</i></center>\n",
    "<br><br>\n",
    "As the above image shows, Recurrent Network models fit this problem like a glove. Alongside LSTM and its capacity to maintain the model's state for over one thousand time steps, we have all the tools we need to undertake this problem. The goal for this notebook is to create a model that can reach <b>low levels of perplexity</b> on our desired dataset.\n",
    "\n",
    "For Language Modelling problems, <b>perplexity</b> is the way to gauge efficiency. Perplexity is simply a measure of how well a probabilistic model is able to predict its sample. A higher-level way to explain this would be saying that <b>low perplexity means a higher degree of trust in the predictions the model makes</b>. Therefore, the lower perplexity is, the better.\n"
   ]
  },
  {
   "cell_type": "markdown",
   "metadata": {},
   "source": [
    "<a id=\"treebank_dataset\"></a>\n",
    "<h2>The Penn Treebank dataset</h2>\n",
    "Historically, datasets big enough for Natural Language Processing are hard to come by. This is in part due to the necessity of the sentences to be broken down and tagged with a certain degree of correctness -- or else the models trained on it won't be able to be correct at all. This means that we need a <b>large amount of data, annotated by or at least corrected by humans</b>. This is, of course, not an easy task at all.\n",
    "\n",
    "The Penn Treebank, or PTB for short, is a dataset maintained by the University of Pennsylvania. It is <i>huge</i> -- there are over <b>four million and eight hundred thousand</b> annotated words in it, all corrected by humans. It is composed of many different sources, from abstracts of Department of Energy papers to texts from the Library of America. Since it is verifiably correct and of such a huge size, the Penn Treebank is commonly used as a benchmark dataset for Language Modelling.\n",
    "\n",
    "The dataset is divided in different kinds of annotations, such as Piece-of-Speech, Syntactic and Semantic skeletons. For this example, we will simply use a sample of clean, non-annotated words (with the exception of one tag --<code>&lt;unk&gt;</code>\n",
    ", which is used for rare words such as uncommon proper nouns) for our model. This means that we just want to predict what the next words would be, not what they mean in context or their classes on a given sentence.\n",
    "\n",
    "<center>Example of text from the dataset we are going to use, <b>ptb.train</b></center>\n",
    "<br><br>\n",
    "\n",
    "<div class=\"alert alert-block alert-info\" style=\"margin-top: 20px\">\n",
    "    <center>the percentage of lung cancer deaths among the workers at the west <code>&lt;unk&gt;</code> mass. paper factory appears to be the highest for any asbestos workers studied in western industrialized countries he said \n",
    " the plant which is owned by <code>&lt;unk&gt;</code> & <code>&lt;unk&gt;</code> co. was under contract with <code>&lt;unk&gt;</code> to make the cigarette filters \n",
    " the finding probably will support those who argue that the U.S. should regulate the class of asbestos including <code>&lt;unk&gt;</code> more <code>&lt;unk&gt;</code> than the common kind of asbestos <code>&lt;unk&gt;</code> found in most schools and other buildings dr. <code>&lt;unk&gt;</code> said</center>\n",
    "</div>\n"
   ]
  },
  {
   "cell_type": "markdown",
   "metadata": {},
   "source": [
    "<a id=\"word_embedding\"></a>\n",
    "<h2>Word Embeddings</h2><br/>\n",
    "\n",
    "For better processing, in this example, we will make use of <a href=\"https://www.tensorflow.org/tutorials/word2vec/\"><b>word embeddings</b></a>, which is <b>a way of representing sentence structures or words as n-dimensional vectors (where n is a reasonably high number, such as 200 or 500) of real numbers</b>. Basically, we will assign each word a randomly-initialized vector, and input those into the network to be processed. After a number of iterations, these vectors are expected to assume values that help the network to correctly predict what it needs to -- in our case, the probable next word in the sentence. This is shown to be a very effective task in Natural Language Processing, and is a commonplace practice.\n",
    "<br><br>\n",
    "<font size=\"4\"><strong>\n",
    "$$Vec(\"Example\") = [0.02, 0.00, 0.00, 0.92, 0.30, \\ldots]$$\n",
    "</strong></font>\n",
    "<br>\n",
    "Word Embedding tends to group up similarly used words <i>reasonably</i> close together in the vectorial space. For example, if we use T-SNE (a dimensional reduction visualization algorithm) to flatten the dimensions of our vectors into a 2-dimensional space and plot these words in a 2-dimensional space, we might see something like this:\n",
    "\n",
    "<img src=\"https://ibm.box.com/shared/static/bqhc5dg879gcoabzhxra1w8rkg3od1cu.png\" width=\"800\">\n",
    "<center><i>T-SNE Mockup with clusters marked for easier visualization</i></center>\n",
    "<br><br>\n",
    "As you can see, words that are frequently used together, in place of each other, or in the same places as them tend to be grouped together -- being closer together the higher they are correlated. For example, \"None\" is pretty semantically close to \"Zero\", while a phrase that uses \"Italy\", you could probably also fit \"Germany\" in it, with little damage to the sentence structure. The vectorial \"closeness\" for similar words like this is a great indicator of a well-built model.\n",
    "\n",
    "<hr>\n",
    " \n"
   ]
  },
  {
   "cell_type": "markdown",
   "metadata": {},
   "source": [
    "We need to import the necessary modules for our code. We need <b><code>numpy</code></b> and <b><code>tensorflow</code></b>, obviously. Additionally, we can import directly the <b><code>tensorflow.models.rnn</code></b> model, which includes the function for building RNNs, and <b><code>tensorflow.models.rnn.ptb.reader</code></b> which is the helper module for getting the input data from the dataset we just downloaded.\n",
    "\n",
    "If you want to learn more take a look at https://github.com/tensorflow/models/blob/master/tutorials/rnn/ptb/reader.py\n"
   ]
  },
  {
   "cell_type": "code",
   "execution_count": null,
   "metadata": {},
   "outputs": [],
   "source": [
    "!pip install tensorflow==2.9.0\n",
    "!pip install numpy==1.21.4\n"
   ]
  },
  {
   "cell_type": "code",
   "execution_count": 1,
   "metadata": {
    "tags": []
   },
   "outputs": [
    {
     "name": "stderr",
     "output_type": "stream",
     "text": [
      "2024-08-27 03:04:48.012981: I tensorflow/core/util/util.cc:169] oneDNN custom operations are on. You may see slightly different numerical results due to floating-point round-off errors from different computation orders. To turn them off, set the environment variable `TF_ENABLE_ONEDNN_OPTS=0`.\n",
      "2024-08-27 03:04:48.242455: W tensorflow/stream_executor/platform/default/dso_loader.cc:64] Could not load dynamic library 'libcudart.so.11.0'; dlerror: libcudart.so.11.0: cannot open shared object file: No such file or directory\n",
      "2024-08-27 03:04:48.242497: I tensorflow/stream_executor/cuda/cudart_stub.cc:29] Ignore above cudart dlerror if you do not have a GPU set up on your machine.\n"
     ]
    }
   ],
   "source": [
    "import time\n",
    "import numpy as np\n",
    "import tensorflow as tf\n",
    "if not tf.__version__ == '2.9.0':\n",
    "    print(tf.__version__)\n",
    "    raise ValueError('please upgrade to TensorFlow 2.9.0, or restart your Kernel (Kernel->Restart & Clear Output)')"
   ]
  },
  {
   "cell_type": "markdown",
   "metadata": {},
   "source": [
    "IMPORTANT! => Please restart the kernel by clicking on \"Kernel\"->\"Restart and Clear Outout\" and wait until all output disapears. Then your changes are beeing picked up\n"
   ]
  },
  {
   "cell_type": "code",
   "execution_count": null,
   "metadata": {},
   "outputs": [],
   "source": [
    "#!mkdir data\n",
    "#!mkdir data/ptb\n",
    "#!wget -q -O data/ptb/reader.py https://cf-courses-data.s3.us.cloud-object-storage.appdomain.cloud/IBMDeveloperSkillsNetwork-DL0120EN-SkillsNetwork/labs/Week3/data/ptb/reader.py\n",
    "#!cp data/ptb/reader.py .\n",
    "\n"
   ]
  },
  {
   "cell_type": "code",
   "execution_count": 2,
   "metadata": {
    "tags": []
   },
   "outputs": [],
   "source": [
    "# Copyright 2015 The TensorFlow Authors. All Rights Reserved.\n",
    "#\n",
    "# Licensed under the Apache License, Version 2.0 (the \"License\");\n",
    "# you may not use this file except in compliance with the License.\n",
    "# You may obtain a copy of the License at\n",
    "#\n",
    "#     http://www.apache.org/licenses/LICENSE-2.0\n",
    "#\n",
    "# Unless required by applicable law or agreed to in writing, software\n",
    "# distributed under the License is distributed on an \"AS IS\" BASIS,\n",
    "# WITHOUT WARRANTIES OR CONDITIONS OF ANY KIND, either express or implied.\n",
    "# See the License for the specific language governing permissions and\n",
    "# limitations under the License.\n",
    "# ==============================================================================\n",
    "\n",
    "\n",
    "\"\"\"Utilities for parsing PTB text files.\"\"\"\n",
    "from __future__ import absolute_import\n",
    "from __future__ import division\n",
    "from __future__ import print_function\n",
    "\n",
    "import collections\n",
    "import os\n",
    "\n",
    "import numpy as np\n",
    "import tensorflow as tf\n",
    "\n",
    "\n",
    "def _read_words(filename):\n",
    "  with tf.io.gfile.GFile(filename, \"r\") as f:\n",
    "    return f.read().replace(\"\\n\", \"<eos>\").split()\n",
    "\n",
    "\n",
    "def _build_vocab(filename):\n",
    "  data = _read_words(filename)\n",
    "\n",
    "  counter = collections.Counter(data)\n",
    "  count_pairs = sorted(counter.items(), key=lambda x: (-x[1], x[0]))\n",
    "\n",
    "  words, _ = list(zip(*count_pairs))\n",
    "  word_to_id = dict(zip(words, range(len(words))))\n",
    "\n",
    "  return word_to_id\n",
    "\n",
    "\n",
    "def _file_to_word_ids(filename, word_to_id):\n",
    "  data = _read_words(filename)\n",
    "  return [word_to_id[word] for word in data if word in word_to_id]\n",
    "\n",
    "\n",
    "def ptb_raw_data(data_path=None):\n",
    "  \"\"\"Load PTB raw data from data directory \"data_path\".\n",
    "\n",
    "  Reads PTB text files, converts strings to integer ids,\n",
    "  and performs mini-batching of the inputs.\n",
    "\n",
    "  The PTB dataset comes from Tomas Mikolov's webpage:\n",
    "\n",
    "  http://www.fit.vutbr.cz/~imikolov/rnnlm/simple-examples.tgz\n",
    "\n",
    "  Args:\n",
    "    data_path: string path to the directory where simple-examples.tgz has\n",
    "      been extracted.\n",
    "\n",
    "  Returns:\n",
    "    tuple (train_data, valid_data, test_data, vocabulary)\n",
    "    where each of the data objects can be passed to PTBIterator.\n",
    "  \"\"\"\n",
    "\n",
    "  train_path = os.path.join(data_path, \"ptb.train.txt\")\n",
    "  valid_path = os.path.join(data_path, \"ptb.valid.txt\")\n",
    "  test_path = os.path.join(data_path, \"ptb.test.txt\")\n",
    "\n",
    "  word_to_id = _build_vocab(train_path)\n",
    "  train_data = _file_to_word_ids(train_path, word_to_id)\n",
    "  valid_data = _file_to_word_ids(valid_path, word_to_id)\n",
    "  test_data = _file_to_word_ids(test_path, word_to_id)\n",
    "  vocabulary = len(word_to_id)\n",
    "  return train_data, valid_data, test_data, vocabulary, word_to_id\n",
    "\n",
    "\n",
    "def ptb_iterator(raw_data, batch_size, num_steps):\n",
    "  \"\"\"Iterate on the raw PTB data.\n",
    "\n",
    "  This generates batch_size pointers into the raw PTB data, and allows\n",
    "  minibatch iteration along these pointers.\n",
    "\n",
    "  Args:\n",
    "    raw_data: one of the raw data outputs from ptb_raw_data.\n",
    "    batch_size: int, the batch size.\n",
    "    num_steps: int, the number of unrolls.\n",
    "\n",
    "  Yields:\n",
    "    Pairs of the batched data, each a matrix of shape [batch_size, num_steps].\n",
    "    The second element of the tuple is the same data time-shifted to the\n",
    "    right by one.\n",
    "\n",
    "  Raises:\n",
    "    ValueError: if batch_size or num_steps are too high.\n",
    "  \"\"\"\n",
    "  raw_data = np.array(raw_data, dtype=np.int32)\n",
    "\n",
    "  data_len = len(raw_data)\n",
    "  batch_len = data_len // batch_size\n",
    "  data = np.zeros([batch_size, batch_len], dtype=np.int32)\n",
    "  for i in range(batch_size):\n",
    "    data[i] = raw_data[batch_len * i:batch_len * (i + 1)]\n",
    "\n",
    "  epoch_size = (batch_len - 1) // num_steps\n",
    "\n",
    "  if epoch_size == 0:\n",
    "    raise ValueError(\"epoch_size == 0, decrease batch_size or num_steps\")\n",
    "\n",
    "  for i in range(epoch_size):\n",
    "    x = data[:, i*num_steps:(i+1)*num_steps]\n",
    "    y = data[:, i*num_steps+1:(i+1)*num_steps+1]\n",
    "    yield (x, y)"
   ]
  },
  {
   "cell_type": "markdown",
   "metadata": {},
   "source": [
    "<a id=\"building_lstm_model\"></a>\n",
    "<h2>Building the LSTM model for Language Modeling</h2>\n",
    "Now that we know exactly what we are doing, we can start building our model using TensorFlow. The very first thing we need to do is download and extract the  dataset, which can be done by executing the code cell below.\n"
   ]
  },
  {
   "cell_type": "code",
   "execution_count": 3,
   "metadata": {
    "tags": []
   },
   "outputs": [
    {
     "name": "stdout",
     "output_type": "stream",
     "text": [
      "--2024-08-27 03:05:13--  https://cf-courses-data.s3.us.cloud-object-storage.appdomain.cloud/SPqCgT4JZp9royRjGgbqSA/data.zip\n",
      "Resolving cf-courses-data.s3.us.cloud-object-storage.appdomain.cloud (cf-courses-data.s3.us.cloud-object-storage.appdomain.cloud)... 169.63.118.104, 169.63.118.104\n",
      "Connecting to cf-courses-data.s3.us.cloud-object-storage.appdomain.cloud (cf-courses-data.s3.us.cloud-object-storage.appdomain.cloud)|169.63.118.104|:443... connected.\n",
      "HTTP request sent, awaiting response... 200 OK\n",
      "Length: 2020687 (1.9M) [application/zip]\n",
      "Saving to: ‘data.zip’\n",
      "\n",
      "data.zip            100%[===================>]   1.93M  --.-KB/s    in 0.05s   \n",
      "\n",
      "2024-08-27 03:05:14 (40.1 MB/s) - ‘data.zip’ saved [2020687/2020687]\n",
      "\n",
      "Archive:  data.zip\n",
      "  inflating: data/ptb.test.txt       \n",
      "  inflating: data/ptb.train.txt      \n",
      "  inflating: data/ptb.valid.txt      \n"
     ]
    }
   ],
   "source": [
    "!wget https://cf-courses-data.s3.us.cloud-object-storage.appdomain.cloud/SPqCgT4JZp9royRjGgbqSA/data.zip\n",
    "!unzip -o data.zip"
   ]
  },
  {
   "cell_type": "markdown",
   "metadata": {},
   "source": [
    "Additionally, for the sake of making it easy to play around with the model's hyperparameters, we can declare them beforehand. Feel free to change these -- you will see a difference in performance each time you change those!  \n"
   ]
  },
  {
   "cell_type": "code",
   "execution_count": 4,
   "metadata": {
    "tags": []
   },
   "outputs": [],
   "source": [
    "#Initial weight scale\n",
    "init_scale = 0.1\n",
    "#Initial learning rate\n",
    "learning_rate = 1.0\n",
    "#Maximum permissible norm for the gradient (For gradient clipping -- another measure against Exploding Gradients)\n",
    "max_grad_norm = 5\n",
    "#The number of layers in our model\n",
    "num_layers = 2\n",
    "#The total number of recurrence steps, also known as the number of layers when our RNN is \"unfolded\"\n",
    "num_steps = 20\n",
    "#The number of processing units (neurons) in the hidden layers\n",
    "hidden_size_l1 = 256\n",
    "hidden_size_l2 = 128\n",
    "#The maximum number of epochs trained with the initial learning rate\n",
    "max_epoch_decay_lr = 4\n",
    "#The total number of epochs in training\n",
    "max_epoch = 15\n",
    "#The probability for keeping data in the Dropout Layer (This is an optimization, but is outside our scope for this notebook!)\n",
    "#At 1, we ignore the Dropout Layer wrapping.\n",
    "keep_prob = 1\n",
    "#The decay for the learning rate\n",
    "decay = 0.5\n",
    "#The size for each batch of data\n",
    "batch_size = 30\n",
    "#The size of our vocabulary\n",
    "vocab_size = 10000\n",
    "embeding_vector_size= 200\n",
    "#Training flag to separate training from testing\n",
    "is_training = 1\n",
    "#Data directory for our dataset\n",
    "data_dir = \"data\""
   ]
  },
  {
   "cell_type": "markdown",
   "metadata": {},
   "source": [
    "Some clarifications for LSTM architecture based on the arguments:\n",
    "\n",
    "Network structure:\n",
    "<ul>\n",
    "    <li>In this network, the number of LSTM cells are 2. To give the model more expressive power, we can add multiple layers of LSTMs to process the data. The output of the first layer will become the input of the second and so on.\n",
    "    </li>\n",
    "    <li>The recurrence steps is 20, that is, when our RNN is \"Unfolded\", the recurrence step is 20.</li>   \n",
    "    <li>the structure is like:\n",
    "        <ul>\n",
    "            <li>200 input units -> [200x200] Weight -> 200 Hidden units (first layer) -> [200x200] Weight matrix  -> 200 Hidden units (second layer) ->  [200] weight Matrix -> 200 unit output</li>\n",
    "        </ul>\n",
    "    </li>\n",
    "</ul>\n",
    "<br>\n",
    "\n",
    "Input layer: \n",
    "<ul>\n",
    "    <li>The network has 200 input units.</li>\n",
    "    <li>Suppose each word is represented by an embedding vector of dimensionality e=200. The input layer of each cell will have 200 linear units. These e=200 linear units are connected to each of the h=200 LSTM units in the hidden layer (assuming there is only one hidden layer, though our case has 2 layers).\n",
    "    </li>\n",
    "    <li>The input shape is [batch_size, num_steps], that is [30x20]. It will turn into [30x20x200] after embedding, and then 20x[30x200]\n",
    "    </li>\n",
    "</ul>\n",
    "<br>\n",
    "\n",
    "Hidden layer:\n",
    "<ul>\n",
    "    <li>Each LSTM has 200 hidden units which is equivalent to the dimensionality of the embedding words and output.</li>\n",
    "</ul>\n",
    "<br>\n"
   ]
  },
  {
   "cell_type": "markdown",
   "metadata": {},
   "source": [
    "There is a lot to be done and a ton of information to process at the same time, so go over this code slowly. It may seem complex at first, but if you try to apply what you just learned about language modelling to the code you see, you should be able to understand it.\n",
    "\n",
    "This code is adapted from the <a href=\"https://github.com/tensorflow/models\">PTBModel</a> example bundled with the TensorFlow source code.\n",
    "\n",
    "\n",
    "<h3>Training data</h3>\n",
    "The story starts from data:\n",
    "<ul>\n",
    "    <li>Train data is a list of words, of size 929589, represented by numbers, e.g. [9971, 9972, 9974, 9975,...]</li>\n",
    "    <li>We read data as mini-batch of size b=30. Assume the size of each sentence is 20 words (num_steps = 20). Then it will take $$floor(\\frac{N}{b \\times h})+1=1548$$ iterations for the learner to go through all sentences once. Where N is the size of the list of words, b is batch size, and h is size of each sentence. So, the number of iterators is 1548\n",
    "    </li>\n",
    "    <li>Each batch data is read from train dataset of size 600, and shape of [30x20]</li>\n",
    "</ul>\n"
   ]
  },
  {
   "cell_type": "code",
   "execution_count": 5,
   "metadata": {
    "tags": []
   },
   "outputs": [],
   "source": [
    "# Reads the data and separates it into training data, validation data and testing data\n",
    "raw_data = ptb_raw_data(data_dir)\n",
    "train_data, valid_data, test_data, vocab, word_to_id = raw_data"
   ]
  },
  {
   "cell_type": "code",
   "execution_count": 6,
   "metadata": {
    "tags": []
   },
   "outputs": [
    {
     "data": {
      "text/plain": [
       "929589"
      ]
     },
     "execution_count": 6,
     "metadata": {},
     "output_type": "execute_result"
    }
   ],
   "source": [
    "len(train_data)"
   ]
  },
  {
   "cell_type": "code",
   "execution_count": 7,
   "metadata": {
    "tags": []
   },
   "outputs": [
    {
     "name": "stdout",
     "output_type": "stream",
     "text": [
      "['aer', 'banknote', 'berlitz', 'calloway', 'centrust', 'cluett', 'fromstein', 'gitano', 'guterman', 'hydro-quebec', 'ipo', 'kia', 'memotec', 'mlx', 'nahb', 'punts', 'rake', 'regatta', 'rubens', 'sim', 'snack-food', 'ssangyong', 'swapo', 'wachter', '<eos>', 'pierre', '<unk>', 'N', 'years', 'old', 'will', 'join', 'the', 'board', 'as', 'a', 'nonexecutive', 'director', 'nov.', 'N', '<eos>', 'mr.', '<unk>', 'is', 'chairman', 'of', '<unk>', 'n.v.', 'the', 'dutch', 'publishing', 'group', '<eos>', 'rudolph', '<unk>', 'N', 'years', 'old', 'and', 'former', 'chairman', 'of', 'consolidated', 'gold', 'fields', 'plc', 'was', 'named', 'a', 'nonexecutive', 'director', 'of', 'this', 'british', 'industrial', 'conglomerate', '<eos>', 'a', 'form', 'of', 'asbestos', 'once', 'used', 'to', 'make', 'kent', 'cigarette', 'filters', 'has', 'caused', 'a', 'high', 'percentage', 'of', 'cancer', 'deaths', 'among', 'a', 'group', 'of']\n"
     ]
    }
   ],
   "source": [
    "def id_to_word(id_list):\n",
    "    line = []\n",
    "    for w in id_list:\n",
    "        for word, wid in word_to_id.items():\n",
    "            if wid == w:\n",
    "                line.append(word)\n",
    "    return line            \n",
    "                \n",
    "\n",
    "print(id_to_word(train_data[0:100]))"
   ]
  },
  {
   "cell_type": "markdown",
   "metadata": {},
   "source": [
    "Lets just read one mini-batch now and feed our network:\n"
   ]
  },
  {
   "cell_type": "code",
   "execution_count": 8,
   "metadata": {
    "tags": []
   },
   "outputs": [],
   "source": [
    "itera = ptb_iterator(train_data, batch_size, num_steps)\n",
    "first_touple = itera.__next__()\n",
    "_input_data = first_touple[0]\n",
    "_targets = first_touple[1]"
   ]
  },
  {
   "cell_type": "code",
   "execution_count": 9,
   "metadata": {
    "tags": []
   },
   "outputs": [
    {
     "data": {
      "text/plain": [
       "(30, 20)"
      ]
     },
     "execution_count": 9,
     "metadata": {},
     "output_type": "execute_result"
    }
   ],
   "source": [
    "_input_data.shape"
   ]
  },
  {
   "cell_type": "code",
   "execution_count": 10,
   "metadata": {
    "tags": []
   },
   "outputs": [
    {
     "data": {
      "text/plain": [
       "(30, 20)"
      ]
     },
     "execution_count": 10,
     "metadata": {},
     "output_type": "execute_result"
    }
   ],
   "source": [
    "_targets.shape"
   ]
  },
  {
   "cell_type": "markdown",
   "metadata": {},
   "source": [
    "Lets look at 3 sentences of our input x:\n"
   ]
  },
  {
   "cell_type": "code",
   "execution_count": 11,
   "metadata": {
    "tags": []
   },
   "outputs": [
    {
     "data": {
      "text/plain": [
       "array([[9970, 9971, 9972, 9974, 9975, 9976, 9980, 9981, 9982, 9983, 9984,\n",
       "        9986, 9987, 9988, 9989, 9991, 9992, 9993, 9994, 9995],\n",
       "       [2654,    6,  334, 2886,    4,    1,  233,  711,  834,   11,  130,\n",
       "         123,    7,  514,    2,   63,   10,  514,    8,  605],\n",
       "       [   0, 1071,    4,    0,  185,   24,  368,   20,   31, 3109,  954,\n",
       "          12,    3,   21,    2, 2915,    2,   12,    3,   21]],\n",
       "      dtype=int32)"
      ]
     },
     "execution_count": 11,
     "metadata": {},
     "output_type": "execute_result"
    }
   ],
   "source": [
    "_input_data[0:3]"
   ]
  },
  {
   "cell_type": "code",
   "execution_count": 12,
   "metadata": {
    "tags": []
   },
   "outputs": [
    {
     "name": "stdout",
     "output_type": "stream",
     "text": [
      "['aer', 'banknote', 'berlitz', 'calloway', 'centrust', 'cluett', 'fromstein', 'gitano', 'guterman', 'hydro-quebec', 'ipo', 'kia', 'memotec', 'mlx', 'nahb', 'punts', 'rake', 'regatta', 'rubens', 'sim']\n"
     ]
    }
   ],
   "source": [
    "print(id_to_word(_input_data[0,:]))"
   ]
  },
  {
   "cell_type": "markdown",
   "metadata": {},
   "source": [
    "<h3>Embeddings</h3>\n",
    "We have to convert the words in our dataset to vectors of numbers. The traditional approach is to use one-hot encoding method that is usually used for converting categorical values to numerical values. However, One-hot encoded vectors are high-dimensional, sparse and in a big dataset, computationally inefficient. So, we use word2vec approach. It is, in fact, a layer in our LSTM network, where the word IDs will be represented as a dense representation before feeding to the LSTM. \n",
    "\n",
    "The embedded vectors also get updated during the training process of the deep neural network.\n",
    "We create the embeddings for our input data. <b>embedding_vocab</b> is matrix of [10000x200] for all 10000 unique words.\n"
   ]
  },
  {
   "cell_type": "markdown",
   "metadata": {},
   "source": [
    "<b>embedding_lookup()</b> finds the embedded values for our batch of 30x20 words. It  goes to each row of <code>input_data</code>, and for each word in the row/sentence, finds the correspond vector in <code>embedding_dic<code>. <br>\n",
    "It creates a [30x20x200] tensor, so, the first element of <b>inputs</b> (the first sentence), is a matrix of 20x200, which each row of it, is vector representing a word in the sentence.\n"
   ]
  },
  {
   "cell_type": "code",
   "execution_count": 13,
   "metadata": {
    "tags": []
   },
   "outputs": [],
   "source": [
    "embedding_layer = tf.keras.layers.Embedding(vocab_size, embeding_vector_size,batch_input_shape=(batch_size, num_steps),trainable=True,name=\"embedding_vocab\")  "
   ]
  },
  {
   "cell_type": "code",
   "execution_count": 14,
   "metadata": {
    "tags": []
   },
   "outputs": [
    {
     "name": "stderr",
     "output_type": "stream",
     "text": [
      "2024-08-27 03:07:47.580208: W tensorflow/stream_executor/platform/default/dso_loader.cc:64] Could not load dynamic library 'libcuda.so.1'; dlerror: libcuda.so.1: cannot open shared object file: No such file or directory\n",
      "2024-08-27 03:07:47.580273: W tensorflow/stream_executor/cuda/cuda_driver.cc:269] failed call to cuInit: UNKNOWN ERROR (303)\n",
      "2024-08-27 03:07:47.580330: I tensorflow/stream_executor/cuda/cuda_diagnostics.cc:156] kernel driver does not appear to be running on this host (jupyterlab-sirarmin): /proc/driver/nvidia/version does not exist\n",
      "2024-08-27 03:07:47.581281: I tensorflow/core/platform/cpu_feature_guard.cc:193] This TensorFlow binary is optimized with oneAPI Deep Neural Network Library (oneDNN) to use the following CPU instructions in performance-critical operations:  AVX2 AVX512F AVX512_VNNI FMA\n",
      "To enable them in other operations, rebuild TensorFlow with the appropriate compiler flags.\n"
     ]
    },
    {
     "data": {
      "text/plain": [
       "<tf.Tensor: shape=(30, 20, 200), dtype=float32, numpy=\n",
       "array([[[-1.67776719e-02,  1.21657625e-02,  3.46438624e-02, ...,\n",
       "         -2.20440757e-02,  4.13668267e-02,  2.39499696e-02],\n",
       "        [ 2.79276110e-02, -3.69002111e-02,  4.12308015e-02, ...,\n",
       "          1.71428435e-02, -5.98139688e-03,  1.05352513e-02],\n",
       "        [-4.56244349e-02,  1.23752952e-02,  1.35639943e-02, ...,\n",
       "         -5.82506508e-03,  4.80049588e-02, -4.01835442e-02],\n",
       "        ...,\n",
       "        [ 8.69343430e-03, -5.47523424e-03, -3.86175513e-02, ...,\n",
       "         -4.80484478e-02, -4.85927127e-02,  4.71636765e-02],\n",
       "        [ 1.91306509e-02, -1.45172700e-02, -3.69120017e-02, ...,\n",
       "          4.40281667e-02,  4.39677276e-02, -1.26403198e-02],\n",
       "        [-2.57287864e-02, -1.53915957e-03, -1.22535452e-02, ...,\n",
       "          4.89937551e-02, -5.75580448e-03, -1.80220827e-02]],\n",
       "\n",
       "       [[ 1.48744099e-02,  1.34832896e-02,  2.09686421e-02, ...,\n",
       "          9.83549282e-03, -1.91084743e-02,  5.14832884e-03],\n",
       "        [-4.64390889e-02, -4.57116850e-02, -1.26309507e-02, ...,\n",
       "          2.34642960e-02, -1.16878040e-02, -1.67985782e-02],\n",
       "        [-4.30843122e-02, -1.35941021e-02,  3.15325744e-02, ...,\n",
       "         -3.84730101e-03,  4.87027280e-02,  8.84790346e-03],\n",
       "        ...,\n",
       "        [-4.42726389e-02, -2.21654065e-02,  4.60506789e-02, ...,\n",
       "         -1.66317075e-03,  4.48454954e-02,  4.59087230e-02],\n",
       "        [-5.86950779e-03, -6.79073483e-03,  4.88589145e-02, ...,\n",
       "         -4.76803891e-02, -2.47383844e-02, -4.82739098e-02],\n",
       "        [-2.06225161e-02, -4.30010222e-02, -3.92007008e-02, ...,\n",
       "         -1.04670748e-02,  1.15466006e-02, -9.28974152e-03]],\n",
       "\n",
       "       [[ 8.77434015e-03, -1.21653192e-02, -8.90947878e-04, ...,\n",
       "         -6.37806579e-03, -4.11382206e-02, -3.26951742e-02],\n",
       "        [ 5.65435737e-03,  3.38422991e-02,  3.19234990e-02, ...,\n",
       "          1.80294402e-02,  4.45263274e-02,  3.52844931e-02],\n",
       "        [ 2.63104923e-02, -2.86787990e-02, -4.40820567e-02, ...,\n",
       "          4.88360859e-02,  1.62683390e-02,  8.99225473e-03],\n",
       "        ...,\n",
       "        [ 1.39470734e-02, -4.06146049e-02,  2.92378664e-03, ...,\n",
       "          6.27207756e-03,  4.41739820e-02,  2.67839469e-02],\n",
       "        [ 3.93571891e-02,  3.77156846e-02, -2.77752168e-02, ...,\n",
       "          8.11982900e-04, -1.83145180e-02,  3.36847343e-02],\n",
       "        [ 4.48029302e-02, -2.49417871e-03, -4.29341309e-02, ...,\n",
       "          2.15875395e-02,  3.83982919e-02, -3.47227678e-02]],\n",
       "\n",
       "       ...,\n",
       "\n",
       "       [[ 3.36298235e-02,  5.42949513e-03,  1.62437297e-02, ...,\n",
       "          4.12824638e-02, -4.58259359e-02,  9.48437303e-03],\n",
       "        [-2.16088891e-02,  1.73188746e-04, -3.99779305e-02, ...,\n",
       "          3.08370851e-02, -2.70048138e-02, -4.58727591e-02],\n",
       "        [-2.96212323e-02, -2.17002388e-02, -1.46218389e-03, ...,\n",
       "          4.86174971e-03,  3.17411758e-02,  7.63819367e-03],\n",
       "        ...,\n",
       "        [-1.84632652e-02,  4.66729291e-02, -4.27719355e-02, ...,\n",
       "          8.58195126e-05,  2.87378691e-02, -2.80207396e-02],\n",
       "        [-8.84270668e-03, -3.17567587e-03, -3.81615385e-02, ...,\n",
       "         -3.27184349e-02, -1.08600743e-02,  4.28574160e-03],\n",
       "        [ 2.15931274e-02, -4.91339453e-02,  2.75365226e-02, ...,\n",
       "         -3.06193475e-02, -3.58047485e-02,  4.56294082e-02]],\n",
       "\n",
       "       [[ 3.78812291e-02,  9.80474800e-03,  1.58650987e-02, ...,\n",
       "          5.32014295e-03,  3.74826454e-02,  3.45858447e-02],\n",
       "        [-4.50152867e-02,  1.96573175e-02, -1.64943933e-03, ...,\n",
       "          4.09866497e-03, -3.99168022e-02,  9.41374153e-03],\n",
       "        [ 2.63104923e-02, -2.86787990e-02, -4.40820567e-02, ...,\n",
       "          4.88360859e-02,  1.62683390e-02,  8.99225473e-03],\n",
       "        ...,\n",
       "        [-3.79678123e-02, -2.49507427e-02, -7.70419836e-03, ...,\n",
       "          5.18967956e-03, -3.57936844e-02, -1.10279396e-03],\n",
       "        [-4.64390889e-02, -4.57116850e-02, -1.26309507e-02, ...,\n",
       "          2.34642960e-02, -1.16878040e-02, -1.67985782e-02],\n",
       "        [-1.12557895e-02, -7.66872242e-03,  9.19800997e-03, ...,\n",
       "         -5.23202494e-03, -3.79764438e-02,  1.37257837e-02]],\n",
       "\n",
       "       [[-1.75831094e-02, -3.76409665e-02, -1.68138035e-02, ...,\n",
       "         -1.24159828e-02,  8.43963772e-03, -6.93552569e-03],\n",
       "        [ 4.69705127e-02, -2.80430075e-02,  9.65142250e-03, ...,\n",
       "         -3.73649970e-02, -4.91676591e-02,  1.31831653e-02],\n",
       "        [-3.64899859e-02,  2.54268683e-02, -2.66965870e-02, ...,\n",
       "         -2.73513924e-02, -4.73347194e-02,  3.26615609e-02],\n",
       "        ...,\n",
       "        [ 2.31374018e-02, -2.46836189e-02, -2.93645617e-02, ...,\n",
       "          3.65927927e-02, -3.19873914e-02,  2.53355838e-02],\n",
       "        [ 4.55441214e-02, -7.64689595e-03, -1.40305273e-02, ...,\n",
       "          2.30630375e-02, -2.93879043e-02,  1.70881785e-02],\n",
       "        [-2.04457995e-02,  2.22117193e-02, -9.22007486e-03, ...,\n",
       "          1.80640072e-03, -2.22080834e-02, -2.82037854e-02]]],\n",
       "      dtype=float32)>"
      ]
     },
     "execution_count": 14,
     "metadata": {},
     "output_type": "execute_result"
    }
   ],
   "source": [
    "# Define where to get the data for our embeddings from\n",
    "inputs = embedding_layer(_input_data)\n",
    "inputs"
   ]
  },
  {
   "cell_type": "markdown",
   "metadata": {},
   "source": [
    "<h3>Constructing Recurrent Neural Networks</h3>\n"
   ]
  },
  {
   "cell_type": "markdown",
   "metadata": {},
   "source": [
    "In this step, we create the stacked LSTM using <b>tf.keras.layers.StackedRNNCells</b>, which is a 2 layer LSTM network:\n"
   ]
  },
  {
   "cell_type": "code",
   "execution_count": 15,
   "metadata": {
    "tags": []
   },
   "outputs": [],
   "source": [
    "lstm_cell_l1 = tf.keras.layers.LSTMCell(hidden_size_l1)\n",
    "lstm_cell_l2 = tf.keras.layers.LSTMCell(hidden_size_l2)"
   ]
  },
  {
   "cell_type": "code",
   "execution_count": 16,
   "metadata": {
    "tags": []
   },
   "outputs": [],
   "source": [
    "stacked_lstm = tf.keras.layers.StackedRNNCells([lstm_cell_l1, lstm_cell_l2])"
   ]
  },
  {
   "cell_type": "markdown",
   "metadata": {},
   "source": [
    "<b>tf.keras.layers.RNN</b> creates a recurrent neural network using <b>stacked_lstm</b>. \n",
    "\n",
    "The input should be a Tensor of shape: [batch_size, max_time, embedding_vector_size], in our case it would be (30, 20, 200)\n"
   ]
  },
  {
   "cell_type": "code",
   "execution_count": 17,
   "metadata": {
    "tags": []
   },
   "outputs": [],
   "source": [
    "layer  =  tf.keras.layers.RNN(stacked_lstm,[batch_size, num_steps],return_state=False,stateful=True,trainable=True)"
   ]
  },
  {
   "cell_type": "markdown",
   "metadata": {},
   "source": [
    "Also, we initialize the states of the nework:\n",
    "\n",
    "<h4>_initial_state</h4>\n",
    "\n",
    "For each LSTM, there are 2 state matrices, c\\_state and m\\_state.  c_state and m_state represent \"Memory State\" and \"Cell State\". Each hidden layer, has a vector of size 30, which keeps the states. so, for 200 hidden units in each LSTM, we have a matrix of size [30x200]\n"
   ]
  },
  {
   "cell_type": "code",
   "execution_count": 18,
   "metadata": {
    "tags": []
   },
   "outputs": [],
   "source": [
    "init_state = tf.Variable(tf.zeros([batch_size,embeding_vector_size]),trainable=False)"
   ]
  },
  {
   "cell_type": "code",
   "execution_count": 19,
   "metadata": {
    "tags": []
   },
   "outputs": [],
   "source": [
    "layer.inital_state = init_state"
   ]
  },
  {
   "cell_type": "code",
   "execution_count": 20,
   "metadata": {
    "tags": []
   },
   "outputs": [
    {
     "data": {
      "text/plain": [
       "<tf.Variable 'Variable:0' shape=(30, 200) dtype=float32, numpy=\n",
       "array([[0., 0., 0., ..., 0., 0., 0.],\n",
       "       [0., 0., 0., ..., 0., 0., 0.],\n",
       "       [0., 0., 0., ..., 0., 0., 0.],\n",
       "       ...,\n",
       "       [0., 0., 0., ..., 0., 0., 0.],\n",
       "       [0., 0., 0., ..., 0., 0., 0.],\n",
       "       [0., 0., 0., ..., 0., 0., 0.]], dtype=float32)>"
      ]
     },
     "execution_count": 20,
     "metadata": {},
     "output_type": "execute_result"
    }
   ],
   "source": [
    "layer.inital_state"
   ]
  },
  {
   "cell_type": "markdown",
   "metadata": {},
   "source": [
    "so, lets look at the outputs. The output of the stackedLSTM comes from 128 hidden_layer, and in each time step(=20), one of them get activated. we use the linear activation to map the 128 hidden layer to a [30X20 matrix]\n"
   ]
  },
  {
   "cell_type": "code",
   "execution_count": 21,
   "metadata": {
    "tags": []
   },
   "outputs": [],
   "source": [
    "outputs = layer(inputs)"
   ]
  },
  {
   "cell_type": "code",
   "execution_count": 22,
   "metadata": {
    "tags": []
   },
   "outputs": [
    {
     "data": {
      "text/plain": [
       "<tf.Tensor: shape=(30, 20, 128), dtype=float32, numpy=\n",
       "array([[[-6.8643189e-04, -1.8504569e-04,  1.3411777e-03, ...,\n",
       "         -1.8338214e-03, -5.7299965e-04,  1.0676044e-03],\n",
       "        [ 2.3458143e-04,  1.4218107e-03,  1.0647657e-03, ...,\n",
       "         -2.5063711e-03,  7.2436564e-04,  8.6902984e-04],\n",
       "        [-1.9445330e-04,  1.3189499e-03,  1.9242215e-03, ...,\n",
       "         -3.5510424e-03,  9.5762027e-04,  1.2758211e-03],\n",
       "        ...,\n",
       "        [-9.7276113e-04, -1.3547571e-03, -3.9325519e-03, ...,\n",
       "          2.7469632e-03, -3.1180531e-03, -3.1775837e-03],\n",
       "        [ 4.6478651e-04, -2.1718449e-03, -5.0230944e-03, ...,\n",
       "          1.8343475e-03, -2.8996093e-03, -4.3353955e-03],\n",
       "        [-2.8539603e-04, -2.0237460e-03, -5.1020430e-03, ...,\n",
       "          1.8774365e-03, -2.4408775e-03, -4.6188477e-03]],\n",
       "\n",
       "       [[ 4.7826010e-04, -4.0847383e-04,  5.3866080e-04, ...,\n",
       "         -6.0554547e-04,  9.8162086e-04, -6.2801328e-04],\n",
       "        [ 1.5789422e-03, -1.2181891e-05,  2.2209666e-03, ...,\n",
       "         -9.9185132e-04,  6.5615808e-04, -6.6345988e-04],\n",
       "        [ 2.2174178e-03, -5.1319686e-04,  2.0882026e-03, ...,\n",
       "         -1.3428859e-03,  1.0581145e-03, -1.0300748e-03],\n",
       "        ...,\n",
       "        [ 2.9766845e-04, -1.2423754e-03, -1.7188839e-03, ...,\n",
       "         -6.2934705e-03,  2.0774337e-03, -2.0781122e-03],\n",
       "        [ 1.3020067e-03, -2.4050511e-03, -2.4754561e-03, ...,\n",
       "         -6.4045331e-03,  4.6664434e-03, -2.4581896e-03],\n",
       "        [ 2.3729894e-03, -2.6407724e-03, -3.2337182e-03, ...,\n",
       "         -5.3714123e-03,  6.6225557e-03, -2.6177950e-03]],\n",
       "\n",
       "       [[-4.3014434e-04, -1.2008937e-03, -1.9863737e-03, ...,\n",
       "         -3.2691020e-04,  8.0044271e-04, -4.6251886e-04],\n",
       "        [ 7.8227327e-05, -1.9132177e-03, -3.3512888e-03, ...,\n",
       "         -8.8971516e-04,  1.0725240e-03,  7.6922792e-05],\n",
       "        [ 8.7817613e-04, -2.2138979e-03, -3.5673853e-03, ...,\n",
       "         -1.0266709e-03,  1.0176830e-03, -1.1878531e-05],\n",
       "        ...,\n",
       "        [ 1.7757695e-03,  1.9621553e-03, -2.0009479e-03, ...,\n",
       "          4.2038746e-03,  5.9336745e-03,  2.7421063e-03],\n",
       "        [ 1.8174896e-03,  1.3758333e-03, -2.7682108e-03, ...,\n",
       "          5.2807024e-03,  5.8944887e-03,  3.1088197e-03],\n",
       "        [ 1.8664524e-03,  1.8361310e-03, -2.9308349e-03, ...,\n",
       "          6.2368624e-03,  5.9680408e-03,  2.8048039e-03]],\n",
       "\n",
       "       ...,\n",
       "\n",
       "       [[-8.2995894e-04,  5.5449805e-04,  4.3482587e-04, ...,\n",
       "         -3.4334671e-04, -5.2254059e-04, -5.1844271e-04],\n",
       "        [-1.9372478e-03,  2.1044353e-03,  1.6283904e-03, ...,\n",
       "         -3.9718204e-04, -1.2503816e-03, -1.5226296e-05],\n",
       "        [-2.3484335e-03,  4.7596884e-03,  1.9139505e-03, ...,\n",
       "          2.0957337e-04, -4.9547013e-04, -2.4395013e-04],\n",
       "        ...,\n",
       "        [-1.2589999e-03,  5.8651273e-03,  1.4691065e-03, ...,\n",
       "         -2.0367878e-03,  7.1930332e-04, -1.2107641e-03],\n",
       "        [-1.1058784e-03,  6.4377682e-03, -3.7029787e-04, ...,\n",
       "         -1.8216163e-03,  1.1814904e-03, -8.5905206e-04],\n",
       "        [-1.2327012e-03,  7.0025316e-03, -7.3350221e-04, ...,\n",
       "         -1.7274165e-03,  4.1881041e-04, -2.0960439e-03]],\n",
       "\n",
       "       [[ 7.7980792e-04, -2.1490570e-04,  4.1735230e-04, ...,\n",
       "         -1.3419895e-03, -1.2428452e-03,  5.8332446e-04],\n",
       "        [ 1.6465641e-03,  8.0769227e-05, -1.2862943e-03, ...,\n",
       "         -5.3545705e-04, -1.8753529e-03,  1.1911324e-03],\n",
       "        [ 2.3889870e-03,  3.1652558e-04, -2.1499079e-03, ...,\n",
       "         -1.0790569e-04, -2.5828360e-03,  9.5765840e-04],\n",
       "        ...,\n",
       "        [-2.4573251e-03, -2.4685380e-03, -3.3293758e-03, ...,\n",
       "         -1.1417294e-03,  1.0407607e-03, -4.9689007e-03],\n",
       "        [-1.3631956e-03, -2.4760850e-03, -1.7223414e-03, ...,\n",
       "         -1.2214738e-03, -1.2964149e-03, -3.5801895e-03],\n",
       "        [ 1.0429072e-03, -3.1762635e-03, -5.3660880e-04, ...,\n",
       "         -3.8174324e-04, -1.7446795e-03, -2.4013759e-03]],\n",
       "\n",
       "       [[-8.3198253e-04, -2.4827888e-05, -7.8067521e-04, ...,\n",
       "          6.1454158e-04,  2.5501524e-04, -7.8360882e-04],\n",
       "        [-4.6313697e-04, -7.7297864e-04, -3.3345900e-04, ...,\n",
       "          1.0591601e-03,  1.0045276e-03, -1.0312604e-03],\n",
       "        [-5.2736036e-04,  1.6289149e-04,  2.9884532e-04, ...,\n",
       "         -3.1490109e-04,  1.5421025e-04, -9.9469826e-04],\n",
       "        ...,\n",
       "        [-3.0816160e-03, -8.0733246e-04, -6.8038935e-03, ...,\n",
       "         -1.2091741e-03, -3.7202246e-03, -7.1346888e-04],\n",
       "        [-3.3330601e-03, -1.2579267e-03, -9.1016227e-03, ...,\n",
       "         -1.1355870e-03, -4.1926522e-03, -1.4722318e-03],\n",
       "        [-8.5928623e-04, -3.1648669e-03, -1.1563355e-02, ...,\n",
       "         -2.5923306e-04, -4.0434641e-03, -2.4992432e-03]]], dtype=float32)>"
      ]
     },
     "execution_count": 22,
     "metadata": {},
     "output_type": "execute_result"
    }
   ],
   "source": [
    "outputs"
   ]
  },
  {
   "cell_type": "markdown",
   "metadata": {},
   "source": [
    "<h2>Dense layer</h2>\n",
    "We now create densely-connected neural network layer that would reshape the outputs tensor from  [30 x 20 x 128] to [30 x 20 x 10000].\n"
   ]
  },
  {
   "cell_type": "code",
   "execution_count": 23,
   "metadata": {
    "tags": []
   },
   "outputs": [],
   "source": [
    "dense = tf.keras.layers.Dense(vocab_size)"
   ]
  },
  {
   "cell_type": "code",
   "execution_count": 24,
   "metadata": {
    "tags": []
   },
   "outputs": [],
   "source": [
    "logits_outputs  = dense(outputs)"
   ]
  },
  {
   "cell_type": "code",
   "execution_count": 25,
   "metadata": {
    "tags": []
   },
   "outputs": [
    {
     "name": "stdout",
     "output_type": "stream",
     "text": [
      "shape of the output from dense layer:  (30, 20, 10000)\n"
     ]
    }
   ],
   "source": [
    "print(\"shape of the output from dense layer: \", logits_outputs.shape) #(batch_size, sequence_length, vocab_size)"
   ]
  },
  {
   "cell_type": "markdown",
   "metadata": {},
   "source": [
    "<h2>Activation layer</h2>\n",
    "\n",
    "\n",
    "A softmax activation layers is also then applied to derive the probability of the output being in any of the multiclass(10000 in this case) possibilities. \n"
   ]
  },
  {
   "cell_type": "code",
   "execution_count": 26,
   "metadata": {
    "tags": []
   },
   "outputs": [],
   "source": [
    "activation = tf.keras.layers.Activation('softmax')"
   ]
  },
  {
   "cell_type": "code",
   "execution_count": 27,
   "metadata": {
    "tags": []
   },
   "outputs": [],
   "source": [
    "output_words_prob = activation(logits_outputs)"
   ]
  },
  {
   "cell_type": "code",
   "execution_count": 28,
   "metadata": {
    "tags": []
   },
   "outputs": [
    {
     "name": "stdout",
     "output_type": "stream",
     "text": [
      "shape of the output from the activation layer:  (30, 20, 10000)\n"
     ]
    }
   ],
   "source": [
    "print(\"shape of the output from the activation layer: \", output_words_prob.shape) #(batch_size, sequence_length, vocab_size)"
   ]
  },
  {
   "cell_type": "markdown",
   "metadata": {},
   "source": [
    "Lets look at the probability of observing words for t=0 to t=20:\n"
   ]
  },
  {
   "cell_type": "code",
   "execution_count": 29,
   "metadata": {
    "tags": []
   },
   "outputs": [
    {
     "name": "stdout",
     "output_type": "stream",
     "text": [
      "The probability of observing words in t=0 to t=20 tf.Tensor(\n",
      "[[9.99670883e-05 9.99917902e-05 9.99841213e-05 ... 1.00021105e-04\n",
      "  9.99804397e-05 1.00001875e-04]\n",
      " [9.99480108e-05 9.99876866e-05 9.99682670e-05 ... 1.00030979e-04\n",
      "  9.99467156e-05 9.99913100e-05]\n",
      " [9.99642507e-05 1.00017329e-04 9.99924159e-05 ... 1.00021774e-04\n",
      "  9.99342010e-05 9.99610420e-05]\n",
      " ...\n",
      " [9.99786498e-05 9.99609183e-05 1.00022386e-04 ... 9.99413314e-05\n",
      "  1.00008096e-04 1.00034580e-04]\n",
      " [9.99873737e-05 9.99440017e-05 1.00049001e-04 ... 9.99277690e-05\n",
      "  9.99983895e-05 1.00040386e-04]\n",
      " [9.99921685e-05 9.99316981e-05 1.00059740e-04 ... 9.99132899e-05\n",
      "  1.00009238e-04 1.00055819e-04]], shape=(20, 10000), dtype=float32)\n"
     ]
    }
   ],
   "source": [
    "print(\"The probability of observing words in t=0 to t=20\", output_words_prob[0,0:num_steps])"
   ]
  },
  {
   "cell_type": "markdown",
   "metadata": {},
   "source": [
    "<h3>Prediction</h3>\n",
    "What is the word correspond to the probability output? Lets use the maximum probability:\n"
   ]
  },
  {
   "cell_type": "code",
   "execution_count": 30,
   "metadata": {
    "tags": []
   },
   "outputs": [
    {
     "data": {
      "text/plain": [
       "array([4017, 5418, 5418, 5403, 5403, 5403, 5403, 7342,   77, 6468, 6468,\n",
       "       6468, 6468, 1544, 1089, 9523, 8899, 8899, 5660, 5660])"
      ]
     },
     "execution_count": 30,
     "metadata": {},
     "output_type": "execute_result"
    }
   ],
   "source": [
    "np.argmax(output_words_prob[0,0:num_steps], axis=1)"
   ]
  },
  {
   "cell_type": "markdown",
   "metadata": {},
   "source": [
    "So, what is the ground truth for the first word of first sentence? You can get it from target tensor, if you want to find the embedding vector: \n"
   ]
  },
  {
   "cell_type": "code",
   "execution_count": 31,
   "metadata": {
    "tags": []
   },
   "outputs": [
    {
     "data": {
      "text/plain": [
       "array([9971, 9972, 9974, 9975, 9976, 9980, 9981, 9982, 9983, 9984, 9986,\n",
       "       9987, 9988, 9989, 9991, 9992, 9993, 9994, 9995, 9996], dtype=int32)"
      ]
     },
     "execution_count": 31,
     "metadata": {},
     "output_type": "execute_result"
    }
   ],
   "source": [
    "_targets[0]"
   ]
  },
  {
   "cell_type": "markdown",
   "metadata": {},
   "source": [
    "<h4>Objective function</h4>\n",
    "\n",
    "\n",
    "How similar the predicted words are to the target words?\n",
    "\n",
    "\n",
    "Now we have to define our objective function, to calculate the similarity of predicted values to ground truth, and then, penalize the model with the error. Our objective is to minimize loss function, that is, to minimize the average negative log probability of the target words:\n",
    "\n",
    "$$\\text{loss} = -\\frac{1}{N}\\sum_{i=1}^{N} \\ln p_{\\text{target}_i}$$\n",
    "\n",
    "This function is already implemented and available in TensorFlow through *tf.keras.losses.sparse_categorical_crossentropy*. It calculates the categorical cross-entropy loss for <b>logits</b> and the <b>target</b> sequence.  \n",
    "\n",
    "The arguments of this function are:  \n",
    "<ul>\n",
    "    <li>logits: List of 2D Tensors of shape [batch_size x num_decoder_symbols].</li>  \n",
    "    <li>targets: List of 1D batch-sized int32 Tensors of the same length as logits.</li>   \n",
    "</ul>\n"
   ]
  },
  {
   "cell_type": "code",
   "execution_count": 32,
   "metadata": {
    "tags": []
   },
   "outputs": [],
   "source": [
    "def crossentropy(y_true, y_pred):\n",
    "    return tf.keras.losses.sparse_categorical_crossentropy(y_true, y_pred)"
   ]
  },
  {
   "cell_type": "code",
   "execution_count": 33,
   "metadata": {
    "tags": []
   },
   "outputs": [],
   "source": [
    "loss  = crossentropy(_targets, output_words_prob)"
   ]
  },
  {
   "cell_type": "markdown",
   "metadata": {},
   "source": [
    "Lets look at the first 10 values of loss:\n"
   ]
  },
  {
   "cell_type": "code",
   "execution_count": 34,
   "metadata": {
    "tags": []
   },
   "outputs": [
    {
     "data": {
      "text/plain": [
       "<tf.Tensor: shape=(10,), dtype=float32, numpy=\n",
       "array([9.210197 , 9.210386 , 9.2105465, 9.210348 , 9.210456 , 9.210276 ,\n",
       "       9.210185 , 9.210806 , 9.211199 , 9.210258 ], dtype=float32)>"
      ]
     },
     "execution_count": 34,
     "metadata": {},
     "output_type": "execute_result"
    }
   ],
   "source": [
    "loss[0,:10]"
   ]
  },
  {
   "cell_type": "markdown",
   "metadata": {},
   "source": [
    "Now, we define cost as average of the losses:\n"
   ]
  },
  {
   "cell_type": "code",
   "execution_count": 35,
   "metadata": {
    "tags": []
   },
   "outputs": [
    {
     "data": {
      "text/plain": [
       "<tf.Tensor: shape=(), dtype=float32, numpy=184.20663>"
      ]
     },
     "execution_count": 35,
     "metadata": {},
     "output_type": "execute_result"
    }
   ],
   "source": [
    "cost = tf.reduce_sum(loss / batch_size)\n",
    "cost"
   ]
  },
  {
   "cell_type": "markdown",
   "metadata": {},
   "source": [
    "<h3>Training</h3>\n",
    "\n",
    "To do training for our network, we have to take the following steps:\n",
    "<ol>\n",
    "    <li>Define the optimizer.</li>\n",
    "    <li>Assemble layers to build model.</li>\n",
    "    <li>Calculate the gradients based on the loss function.</li>\n",
    "    <li>Apply the optimizer to the variables/gradients tuple.</li>\n",
    "</ol>\n"
   ]
  },
  {
   "cell_type": "markdown",
   "metadata": {},
   "source": [
    "<h4>1. Define Optimizer</h4>\n",
    "\n"
   ]
  },
  {
   "cell_type": "code",
   "execution_count": 36,
   "metadata": {
    "tags": []
   },
   "outputs": [
    {
     "name": "stderr",
     "output_type": "stream",
     "text": [
      "/home/jupyterlab/conda/envs/python/lib/python3.7/site-packages/keras/optimizers/optimizer_v2/gradient_descent.py:108: UserWarning: The `lr` argument is deprecated, use `learning_rate` instead.\n",
      "  super(SGD, self).__init__(name, **kwargs)\n"
     ]
    }
   ],
   "source": [
    "# Create a variable for the learning rate\n",
    "lr = tf.Variable(0.0, trainable=False)\n",
    "optimizer = tf.keras.optimizers.SGD(lr=lr, clipnorm=max_grad_norm)"
   ]
  },
  {
   "cell_type": "markdown",
   "metadata": {},
   "source": [
    "<h4>2. Assemble layers to build model.</h4>\n"
   ]
  },
  {
   "cell_type": "code",
   "execution_count": 37,
   "metadata": {
    "tags": []
   },
   "outputs": [
    {
     "name": "stdout",
     "output_type": "stream",
     "text": [
      "Model: \"sequential\"\n",
      "_________________________________________________________________\n",
      " Layer (type)                Output Shape              Param #   \n",
      "=================================================================\n",
      " embedding_vocab (Embedding)  (30, 20, 200)            2000000   \n",
      "                                                                 \n",
      " rnn (RNN)                   (30, 20, 128)             671088    \n",
      "                                                                 \n",
      " dense (Dense)               (30, 20, 10000)           1290000   \n",
      "                                                                 \n",
      " activation (Activation)     (30, 20, 10000)           0         \n",
      "                                                                 \n",
      "=================================================================\n",
      "Total params: 3,961,088\n",
      "Trainable params: 3,955,088\n",
      "Non-trainable params: 6,000\n",
      "_________________________________________________________________\n"
     ]
    }
   ],
   "source": [
    "model = tf.keras.Sequential()\n",
    "model.add(embedding_layer)\n",
    "model.add(layer)\n",
    "model.add(dense)\n",
    "model.add(activation)\n",
    "model.compile(loss=crossentropy, optimizer=optimizer)\n",
    "model.summary()"
   ]
  },
  {
   "cell_type": "markdown",
   "metadata": {},
   "source": [
    "\n",
    "<h4>2. Trainable Variables</h4>\n"
   ]
  },
  {
   "cell_type": "markdown",
   "metadata": {},
   "source": [
    "Defining a variable, if you passed <i>trainable=True</i>, the variable constructor automatically adds new variables to the graph collection <b>GraphKeys.TRAINABLE_VARIABLES</b>. Now, using <i>tf.trainable_variables()</i> you can get all variables created with <b>trainable=True</b>.\n"
   ]
  },
  {
   "cell_type": "code",
   "execution_count": 38,
   "metadata": {
    "tags": []
   },
   "outputs": [],
   "source": [
    "# Get all TensorFlow variables marked as \"trainable\" (i.e. all of them except _lr, which we just created)\n",
    "tvars = model.trainable_variables"
   ]
  },
  {
   "cell_type": "markdown",
   "metadata": {},
   "source": [
    "Note: we can find the name and scope of all variables:\n"
   ]
  },
  {
   "cell_type": "code",
   "execution_count": 39,
   "metadata": {
    "tags": []
   },
   "outputs": [
    {
     "data": {
      "text/plain": [
       "['embedding_vocab/embeddings:0',\n",
       " 'rnn/stacked_rnn_cells/lstm_cell/kernel:0',\n",
       " 'rnn/stacked_rnn_cells/lstm_cell/recurrent_kernel:0',\n",
       " 'rnn/stacked_rnn_cells/lstm_cell/bias:0',\n",
       " 'rnn/stacked_rnn_cells/lstm_cell_1/kernel:0',\n",
       " 'rnn/stacked_rnn_cells/lstm_cell_1/recurrent_kernel:0',\n",
       " 'rnn/stacked_rnn_cells/lstm_cell_1/bias:0',\n",
       " 'dense/kernel:0',\n",
       " 'dense/bias:0']"
      ]
     },
     "execution_count": 39,
     "metadata": {},
     "output_type": "execute_result"
    }
   ],
   "source": [
    "[v.name for v in tvars] "
   ]
  },
  {
   "cell_type": "markdown",
   "metadata": {},
   "source": [
    "<h4>3. Calculate the gradients based on the loss function</h4>\n"
   ]
  },
  {
   "cell_type": "markdown",
   "metadata": {},
   "source": [
    "**Gradient**: The gradient of a function is the slope of its derivative (line), or in other words, the rate of change of a function. It's a vector (a direction to move) that points in the direction of greatest increase of the function, and calculated by the <b>derivative</b> operation.\n"
   ]
  },
  {
   "cell_type": "markdown",
   "metadata": {},
   "source": [
    "First lets recall the gradient function using an toy example:\n",
    "$$ z = \\left(2x^2 + 3xy\\right)$$\n"
   ]
  },
  {
   "cell_type": "code",
   "execution_count": 40,
   "metadata": {
    "tags": []
   },
   "outputs": [],
   "source": [
    "x = tf.constant(1.0)\n",
    "y =  tf.constant(2.0)\n",
    "with tf.GradientTape(persistent=True) as g:\n",
    "    g.watch(x)\n",
    "    g.watch(y)\n",
    "    func_test = 2 * x * x + 3 * x * y"
   ]
  },
  {
   "cell_type": "markdown",
   "metadata": {},
   "source": [
    "The <b>tf.gradients()</b> function allows you to compute the symbolic gradient of one tensor with respect to one or more other tensors—including variables. <b>tf.gradients(func, xs)</b> constructs symbolic partial derivatives of sum of <b>func</b> w.r.t. <i>x</i> in <b>xs</b>. \n",
    "\n",
    "Now, lets look at the derivitive w.r.t. <b>var_x</b>:\n",
    "$$ \\frac{\\partial \\:}{\\partial \\:x}\\left(2x^2 + 3xy\\right) = 4x + 3y $$\n"
   ]
  },
  {
   "cell_type": "code",
   "execution_count": 41,
   "metadata": {
    "tags": []
   },
   "outputs": [
    {
     "name": "stdout",
     "output_type": "stream",
     "text": [
      "tf.Tensor(10.0, shape=(), dtype=float32)\n"
     ]
    }
   ],
   "source": [
    "var_grad = g.gradient(func_test, x) # Will compute to 10.0\n",
    "print(var_grad)"
   ]
  },
  {
   "cell_type": "markdown",
   "metadata": {},
   "source": [
    "the derivative w.r.t. <b>var_y</b>:\n",
    "$$ \\frac{\\partial \\:}{\\partial \\:y}\\left(2x^2 + 3xy\\right) = 3x $$\n"
   ]
  },
  {
   "cell_type": "code",
   "execution_count": 42,
   "metadata": {
    "tags": []
   },
   "outputs": [
    {
     "name": "stdout",
     "output_type": "stream",
     "text": [
      "tf.Tensor(3.0, shape=(), dtype=float32)\n"
     ]
    }
   ],
   "source": [
    "var_grad = g.gradient(func_test, y) # Will compute to 3.0\n",
    "print(var_grad)"
   ]
  },
  {
   "cell_type": "markdown",
   "metadata": {},
   "source": [
    "Now, we can look at gradients w.r.t all variables:\n"
   ]
  },
  {
   "cell_type": "code",
   "execution_count": 43,
   "metadata": {
    "tags": []
   },
   "outputs": [],
   "source": [
    "with tf.GradientTape() as tape:\n",
    "    # Forward pass.\n",
    "    output_words_prob = model(_input_data)\n",
    "    # Loss value for this batch.\n",
    "    loss  = crossentropy(_targets, output_words_prob)\n",
    "    cost = tf.reduce_sum(loss,axis=0) / batch_size"
   ]
  },
  {
   "cell_type": "code",
   "execution_count": 44,
   "metadata": {
    "tags": []
   },
   "outputs": [],
   "source": [
    "# Get gradients of loss wrt the trainable variables.\n",
    "grad_t_list = tape.gradient(cost, tvars)"
   ]
  },
  {
   "cell_type": "code",
   "execution_count": 45,
   "metadata": {
    "tags": []
   },
   "outputs": [
    {
     "name": "stdout",
     "output_type": "stream",
     "text": [
      "[<tensorflow.python.framework.indexed_slices.IndexedSlices object at 0x7f8a06ba6fd0>, <tf.Tensor: shape=(200, 1024), dtype=float32, numpy=\n",
      "array([[ 5.31496994e-07, -1.03630987e-06,  5.47949298e-07, ...,\n",
      "         2.55721602e-07, -2.56443599e-07, -3.30039313e-07],\n",
      "       [-1.99869817e-07, -8.62802949e-07,  5.58606359e-07, ...,\n",
      "         5.70998111e-08,  1.11771911e-07, -3.91403461e-07],\n",
      "       [ 1.43231773e-07, -1.95196179e-07, -1.06150537e-06, ...,\n",
      "        -6.75734526e-08,  2.46851698e-07,  6.14679323e-07],\n",
      "       ...,\n",
      "       [-6.09072799e-07,  1.73035460e-07,  1.04794566e-07, ...,\n",
      "         2.10857252e-07, -1.67478177e-07, -4.95079178e-07],\n",
      "       [-2.06162355e-07, -5.15011152e-07,  1.08303787e-07, ...,\n",
      "        -2.81005981e-07,  9.41466709e-08, -6.12416926e-08],\n",
      "       [ 2.10890391e-07, -2.92099514e-07, -3.10736894e-08, ...,\n",
      "         1.84606549e-07, -2.01499091e-07,  1.16972792e-07]], dtype=float32)>, <tf.Tensor: shape=(256, 1024), dtype=float32, numpy=\n",
      "array([[ 6.29620729e-08,  2.75597074e-08,  6.05513222e-08, ...,\n",
      "        -2.07236070e-07, -5.57007738e-08,  6.57166055e-08],\n",
      "       [ 1.31559347e-07,  8.08182676e-09, -8.98885659e-08, ...,\n",
      "        -2.38022615e-08,  4.26867786e-08, -2.86202528e-08],\n",
      "       [ 1.14290863e-07,  8.27990974e-08, -7.97246713e-09, ...,\n",
      "        -9.61516022e-09, -3.63214170e-08,  2.52450665e-08],\n",
      "       ...,\n",
      "       [-3.93080342e-08,  1.03848009e-07,  1.04204261e-07, ...,\n",
      "         3.41523645e-08, -1.00835244e-07, -1.20405502e-07],\n",
      "       [ 6.54180781e-08, -2.22802115e-08,  1.18255228e-08, ...,\n",
      "        -4.49125110e-08,  7.26535703e-08,  1.24473694e-08],\n",
      "       [ 3.64810191e-08,  1.02040445e-07, -9.48769809e-08, ...,\n",
      "         1.23766569e-07,  1.97438954e-10,  3.47321986e-07]], dtype=float32)>, <tf.Tensor: shape=(1024,), dtype=float32, numpy=\n",
      "array([ 1.8050516e-05,  2.3735265e-05, -1.7029970e-07, ...,\n",
      "        1.0855444e-05, -4.0692203e-07, -3.9162100e-05], dtype=float32)>, <tf.Tensor: shape=(256, 512), dtype=float32, numpy=\n",
      "array([[-2.0286155e-09,  7.8337166e-08, -5.0274945e-08, ...,\n",
      "         9.2463921e-09, -6.6112784e-07,  1.5204929e-08],\n",
      "       [ 2.6867347e-08, -2.3759434e-07,  1.2428946e-07, ...,\n",
      "         1.9430156e-07, -2.5244410e-07,  4.1934393e-07],\n",
      "       [ 7.6754759e-08, -5.1847469e-08,  2.4389766e-07, ...,\n",
      "        -4.6335462e-08, -5.8538825e-07, -1.6317760e-07],\n",
      "       ...,\n",
      "       [-1.6470938e-07, -1.1416610e-07,  1.9831651e-07, ...,\n",
      "        -2.2410863e-07, -1.7775920e-07,  1.0548510e-07],\n",
      "       [ 1.1623884e-07, -1.5930148e-08,  2.0950257e-07, ...,\n",
      "         9.5092084e-08, -1.4232582e-07,  2.0976205e-07],\n",
      "       [-6.5898973e-08,  2.3895547e-07,  1.1548192e-08, ...,\n",
      "        -4.9644111e-09,  4.7512611e-07, -1.9789547e-07]], dtype=float32)>, <tf.Tensor: shape=(128, 512), dtype=float32, numpy=\n",
      "array([[ 1.97889037e-07, -3.68462167e-08, -5.65251028e-08, ...,\n",
      "        -2.34547901e-08,  2.61638860e-07, -3.79751341e-09],\n",
      "       [-3.04374268e-08,  3.52172904e-08, -5.68653284e-08, ...,\n",
      "        -1.71955534e-08,  2.44585920e-07, -6.24229060e-08],\n",
      "       [-1.14886989e-08,  1.04203124e-07, -1.90846720e-07, ...,\n",
      "         1.50674850e-07,  9.51773771e-08, -2.95794223e-07],\n",
      "       ...,\n",
      "       [ 3.59509684e-08, -1.44337008e-07,  1.85561504e-07, ...,\n",
      "         7.02578404e-08, -1.20013567e-07, -2.32950086e-08],\n",
      "       [ 1.22609933e-07, -1.73503238e-07,  1.23774768e-07, ...,\n",
      "         3.22386740e-09, -6.34811045e-07,  8.67842473e-08],\n",
      "       [ 8.64235190e-08, -3.39540520e-08, -5.68610048e-09, ...,\n",
      "        -8.96815777e-08,  6.55898731e-08, -7.00428160e-08]], dtype=float32)>, <tf.Tensor: shape=(512,), dtype=float32, numpy=\n",
      "array([-4.59236071e-06, -8.46799139e-06,  3.72359609e-05, -5.23661947e-06,\n",
      "       -3.90376736e-05,  5.77996871e-05, -4.16867224e-05,  1.18488970e-05,\n",
      "        1.08368113e-05, -6.07632228e-06,  1.13807364e-05, -4.27656669e-05,\n",
      "       -2.51410584e-05,  2.86207942e-05, -2.04494900e-05, -2.63137863e-05,\n",
      "        6.69548763e-06, -6.30599061e-07,  2.82457167e-05, -2.98196155e-05,\n",
      "       -1.13229798e-05,  1.79505441e-05, -2.82834117e-06,  3.40045226e-05,\n",
      "        4.10402981e-06, -6.06795438e-05, -1.50204114e-05, -4.10200264e-05,\n",
      "        3.13337150e-05, -3.67715911e-05, -7.56838272e-05, -1.65146412e-06,\n",
      "       -4.95391942e-06, -1.25474635e-05,  6.13003863e-07, -1.10915998e-05,\n",
      "       -1.16137244e-07,  1.55915404e-05, -5.39228313e-06,  5.31314290e-05,\n",
      "        2.41058424e-05, -9.59890349e-06, -4.14689657e-06, -1.18989601e-05,\n",
      "       -2.35200787e-05,  1.07669157e-05,  6.01146166e-06, -2.13253770e-05,\n",
      "        2.08475503e-05, -3.52278767e-05, -2.69768079e-05,  1.72705622e-05,\n",
      "        3.08664312e-05, -1.45840122e-05, -4.26842598e-06, -4.10200664e-05,\n",
      "        4.05516766e-06, -1.24031030e-05, -1.22779766e-05,  2.89956497e-05,\n",
      "        1.24254020e-05,  4.96169268e-05, -4.41401971e-05,  4.20857432e-05,\n",
      "       -8.23458540e-05,  5.70363500e-06,  4.87296747e-05,  1.11039753e-05,\n",
      "        4.83762342e-05, -2.82429064e-05, -2.51116817e-05, -6.81842721e-07,\n",
      "       -5.52253550e-05,  1.97019726e-05,  2.03389573e-05,  3.07443079e-05,\n",
      "       -1.46224720e-05, -3.62679275e-05, -1.17557938e-05,  1.74629913e-05,\n",
      "        3.73392722e-05, -1.43990492e-05,  2.65963135e-05,  2.79464348e-05,\n",
      "        7.66838093e-06, -3.02191111e-05,  2.42659553e-05,  2.29459729e-05,\n",
      "       -1.09377825e-05, -3.76918179e-05,  2.57761894e-05,  4.64612967e-05,\n",
      "       -3.52002426e-05, -8.93226388e-05, -2.97142142e-05, -3.03736488e-05,\n",
      "       -6.96767484e-06, -3.46463348e-05,  1.97807494e-05,  4.11482979e-05,\n",
      "       -2.79340238e-05,  8.36899108e-06,  1.28142447e-05, -1.31993947e-05,\n",
      "        1.10514566e-06,  9.77762393e-05, -4.80972358e-06, -3.43452848e-05,\n",
      "       -9.96987183e-06, -8.84971887e-05,  2.91388751e-05, -2.77345553e-05,\n",
      "        8.96009078e-06,  9.50436333e-06,  5.61980560e-05, -4.47616640e-06,\n",
      "       -1.30772296e-05, -4.77885187e-05,  3.03888228e-05, -3.08278068e-05,\n",
      "        3.15706420e-05,  3.19555693e-05, -1.55525613e-05,  4.55979753e-05,\n",
      "        2.10574126e-05, -3.96935684e-05, -2.08890651e-05,  5.03362680e-05,\n",
      "        2.48787965e-05, -2.38346893e-05,  4.98544359e-05, -1.82073709e-05,\n",
      "       -5.80514861e-05,  4.80015624e-05, -5.16480068e-05,  1.51499971e-05,\n",
      "        8.09195080e-06, -8.53336496e-06, -3.89689558e-06, -5.63586364e-05,\n",
      "       -5.47457457e-05,  4.07144471e-05, -1.19267643e-05, -2.40027948e-05,\n",
      "       -1.10762885e-05, -7.99773989e-06,  4.06347972e-05, -2.44319835e-05,\n",
      "       -8.77323328e-06,  5.38091035e-06,  1.18610205e-05,  3.44505424e-05,\n",
      "        1.84916207e-05, -7.96116947e-05, -2.39102010e-05, -3.38676618e-05,\n",
      "        2.38615758e-05, -1.44301275e-05, -8.66289483e-05,  2.34792351e-05,\n",
      "        2.92026889e-05, -2.05351644e-05,  3.99338242e-05, -2.34938052e-05,\n",
      "       -2.06022305e-05,  4.20334909e-05,  2.89271029e-05,  5.44546056e-05,\n",
      "        5.70229458e-05, -2.55225896e-05, -2.62289336e-06,  1.14449836e-06,\n",
      "       -1.63567165e-05,  7.84299118e-06,  2.41801099e-05, -1.70265084e-05,\n",
      "        2.98106788e-05, -2.93146641e-05, -3.80490455e-05,  2.32626280e-05,\n",
      "        3.60395352e-05, -8.20072182e-06, -2.96011713e-05, -6.46222034e-05,\n",
      "        1.87523456e-05, -1.24192029e-05, -1.48865365e-06,  1.99133883e-05,\n",
      "        1.41590263e-05,  4.74451263e-05, -8.32968944e-05,  2.36594860e-05,\n",
      "       -8.99159859e-05,  3.20252475e-05,  5.27035227e-05, -2.94163183e-05,\n",
      "        5.81610439e-05, -2.22435701e-05, -1.35015180e-05,  3.08823110e-06,\n",
      "       -8.92328535e-05, -1.35084938e-05,  1.01105979e-05,  5.25717405e-05,\n",
      "        1.29737755e-05, -7.10917302e-05,  6.91523655e-06,  2.29463913e-05,\n",
      "        8.16753309e-05, -4.89573722e-07,  1.41392957e-05,  2.13861749e-05,\n",
      "        2.02148931e-05, -3.88241897e-05,  3.56254386e-05,  3.16386686e-05,\n",
      "        4.91613628e-06, -7.17887015e-05,  2.59877907e-05,  7.24496640e-05,\n",
      "       -8.54673781e-05, -1.15943651e-04, -2.21065693e-05,  2.47147909e-07,\n",
      "       -8.88660907e-06, -7.57251255e-05,  1.16183946e-05,  6.55026815e-05,\n",
      "       -1.68161969e-05, -3.54168878e-06, -4.17342926e-06, -5.16293221e-06,\n",
      "        1.64805824e-05,  1.53517496e-04,  1.74249562e-05, -3.47934110e-05,\n",
      "       -5.04048967e-06, -1.38439253e-04,  6.00712847e-05, -3.33895841e-05,\n",
      "        4.21883742e-05, -2.09829977e-06,  7.26348080e-05, -6.61374543e-07,\n",
      "       -2.58493565e-05, -4.89599333e-05,  2.61960486e-05, -3.16332444e-05,\n",
      "        2.66468996e-05,  3.94854724e-05, -8.00963699e-06,  5.03109986e-05,\n",
      "        3.08225317e-05, -5.16573782e-05, -3.13467899e-05,  6.47339111e-05,\n",
      "        2.24996414e-02, -4.97008674e-03, -3.27665620e-02,  2.24741697e-02,\n",
      "       -1.24243218e-02, -1.52208935e-02,  1.32644922e-02,  2.63226172e-03,\n",
      "        4.93790815e-03, -1.13563389e-02, -2.53951494e-02,  4.39358782e-03,\n",
      "       -6.34528231e-03, -9.46201291e-03, -2.15369649e-02,  1.99046545e-02,\n",
      "       -6.41607866e-03,  1.82973370e-02,  1.65517554e-02,  2.49841772e-02,\n",
      "        3.14020878e-03, -3.65472306e-03,  1.71975978e-02, -2.89758369e-02,\n",
      "        3.10955383e-02,  1.03371982e-02,  3.45415920e-02,  1.57247316e-02,\n",
      "       -2.82656029e-02, -1.47598721e-02, -2.35490128e-02, -1.58379171e-02,\n",
      "        8.81626830e-03,  1.62443407e-02, -2.06054859e-02,  8.81505758e-03,\n",
      "       -2.61645429e-02, -4.43196818e-02,  1.33743230e-02, -9.66931786e-03,\n",
      "        4.03689630e-02,  2.60463506e-02,  1.18143661e-02,  3.25892195e-02,\n",
      "       -1.61681883e-02,  1.79246236e-02, -2.66152900e-02,  1.82416439e-02,\n",
      "       -1.76262856e-03, -2.04234570e-02,  1.28456252e-03, -1.71066336e-02,\n",
      "       -3.05702612e-02,  2.25885194e-02, -1.78803522e-02, -3.22574675e-02,\n",
      "       -1.27956979e-02, -3.15376483e-02, -2.17821077e-03, -1.03231454e-02,\n",
      "        3.67062469e-03, -2.79388241e-02, -1.29061155e-02,  9.72691551e-03,\n",
      "       -3.68518904e-02, -2.05334648e-02, -1.38023244e-02,  1.86114926e-02,\n",
      "        1.75398625e-02, -8.55205022e-03, -1.97359920e-02, -4.05477658e-02,\n",
      "       -2.46327706e-02,  2.10782588e-02,  9.39474441e-03,  5.05381711e-02,\n",
      "       -3.25568058e-02,  2.41477005e-02, -1.22483596e-02, -2.82874033e-02,\n",
      "       -1.67227723e-02,  4.51832153e-02,  3.34561579e-02,  4.94923666e-02,\n",
      "        1.92904882e-02, -1.69651844e-02, -2.23100856e-02, -6.09970884e-03,\n",
      "        1.74757205e-02, -3.64755914e-02, -2.89670890e-03, -1.11614261e-02,\n",
      "        4.70830454e-03, -6.98971562e-04,  1.80644803e-02,  1.12058474e-02,\n",
      "       -2.63423920e-02, -3.74235883e-02, -1.70166269e-02,  1.05187986e-02,\n",
      "        2.05892846e-02,  5.47440909e-02,  9.36016254e-03,  8.36364459e-03,\n",
      "       -2.53049983e-03, -5.20605221e-02,  3.83058451e-02, -7.81547744e-03,\n",
      "        1.49330124e-02,  5.13854474e-02, -3.28940675e-02,  2.48917863e-02,\n",
      "        6.90813549e-03, -2.05593482e-02,  2.50675865e-02, -2.10369434e-02,\n",
      "       -5.16210031e-03,  7.82034621e-02, -1.54123502e-02, -1.67345442e-02,\n",
      "        1.64421629e-02, -7.84071684e-02,  2.87108272e-02, -4.85173315e-02,\n",
      "       -1.00085884e-02,  2.17441209e-02, -3.01271975e-02, -2.00404562e-02,\n",
      "       -1.03505736e-05, -1.70847288e-05,  4.88525184e-05, -6.64579920e-06,\n",
      "       -4.04989332e-05,  5.76259554e-05, -4.29290740e-05,  1.71060710e-05,\n",
      "       -8.35331230e-06, -1.59318479e-05,  1.70918447e-05, -4.82695432e-05,\n",
      "       -4.32581219e-05,  3.01615291e-05, -1.66360987e-05, -2.85698879e-05,\n",
      "        3.43842134e-06, -2.56598105e-06,  2.76026913e-05, -3.07924711e-05,\n",
      "       -1.00039315e-05,  2.07805460e-05, -2.40081135e-06,  3.21626503e-05,\n",
      "        7.07453455e-06, -6.56273332e-05, -2.12305604e-05, -4.38982242e-05,\n",
      "        3.38888785e-05, -4.05741303e-05, -7.57539819e-05,  9.99625627e-08,\n",
      "        3.99750934e-06, -1.60580021e-05,  6.87662805e-06, -1.30962817e-05,\n",
      "        4.83632766e-06,  5.96624341e-06, -6.91014975e-07,  6.04688394e-05,\n",
      "        2.83862209e-05, -1.13296037e-05,  1.56038186e-06, -5.77767969e-06,\n",
      "       -2.37878230e-05,  2.01671101e-05,  1.79354192e-05, -1.71479260e-05,\n",
      "        2.59975350e-05, -3.70780472e-05, -1.58421753e-05,  1.90153187e-05,\n",
      "        3.85544990e-05, -1.67904291e-05, -1.19666947e-06, -5.31718542e-05,\n",
      "        1.04156152e-05, -3.57661429e-06, -1.26481918e-05,  2.67826163e-05,\n",
      "        1.92195403e-05,  4.48056198e-05, -3.93310620e-05,  4.39066571e-05,\n",
      "       -9.52675764e-05,  1.29450909e-05,  4.76285240e-05, -2.62411322e-06,\n",
      "        4.06186446e-05, -3.72016875e-05, -1.75575515e-05, -7.12944166e-06,\n",
      "       -6.08546870e-05,  1.72928194e-05,  1.35068021e-05,  4.07652078e-05,\n",
      "       -5.55205770e-06, -4.13035232e-05, -3.31101000e-06,  1.69665527e-05,\n",
      "        4.55884474e-05, -1.14701124e-05,  3.05532121e-05,  2.71544395e-05,\n",
      "        1.47589762e-05, -3.77095566e-05,  2.10655071e-05,  2.04297903e-05,\n",
      "       -4.42042983e-06, -5.65526425e-05,  2.54110855e-05,  5.83032197e-05,\n",
      "       -4.33748537e-05, -9.93360954e-05, -3.66411259e-05, -3.28212191e-05,\n",
      "       -1.07566620e-05, -3.84760351e-05,  3.43464199e-05,  4.32745364e-05,\n",
      "       -2.10730705e-05,  1.43080697e-05,  5.80354845e-06, -2.29321195e-05,\n",
      "        5.75911145e-06,  1.21870646e-04, -4.50209700e-06, -3.96239011e-05,\n",
      "       -6.68384973e-06, -1.07379150e-04,  3.56736418e-05, -3.23168715e-05,\n",
      "        1.71827196e-05,  9.14383418e-06,  5.73820071e-05, -4.22170524e-06,\n",
      "       -1.42658837e-05, -4.91972787e-05,  3.77244578e-05, -3.36242847e-05,\n",
      "        3.28349633e-05,  3.16497426e-05, -2.30398746e-05,  5.51458725e-05,\n",
      "        2.51132260e-05, -5.06575743e-05, -2.38856010e-05,  5.22343471e-05],\n",
      "      dtype=float32)>, <tf.Tensor: shape=(128, 10000), dtype=float32, numpy=\n",
      "array([[-3.0376751e-04, -5.2850507e-04, -1.4542408e-03, ...,\n",
      "         2.1718402e-06,  2.1733545e-06,  2.1757301e-06],\n",
      "       [ 2.1326919e-03,  3.1405003e-03,  1.2572672e-03, ...,\n",
      "        -4.1726548e-06, -4.1728590e-06, -4.1723442e-06],\n",
      "       [ 1.6929714e-03,  3.3617355e-03,  1.7006021e-03, ...,\n",
      "        -5.2857849e-06, -5.2859468e-06, -5.2892265e-06],\n",
      "       ...,\n",
      "       [ 1.6600691e-03,  4.1450574e-03,  2.7687636e-03, ...,\n",
      "        -3.8340986e-06, -3.8348694e-06, -3.8362032e-06],\n",
      "       [-2.6012477e-03, -2.4776701e-03, -1.5689638e-03, ...,\n",
      "         3.2061866e-06,  3.2056819e-06,  3.2079522e-06],\n",
      "       [-7.0526835e-04,  6.2945299e-05,  1.7617660e-04, ...,\n",
      "        -5.2101257e-08, -5.1668735e-08, -5.3640008e-08]], dtype=float32)>, <tf.Tensor: shape=(10000,), dtype=float32, numpy=\n",
      "array([-0.79799837, -1.0313315 , -1.0313313 , ...,  0.00199975,\n",
      "        0.00199997,  0.00200047], dtype=float32)>]\n"
     ]
    }
   ],
   "source": [
    "print(grad_t_list)"
   ]
  },
  {
   "cell_type": "markdown",
   "metadata": {},
   "source": [
    "\n",
    "\n",
    "\n",
    "now, we have a list of tensors, t-list. We can use it to find clipped tensors. <b>clip_by_global_norm</b> clips values of multiple tensors by the ratio of the sum of their norms.\n",
    "\n",
    "<b>clip_by_global_norm</b> get <i>t-list</i> as input and returns 2 things:\n",
    "<ul>\n",
    "    <li>a list of clipped tensors, so called <i>list_clipped</i></li> \n",
    "    <li>the global norm (global_norm) of all tensors in t_list</li> \n",
    "</ul>\n"
   ]
  },
  {
   "cell_type": "code",
   "execution_count": 46,
   "metadata": {
    "tags": []
   },
   "outputs": [
    {
     "data": {
      "text/plain": [
       "[<tensorflow.python.framework.indexed_slices.IndexedSlices at 0x7f8a0713c310>,\n",
       " <tf.Tensor: shape=(200, 1024), dtype=float32, numpy=\n",
       " array([[ 5.31496994e-07, -1.03630987e-06,  5.47949298e-07, ...,\n",
       "          2.55721602e-07, -2.56443599e-07, -3.30039313e-07],\n",
       "        [-1.99869817e-07, -8.62802949e-07,  5.58606359e-07, ...,\n",
       "          5.70998111e-08,  1.11771911e-07, -3.91403461e-07],\n",
       "        [ 1.43231773e-07, -1.95196179e-07, -1.06150537e-06, ...,\n",
       "         -6.75734526e-08,  2.46851698e-07,  6.14679323e-07],\n",
       "        ...,\n",
       "        [-6.09072799e-07,  1.73035460e-07,  1.04794566e-07, ...,\n",
       "          2.10857252e-07, -1.67478177e-07, -4.95079178e-07],\n",
       "        [-2.06162355e-07, -5.15011152e-07,  1.08303787e-07, ...,\n",
       "         -2.81005981e-07,  9.41466709e-08, -6.12416926e-08],\n",
       "        [ 2.10890391e-07, -2.92099514e-07, -3.10736894e-08, ...,\n",
       "          1.84606549e-07, -2.01499091e-07,  1.16972792e-07]], dtype=float32)>,\n",
       " <tf.Tensor: shape=(256, 1024), dtype=float32, numpy=\n",
       " array([[ 6.29620729e-08,  2.75597074e-08,  6.05513222e-08, ...,\n",
       "         -2.07236070e-07, -5.57007738e-08,  6.57166055e-08],\n",
       "        [ 1.31559347e-07,  8.08182676e-09, -8.98885659e-08, ...,\n",
       "         -2.38022615e-08,  4.26867786e-08, -2.86202528e-08],\n",
       "        [ 1.14290863e-07,  8.27990974e-08, -7.97246713e-09, ...,\n",
       "         -9.61516022e-09, -3.63214170e-08,  2.52450665e-08],\n",
       "        ...,\n",
       "        [-3.93080342e-08,  1.03848009e-07,  1.04204261e-07, ...,\n",
       "          3.41523645e-08, -1.00835244e-07, -1.20405502e-07],\n",
       "        [ 6.54180781e-08, -2.22802115e-08,  1.18255228e-08, ...,\n",
       "         -4.49125110e-08,  7.26535703e-08,  1.24473694e-08],\n",
       "        [ 3.64810191e-08,  1.02040445e-07, -9.48769809e-08, ...,\n",
       "          1.23766569e-07,  1.97438954e-10,  3.47321986e-07]], dtype=float32)>,\n",
       " <tf.Tensor: shape=(1024,), dtype=float32, numpy=\n",
       " array([ 1.8050516e-05,  2.3735265e-05, -1.7029970e-07, ...,\n",
       "         1.0855444e-05, -4.0692203e-07, -3.9162100e-05], dtype=float32)>,\n",
       " <tf.Tensor: shape=(256, 512), dtype=float32, numpy=\n",
       " array([[-2.0286155e-09,  7.8337166e-08, -5.0274945e-08, ...,\n",
       "          9.2463921e-09, -6.6112784e-07,  1.5204929e-08],\n",
       "        [ 2.6867347e-08, -2.3759434e-07,  1.2428946e-07, ...,\n",
       "          1.9430156e-07, -2.5244410e-07,  4.1934393e-07],\n",
       "        [ 7.6754759e-08, -5.1847469e-08,  2.4389766e-07, ...,\n",
       "         -4.6335462e-08, -5.8538825e-07, -1.6317760e-07],\n",
       "        ...,\n",
       "        [-1.6470938e-07, -1.1416610e-07,  1.9831651e-07, ...,\n",
       "         -2.2410863e-07, -1.7775920e-07,  1.0548510e-07],\n",
       "        [ 1.1623884e-07, -1.5930148e-08,  2.0950257e-07, ...,\n",
       "          9.5092084e-08, -1.4232582e-07,  2.0976205e-07],\n",
       "        [-6.5898973e-08,  2.3895547e-07,  1.1548192e-08, ...,\n",
       "         -4.9644111e-09,  4.7512611e-07, -1.9789547e-07]], dtype=float32)>,\n",
       " <tf.Tensor: shape=(128, 512), dtype=float32, numpy=\n",
       " array([[ 1.97889037e-07, -3.68462167e-08, -5.65251028e-08, ...,\n",
       "         -2.34547901e-08,  2.61638860e-07, -3.79751341e-09],\n",
       "        [-3.04374268e-08,  3.52172904e-08, -5.68653284e-08, ...,\n",
       "         -1.71955534e-08,  2.44585920e-07, -6.24229060e-08],\n",
       "        [-1.14886989e-08,  1.04203124e-07, -1.90846720e-07, ...,\n",
       "          1.50674850e-07,  9.51773771e-08, -2.95794223e-07],\n",
       "        ...,\n",
       "        [ 3.59509684e-08, -1.44337008e-07,  1.85561504e-07, ...,\n",
       "          7.02578404e-08, -1.20013567e-07, -2.32950086e-08],\n",
       "        [ 1.22609933e-07, -1.73503238e-07,  1.23774768e-07, ...,\n",
       "          3.22386740e-09, -6.34811045e-07,  8.67842473e-08],\n",
       "        [ 8.64235190e-08, -3.39540520e-08, -5.68610048e-09, ...,\n",
       "         -8.96815777e-08,  6.55898731e-08, -7.00428160e-08]], dtype=float32)>,\n",
       " <tf.Tensor: shape=(512,), dtype=float32, numpy=\n",
       " array([-4.59236071e-06, -8.46799139e-06,  3.72359609e-05, -5.23661947e-06,\n",
       "        -3.90376736e-05,  5.77996871e-05, -4.16867224e-05,  1.18488970e-05,\n",
       "         1.08368113e-05, -6.07632228e-06,  1.13807364e-05, -4.27656669e-05,\n",
       "        -2.51410584e-05,  2.86207942e-05, -2.04494900e-05, -2.63137863e-05,\n",
       "         6.69548763e-06, -6.30599061e-07,  2.82457167e-05, -2.98196155e-05,\n",
       "        -1.13229798e-05,  1.79505441e-05, -2.82834117e-06,  3.40045226e-05,\n",
       "         4.10402981e-06, -6.06795438e-05, -1.50204114e-05, -4.10200264e-05,\n",
       "         3.13337150e-05, -3.67715911e-05, -7.56838272e-05, -1.65146412e-06,\n",
       "        -4.95391942e-06, -1.25474635e-05,  6.13003863e-07, -1.10915998e-05,\n",
       "        -1.16137244e-07,  1.55915404e-05, -5.39228313e-06,  5.31314290e-05,\n",
       "         2.41058424e-05, -9.59890349e-06, -4.14689657e-06, -1.18989601e-05,\n",
       "        -2.35200787e-05,  1.07669157e-05,  6.01146166e-06, -2.13253770e-05,\n",
       "         2.08475503e-05, -3.52278767e-05, -2.69768079e-05,  1.72705622e-05,\n",
       "         3.08664312e-05, -1.45840122e-05, -4.26842598e-06, -4.10200664e-05,\n",
       "         4.05516766e-06, -1.24031030e-05, -1.22779766e-05,  2.89956497e-05,\n",
       "         1.24254020e-05,  4.96169268e-05, -4.41401971e-05,  4.20857432e-05,\n",
       "        -8.23458540e-05,  5.70363500e-06,  4.87296747e-05,  1.11039753e-05,\n",
       "         4.83762342e-05, -2.82429064e-05, -2.51116817e-05, -6.81842721e-07,\n",
       "        -5.52253550e-05,  1.97019726e-05,  2.03389573e-05,  3.07443079e-05,\n",
       "        -1.46224720e-05, -3.62679275e-05, -1.17557938e-05,  1.74629913e-05,\n",
       "         3.73392722e-05, -1.43990492e-05,  2.65963135e-05,  2.79464348e-05,\n",
       "         7.66838093e-06, -3.02191111e-05,  2.42659553e-05,  2.29459729e-05,\n",
       "        -1.09377825e-05, -3.76918179e-05,  2.57761894e-05,  4.64612967e-05,\n",
       "        -3.52002426e-05, -8.93226388e-05, -2.97142142e-05, -3.03736488e-05,\n",
       "        -6.96767484e-06, -3.46463348e-05,  1.97807494e-05,  4.11482979e-05,\n",
       "        -2.79340238e-05,  8.36899108e-06,  1.28142447e-05, -1.31993947e-05,\n",
       "         1.10514566e-06,  9.77762393e-05, -4.80972358e-06, -3.43452848e-05,\n",
       "        -9.96987183e-06, -8.84971887e-05,  2.91388751e-05, -2.77345553e-05,\n",
       "         8.96009078e-06,  9.50436333e-06,  5.61980560e-05, -4.47616640e-06,\n",
       "        -1.30772296e-05, -4.77885187e-05,  3.03888228e-05, -3.08278068e-05,\n",
       "         3.15706420e-05,  3.19555693e-05, -1.55525613e-05,  4.55979753e-05,\n",
       "         2.10574126e-05, -3.96935684e-05, -2.08890651e-05,  5.03362680e-05,\n",
       "         2.48787965e-05, -2.38346893e-05,  4.98544359e-05, -1.82073709e-05,\n",
       "        -5.80514861e-05,  4.80015624e-05, -5.16480068e-05,  1.51499971e-05,\n",
       "         8.09195080e-06, -8.53336496e-06, -3.89689558e-06, -5.63586364e-05,\n",
       "        -5.47457457e-05,  4.07144471e-05, -1.19267643e-05, -2.40027948e-05,\n",
       "        -1.10762885e-05, -7.99773989e-06,  4.06347972e-05, -2.44319835e-05,\n",
       "        -8.77323328e-06,  5.38091035e-06,  1.18610205e-05,  3.44505424e-05,\n",
       "         1.84916207e-05, -7.96116947e-05, -2.39102010e-05, -3.38676618e-05,\n",
       "         2.38615758e-05, -1.44301275e-05, -8.66289483e-05,  2.34792351e-05,\n",
       "         2.92026889e-05, -2.05351644e-05,  3.99338242e-05, -2.34938052e-05,\n",
       "        -2.06022305e-05,  4.20334909e-05,  2.89271029e-05,  5.44546056e-05,\n",
       "         5.70229458e-05, -2.55225896e-05, -2.62289336e-06,  1.14449836e-06,\n",
       "        -1.63567165e-05,  7.84299118e-06,  2.41801099e-05, -1.70265084e-05,\n",
       "         2.98106788e-05, -2.93146641e-05, -3.80490455e-05,  2.32626280e-05,\n",
       "         3.60395352e-05, -8.20072182e-06, -2.96011713e-05, -6.46222034e-05,\n",
       "         1.87523456e-05, -1.24192029e-05, -1.48865365e-06,  1.99133883e-05,\n",
       "         1.41590263e-05,  4.74451263e-05, -8.32968944e-05,  2.36594860e-05,\n",
       "        -8.99159859e-05,  3.20252475e-05,  5.27035227e-05, -2.94163183e-05,\n",
       "         5.81610439e-05, -2.22435701e-05, -1.35015180e-05,  3.08823110e-06,\n",
       "        -8.92328535e-05, -1.35084938e-05,  1.01105979e-05,  5.25717405e-05,\n",
       "         1.29737755e-05, -7.10917302e-05,  6.91523655e-06,  2.29463913e-05,\n",
       "         8.16753309e-05, -4.89573722e-07,  1.41392957e-05,  2.13861749e-05,\n",
       "         2.02148931e-05, -3.88241897e-05,  3.56254386e-05,  3.16386686e-05,\n",
       "         4.91613628e-06, -7.17887015e-05,  2.59877907e-05,  7.24496640e-05,\n",
       "        -8.54673781e-05, -1.15943651e-04, -2.21065693e-05,  2.47147909e-07,\n",
       "        -8.88660907e-06, -7.57251255e-05,  1.16183946e-05,  6.55026815e-05,\n",
       "        -1.68161969e-05, -3.54168878e-06, -4.17342926e-06, -5.16293221e-06,\n",
       "         1.64805824e-05,  1.53517496e-04,  1.74249562e-05, -3.47934110e-05,\n",
       "        -5.04048967e-06, -1.38439253e-04,  6.00712847e-05, -3.33895841e-05,\n",
       "         4.21883742e-05, -2.09829977e-06,  7.26348080e-05, -6.61374543e-07,\n",
       "        -2.58493565e-05, -4.89599333e-05,  2.61960486e-05, -3.16332444e-05,\n",
       "         2.66468996e-05,  3.94854724e-05, -8.00963699e-06,  5.03109986e-05,\n",
       "         3.08225317e-05, -5.16573782e-05, -3.13467899e-05,  6.47339111e-05,\n",
       "         2.24996414e-02, -4.97008674e-03, -3.27665620e-02,  2.24741697e-02,\n",
       "        -1.24243218e-02, -1.52208935e-02,  1.32644922e-02,  2.63226172e-03,\n",
       "         4.93790815e-03, -1.13563389e-02, -2.53951494e-02,  4.39358782e-03,\n",
       "        -6.34528231e-03, -9.46201291e-03, -2.15369649e-02,  1.99046545e-02,\n",
       "        -6.41607866e-03,  1.82973370e-02,  1.65517554e-02,  2.49841772e-02,\n",
       "         3.14020878e-03, -3.65472306e-03,  1.71975978e-02, -2.89758369e-02,\n",
       "         3.10955383e-02,  1.03371982e-02,  3.45415920e-02,  1.57247316e-02,\n",
       "        -2.82656029e-02, -1.47598721e-02, -2.35490128e-02, -1.58379171e-02,\n",
       "         8.81626830e-03,  1.62443407e-02, -2.06054859e-02,  8.81505758e-03,\n",
       "        -2.61645429e-02, -4.43196818e-02,  1.33743230e-02, -9.66931786e-03,\n",
       "         4.03689630e-02,  2.60463506e-02,  1.18143661e-02,  3.25892195e-02,\n",
       "        -1.61681883e-02,  1.79246236e-02, -2.66152900e-02,  1.82416439e-02,\n",
       "        -1.76262856e-03, -2.04234570e-02,  1.28456252e-03, -1.71066336e-02,\n",
       "        -3.05702612e-02,  2.25885194e-02, -1.78803522e-02, -3.22574675e-02,\n",
       "        -1.27956979e-02, -3.15376483e-02, -2.17821077e-03, -1.03231454e-02,\n",
       "         3.67062469e-03, -2.79388241e-02, -1.29061155e-02,  9.72691551e-03,\n",
       "        -3.68518904e-02, -2.05334648e-02, -1.38023244e-02,  1.86114926e-02,\n",
       "         1.75398625e-02, -8.55205022e-03, -1.97359920e-02, -4.05477658e-02,\n",
       "        -2.46327706e-02,  2.10782588e-02,  9.39474441e-03,  5.05381711e-02,\n",
       "        -3.25568058e-02,  2.41477005e-02, -1.22483596e-02, -2.82874033e-02,\n",
       "        -1.67227723e-02,  4.51832153e-02,  3.34561579e-02,  4.94923666e-02,\n",
       "         1.92904882e-02, -1.69651844e-02, -2.23100856e-02, -6.09970884e-03,\n",
       "         1.74757205e-02, -3.64755914e-02, -2.89670890e-03, -1.11614261e-02,\n",
       "         4.70830454e-03, -6.98971562e-04,  1.80644803e-02,  1.12058474e-02,\n",
       "        -2.63423920e-02, -3.74235883e-02, -1.70166269e-02,  1.05187986e-02,\n",
       "         2.05892846e-02,  5.47440909e-02,  9.36016254e-03,  8.36364459e-03,\n",
       "        -2.53049983e-03, -5.20605221e-02,  3.83058451e-02, -7.81547744e-03,\n",
       "         1.49330124e-02,  5.13854474e-02, -3.28940675e-02,  2.48917863e-02,\n",
       "         6.90813549e-03, -2.05593482e-02,  2.50675865e-02, -2.10369434e-02,\n",
       "        -5.16210031e-03,  7.82034621e-02, -1.54123502e-02, -1.67345442e-02,\n",
       "         1.64421629e-02, -7.84071684e-02,  2.87108272e-02, -4.85173315e-02,\n",
       "        -1.00085884e-02,  2.17441209e-02, -3.01271975e-02, -2.00404562e-02,\n",
       "        -1.03505736e-05, -1.70847288e-05,  4.88525184e-05, -6.64579920e-06,\n",
       "        -4.04989332e-05,  5.76259554e-05, -4.29290740e-05,  1.71060710e-05,\n",
       "        -8.35331230e-06, -1.59318479e-05,  1.70918447e-05, -4.82695432e-05,\n",
       "        -4.32581219e-05,  3.01615291e-05, -1.66360987e-05, -2.85698879e-05,\n",
       "         3.43842134e-06, -2.56598105e-06,  2.76026913e-05, -3.07924711e-05,\n",
       "        -1.00039315e-05,  2.07805460e-05, -2.40081135e-06,  3.21626503e-05,\n",
       "         7.07453455e-06, -6.56273332e-05, -2.12305604e-05, -4.38982242e-05,\n",
       "         3.38888785e-05, -4.05741303e-05, -7.57539819e-05,  9.99625627e-08,\n",
       "         3.99750934e-06, -1.60580021e-05,  6.87662805e-06, -1.30962817e-05,\n",
       "         4.83632766e-06,  5.96624341e-06, -6.91014975e-07,  6.04688394e-05,\n",
       "         2.83862209e-05, -1.13296037e-05,  1.56038186e-06, -5.77767969e-06,\n",
       "        -2.37878230e-05,  2.01671101e-05,  1.79354192e-05, -1.71479260e-05,\n",
       "         2.59975350e-05, -3.70780472e-05, -1.58421753e-05,  1.90153187e-05,\n",
       "         3.85544990e-05, -1.67904291e-05, -1.19666947e-06, -5.31718542e-05,\n",
       "         1.04156152e-05, -3.57661429e-06, -1.26481918e-05,  2.67826163e-05,\n",
       "         1.92195403e-05,  4.48056198e-05, -3.93310620e-05,  4.39066571e-05,\n",
       "        -9.52675764e-05,  1.29450909e-05,  4.76285240e-05, -2.62411322e-06,\n",
       "         4.06186446e-05, -3.72016875e-05, -1.75575515e-05, -7.12944166e-06,\n",
       "        -6.08546870e-05,  1.72928194e-05,  1.35068021e-05,  4.07652078e-05,\n",
       "        -5.55205770e-06, -4.13035232e-05, -3.31101000e-06,  1.69665527e-05,\n",
       "         4.55884474e-05, -1.14701124e-05,  3.05532121e-05,  2.71544395e-05,\n",
       "         1.47589762e-05, -3.77095566e-05,  2.10655071e-05,  2.04297903e-05,\n",
       "        -4.42042983e-06, -5.65526425e-05,  2.54110855e-05,  5.83032197e-05,\n",
       "        -4.33748537e-05, -9.93360954e-05, -3.66411259e-05, -3.28212191e-05,\n",
       "        -1.07566620e-05, -3.84760351e-05,  3.43464199e-05,  4.32745364e-05,\n",
       "        -2.10730705e-05,  1.43080697e-05,  5.80354845e-06, -2.29321195e-05,\n",
       "         5.75911145e-06,  1.21870646e-04, -4.50209700e-06, -3.96239011e-05,\n",
       "        -6.68384973e-06, -1.07379150e-04,  3.56736418e-05, -3.23168715e-05,\n",
       "         1.71827196e-05,  9.14383418e-06,  5.73820071e-05, -4.22170524e-06,\n",
       "        -1.42658837e-05, -4.91972787e-05,  3.77244578e-05, -3.36242847e-05,\n",
       "         3.28349633e-05,  3.16497426e-05, -2.30398746e-05,  5.51458725e-05,\n",
       "         2.51132260e-05, -5.06575743e-05, -2.38856010e-05,  5.22343471e-05],\n",
       "       dtype=float32)>,\n",
       " <tf.Tensor: shape=(128, 10000), dtype=float32, numpy=\n",
       " array([[-3.0376751e-04, -5.2850507e-04, -1.4542408e-03, ...,\n",
       "          2.1718402e-06,  2.1733545e-06,  2.1757301e-06],\n",
       "        [ 2.1326919e-03,  3.1405003e-03,  1.2572672e-03, ...,\n",
       "         -4.1726548e-06, -4.1728590e-06, -4.1723442e-06],\n",
       "        [ 1.6929714e-03,  3.3617355e-03,  1.7006021e-03, ...,\n",
       "         -5.2857849e-06, -5.2859468e-06, -5.2892265e-06],\n",
       "        ...,\n",
       "        [ 1.6600691e-03,  4.1450574e-03,  2.7687636e-03, ...,\n",
       "         -3.8340986e-06, -3.8348694e-06, -3.8362032e-06],\n",
       "        [-2.6012477e-03, -2.4776701e-03, -1.5689638e-03, ...,\n",
       "          3.2061866e-06,  3.2056819e-06,  3.2079522e-06],\n",
       "        [-7.0526835e-04,  6.2945299e-05,  1.7617660e-04, ...,\n",
       "         -5.2101257e-08, -5.1668735e-08, -5.3640008e-08]], dtype=float32)>,\n",
       " <tf.Tensor: shape=(10000,), dtype=float32, numpy=\n",
       " array([-0.79799837, -1.0313315 , -1.0313313 , ...,  0.00199975,\n",
       "         0.00199997,  0.00200047], dtype=float32)>]"
      ]
     },
     "execution_count": 46,
     "metadata": {},
     "output_type": "execute_result"
    }
   ],
   "source": [
    "# Define the gradient clipping threshold\n",
    "grads, _ = tf.clip_by_global_norm(grad_t_list, max_grad_norm)\n",
    "grads"
   ]
  },
  {
   "cell_type": "markdown",
   "metadata": {},
   "source": [
    "<h4> 4.Apply the optimizer to the variables/gradients tuple. </h4>\n"
   ]
  },
  {
   "cell_type": "code",
   "execution_count": 47,
   "metadata": {
    "tags": []
   },
   "outputs": [],
   "source": [
    "# Create the training TensorFlow Operation through our optimizer\n",
    "train_op = optimizer.apply_gradients(zip(grads, tvars))"
   ]
  },
  {
   "cell_type": "markdown",
   "metadata": {},
   "source": [
    "<a id=\"ltsm\"></a>\n",
    "<h2>LSTM</h2>\n"
   ]
  },
  {
   "cell_type": "markdown",
   "metadata": {},
   "source": [
    "We learned how the model is build step by step. Noe, let's then create a Class that represents our model. This class needs a few things:\n",
    "<ul>\n",
    "    <li>We have to create the model in accordance with our defined hyperparameters</li>\n",
    "    <li>We have to create the LSTM cell structure and connect them with our RNN structure</li>\n",
    "    <li>We have to create the word embeddings and point them to the input data</li>\n",
    "    <li>We have to create the input structure for our RNN</li>\n",
    "    <li>We need to create a logistic structure to return the probability of our words</li>\n",
    "    <li>We need to create the loss and cost functions for our optimizer to work, and then create the optimizer</li>\n",
    "    <li>And finally, we need to create a training operation that can be run to actually train our model</li>\n",
    "</ul>\n"
   ]
  },
  {
   "cell_type": "code",
   "execution_count": 48,
   "metadata": {
    "tags": []
   },
   "outputs": [],
   "source": [
    "class PTBModel(object):\n",
    "\n",
    "\n",
    "    def __init__(self):\n",
    "        ######################################\n",
    "        # Setting parameters for ease of use #\n",
    "        ######################################\n",
    "        self.batch_size = batch_size\n",
    "        self.num_steps = num_steps\n",
    "        self.hidden_size_l1 = hidden_size_l1\n",
    "        self.hidden_size_l2 = hidden_size_l2\n",
    "        self.vocab_size = vocab_size\n",
    "        self.embeding_vector_size = embeding_vector_size\n",
    "        # Create a variable for the learning rate\n",
    "        self._lr = 1.0\n",
    "        \n",
    "        ###############################################################################\n",
    "        # Initializing the model using keras Sequential API  #\n",
    "        ###############################################################################\n",
    "        \n",
    "        self._model = tf.keras.models.Sequential()\n",
    "        \n",
    "        ####################################################################\n",
    "        # Creating the word embeddings layer and adding it to the sequence #\n",
    "        ####################################################################\n",
    "        with tf.device(\"/cpu:0\"):\n",
    "            # Create the embeddings for our input data. Size is hidden size.\n",
    "            self._embedding_layer = tf.keras.layers.Embedding(self.vocab_size, self.embeding_vector_size,batch_input_shape=(self.batch_size, self.num_steps),trainable=True,name=\"embedding_vocab\")  #[10000x200]\n",
    "            self._model.add(self._embedding_layer)\n",
    "            \n",
    "\n",
    "        ##########################################################################\n",
    "        # Creating the LSTM cell structure and connect it with the RNN structure #\n",
    "        ##########################################################################\n",
    "        # Create the LSTM Cells. \n",
    "        # This creates only the structure for the LSTM and has to be associated with a RNN unit still.\n",
    "        # The argument  of LSTMCell is size of hidden layer, that is, the number of hidden units of the LSTM (inside A). \n",
    "        # LSTM cell processes one word at a time and computes probabilities of the possible continuations of the sentence.\n",
    "        lstm_cell_l1 = tf.keras.layers.LSTMCell(hidden_size_l1)\n",
    "        lstm_cell_l2 = tf.keras.layers.LSTMCell(hidden_size_l2)\n",
    "        \n",
    "\n",
    "        \n",
    "        # By taking in the LSTM cells as parameters, the StackedRNNCells function junctions the LSTM units to the RNN units.\n",
    "        # RNN cell composed sequentially of stacked simple cells.\n",
    "        stacked_lstm = tf.keras.layers.StackedRNNCells([lstm_cell_l1, lstm_cell_l2])\n",
    "\n",
    "\n",
    "        \n",
    "\n",
    "        ############################################\n",
    "        # Creating the input structure for our RNN #\n",
    "        ############################################\n",
    "        # Input structure is 20x[30x200]\n",
    "        # Considering each word is represended by a 200 dimentional vector, and we have 30 batchs, we create 30 word-vectors of size [30xx2000]\n",
    "        # The input structure is fed from the embeddings, which are filled in by the input data\n",
    "        # Feeding a batch of b sentences to a RNN:\n",
    "        # In step 1,  first word of each of the b sentences (in a batch) is input in parallel.  \n",
    "        # In step 2,  second word of each of the b sentences is input in parallel. \n",
    "        # The parallelism is only for efficiency.  \n",
    "        # Each sentence in a batch is handled in parallel, but the network sees one word of a sentence at a time and does the computations accordingly. \n",
    "        # All the computations involving the words of all sentences in a batch at a given time step are done in parallel. \n",
    "\n",
    "        ########################################################################################################\n",
    "        # Instantiating our RNN model and setting stateful to True to feed forward the state to the next layer #\n",
    "        ########################################################################################################\n",
    "        \n",
    "        self._RNNlayer  =  tf.keras.layers.RNN(stacked_lstm,[batch_size, num_steps],return_state=False,stateful=True,trainable=True)\n",
    "        \n",
    "        # Define the initial state, i.e., the model state for the very first data point\n",
    "        # It initialize the state of the LSTM memory. The memory state of the network is initialized with a vector of zeros and gets updated after reading each word.\n",
    "        self._initial_state = tf.Variable(tf.zeros([batch_size,embeding_vector_size]),trainable=False)\n",
    "        self._RNNlayer.inital_state = self._initial_state\n",
    "    \n",
    "        ############################################\n",
    "        # Adding RNN layer to keras sequential API #\n",
    "        ############################################        \n",
    "        self._model.add(self._RNNlayer)\n",
    "        \n",
    "        #self._model.add(tf.keras.layers.LSTM(hidden_size_l1,return_sequences=True,stateful=True))\n",
    "        #self._model.add(tf.keras.layers.LSTM(hidden_size_l2,return_sequences=True))\n",
    "        \n",
    "        \n",
    "        ####################################################################################################\n",
    "        # Instantiating a Dense layer that connects the output to the vocab_size  and adding layer to model#\n",
    "        ####################################################################################################\n",
    "        self._dense = tf.keras.layers.Dense(self.vocab_size)\n",
    "        self._model.add(self._dense)\n",
    " \n",
    "        \n",
    "        ####################################################################################################\n",
    "        # Adding softmax activation layer and deriving probability to each class and adding layer to model #\n",
    "        ####################################################################################################\n",
    "        self._activation = tf.keras.layers.Activation('softmax')\n",
    "        self._model.add(self._activation)\n",
    "\n",
    "        ##########################################################\n",
    "        # Instantiating the stochastic gradient decent optimizer #\n",
    "        ########################################################## \n",
    "        self._optimizer = tf.keras.optimizers.SGD(lr=self._lr, clipnorm=max_grad_norm)\n",
    "        \n",
    "        \n",
    "        ##############################################################################\n",
    "        # Compiling and summarizing the model stacked using the keras sequential API #\n",
    "        ##############################################################################\n",
    "        self._model.compile(loss=self.crossentropy, optimizer=self._optimizer)\n",
    "        self._model.summary()\n",
    "\n",
    "\n",
    "    def crossentropy(self,y_true, y_pred):\n",
    "        return tf.keras.losses.sparse_categorical_crossentropy(y_true, y_pred)\n",
    "\n",
    "    def train_batch(self,_input_data,_targets):\n",
    "        #################################################\n",
    "        # Creating the Training Operation for our Model #\n",
    "        #################################################\n",
    "        # Create a variable for the learning rate\n",
    "        self._lr = tf.Variable(0.0, trainable=False)\n",
    "        # Get all TensorFlow variables marked as \"trainable\" (i.e. all of them except _lr, which we just created)\n",
    "        tvars = self._model.trainable_variables\n",
    "        # Define the gradient clipping threshold\n",
    "        with tf.GradientTape() as tape:\n",
    "            # Forward pass.\n",
    "            output_words_prob = self._model(_input_data)\n",
    "            # Loss value for this batch.\n",
    "            loss  = self.crossentropy(_targets, output_words_prob)\n",
    "            # average across batch and reduce sum\n",
    "            cost = tf.reduce_sum(loss/ self.batch_size)\n",
    "        # Get gradients of loss wrt the trainable variables.\n",
    "        grad_t_list = tape.gradient(cost, tvars)\n",
    "        # Define the gradient clipping threshold\n",
    "        grads, _ = tf.clip_by_global_norm(grad_t_list, max_grad_norm)\n",
    "        # Create the training TensorFlow Operation through our optimizer\n",
    "        train_op = self._optimizer.apply_gradients(zip(grads, tvars))\n",
    "        return cost\n",
    "        \n",
    "    def test_batch(self,_input_data,_targets):\n",
    "        #################################################\n",
    "        # Creating the Testing Operation for our Model #\n",
    "        #################################################\n",
    "        output_words_prob = self._model(_input_data)\n",
    "        loss  = self.crossentropy(_targets, output_words_prob)\n",
    "        # average across batch and reduce sum\n",
    "        cost = tf.reduce_sum(loss/ self.batch_size)\n",
    "\n",
    "        return cost\n",
    "    @classmethod\n",
    "    def instance(cls) : \n",
    "        return PTBModel()"
   ]
  },
  {
   "cell_type": "markdown",
   "metadata": {},
   "source": [
    "With that, the actual structure of our Recurrent Neural Network with Long Short-Term Memory is finished. What remains for us to do is to actually create the methods to run through time -- that is, the <code>run_epoch</code> method to be run at each epoch and a <code>main</code> script which ties all of this together.\n",
    "\n",
    "What our <code>run_epoch</code> method should do is take our input data and feed it to the relevant operations. This will return at the very least the current result for the cost function.\n"
   ]
  },
  {
   "cell_type": "code",
   "execution_count": 49,
   "metadata": {
    "tags": []
   },
   "outputs": [],
   "source": [
    "\n",
    "########################################################################################################################\n",
    "# run_one_epoch takes as parameters  the model instance, the data to be fed, training or testing mode and verbose info #\n",
    "########################################################################################################################\n",
    "def run_one_epoch(m, data,is_training=True,verbose=False):\n",
    "\n",
    "    #Define the epoch size based on the length of the data, batch size and the number of steps\n",
    "    epoch_size = ((len(data) // m.batch_size) - 1) // m.num_steps\n",
    "    start_time = time.time()\n",
    "    costs = 0.\n",
    "    iters = 0\n",
    "    \n",
    "    m._model.reset_states()\n",
    "    \n",
    "    #For each step and data point\n",
    "    for step, (x, y) in enumerate(ptb_iterator(data, m.batch_size, m.num_steps)):\n",
    "        \n",
    "        #Evaluate and return cost, state by running cost, final_state and the function passed as parameter\n",
    "        #y = tf.keras.utils.to_categorical(y, num_classes=vocab_size)\n",
    "        if is_training : \n",
    "            loss=  m.train_batch(x, y)\n",
    "        else :\n",
    "            loss = m.test_batch(x, y)\n",
    "                                   \n",
    "\n",
    "        #Add returned cost to costs (which keeps track of the total costs for this epoch)\n",
    "        costs += loss\n",
    "        \n",
    "        #Add number of steps to iteration counter\n",
    "        iters += m.num_steps\n",
    "\n",
    "        if verbose and step % (epoch_size // 10) == 10:\n",
    "            print(\"Itr %d of %d, perplexity: %.3f speed: %.0f wps\" % (step , epoch_size, np.exp(costs / iters), iters * m.batch_size / (time.time() - start_time)))\n",
    "        \n",
    "\n",
    "\n",
    "    # Returns the Perplexity rating for us to keep track of how the model is evolving\n",
    "    return np.exp(costs / iters)\n"
   ]
  },
  {
   "cell_type": "markdown",
   "metadata": {},
   "source": [
    "Now, we create the <code>main</code> method to tie everything together. The code here reads the data from the directory, using the <code>reader</code> helper module, and then trains and evaluates the model on both a testing and a validating subset of data.\n"
   ]
  },
  {
   "cell_type": "code",
   "execution_count": 50,
   "metadata": {
    "tags": []
   },
   "outputs": [],
   "source": [
    "# Reads the data and separates it into training data, validation data and testing data\n",
    "raw_data = ptb_raw_data(data_dir)\n",
    "train_data, valid_data, test_data, _, _ = raw_data"
   ]
  },
  {
   "cell_type": "code",
   "execution_count": null,
   "metadata": {
    "tags": []
   },
   "outputs": [
    {
     "name": "stdout",
     "output_type": "stream",
     "text": [
      "Model: \"sequential_1\"\n",
      "_________________________________________________________________\n",
      " Layer (type)                Output Shape              Param #   \n",
      "=================================================================\n",
      " embedding_vocab (Embedding)  (30, 20, 200)            2000000   \n",
      "                                                                 \n",
      " rnn_1 (RNN)                 (30, 20, 128)             671088    \n",
      "                                                                 \n",
      " dense_1 (Dense)             (30, 20, 10000)           1290000   \n",
      "                                                                 \n",
      " activation_1 (Activation)   (30, 20, 10000)           0         \n",
      "                                                                 \n",
      "=================================================================\n",
      "Total params: 3,961,088\n",
      "Trainable params: 3,955,088\n",
      "Non-trainable params: 6,000\n",
      "_________________________________________________________________\n",
      "Epoch 1 : Learning rate: 1.000\n",
      "Itr 10 of 1549, perplexity: 4720.127 speed: 1089 wps\n",
      "Itr 164 of 1549, perplexity: 1081.353 speed: 1176 wps\n",
      "Itr 318 of 1549, perplexity: 827.103 speed: 1182 wps\n",
      "Itr 472 of 1549, perplexity: 688.102 speed: 1178 wps\n",
      "Itr 626 of 1549, perplexity: 588.914 speed: 1178 wps\n",
      "Itr 780 of 1549, perplexity: 523.521 speed: 1181 wps\n",
      "Itr 934 of 1549, perplexity: 472.547 speed: 1185 wps\n",
      "Itr 1088 of 1549, perplexity: 434.358 speed: 1185 wps\n",
      "Itr 1242 of 1549, perplexity: 404.902 speed: 1185 wps\n",
      "Itr 1396 of 1549, perplexity: 377.553 speed: 1183 wps\n",
      "Epoch 1 : Train Perplexity: 356.007\n",
      "Epoch 1 : Valid Perplexity: 211.682\n",
      "Epoch 2 : Learning rate: 1.000\n",
      "Itr 10 of 1549, perplexity: 242.307 speed: 993 wps\n",
      "Itr 164 of 1549, perplexity: 211.958 speed: 1168 wps\n",
      "Itr 318 of 1549, perplexity: 203.656 speed: 1178 wps\n",
      "Itr 472 of 1549, perplexity: 195.502 speed: 1184 wps\n",
      "Itr 626 of 1549, perplexity: 186.589 speed: 1197 wps\n",
      "Itr 780 of 1549, perplexity: 182.888 speed: 1207 wps\n",
      "Itr 934 of 1549, perplexity: 178.612 speed: 1212 wps\n",
      "Itr 1088 of 1549, perplexity: 175.203 speed: 1211 wps\n",
      "Itr 1242 of 1549, perplexity: 172.732 speed: 1207 wps\n",
      "Itr 1396 of 1549, perplexity: 168.653 speed: 1205 wps\n"
     ]
    }
   ],
   "source": [
    "# Instantiates the PTBModel class\n",
    "m=PTBModel.instance()   \n",
    "K = tf.keras.backend \n",
    "for i in range(max_epoch):\n",
    "    # Define the decay for this epoch\n",
    "    lr_decay = decay ** max(i - max_epoch_decay_lr, 0.0)\n",
    "    dcr = learning_rate * lr_decay\n",
    "    m._lr = dcr\n",
    "    K.set_value(m._model.optimizer.learning_rate,m._lr)\n",
    "    print(\"Epoch %d : Learning rate: %.3f\" % (i + 1, m._model.optimizer.learning_rate))\n",
    "    # Run the loop for this epoch in the training mode\n",
    "    train_perplexity = run_one_epoch(m, train_data,is_training=True,verbose=True)\n",
    "    print(\"Epoch %d : Train Perplexity: %.3f\" % (i + 1, train_perplexity))\n",
    "        \n",
    "    # Run the loop for this epoch in the validation mode\n",
    "    valid_perplexity = run_one_epoch(m, valid_data,is_training=False,verbose=False)\n",
    "    print(\"Epoch %d : Valid Perplexity: %.3f\" % (i + 1, valid_perplexity))\n",
    "    \n",
    "# Run the loop in the testing mode to see how effective was our training\n",
    "test_perplexity = run_one_epoch(m, test_data,is_training=False,verbose=False)\n",
    "print(\"Test Perplexity: %.3f\" % test_perplexity)\n",
    "\n"
   ]
  },
  {
   "cell_type": "markdown",
   "metadata": {},
   "source": [
    "As you can see, the model's perplexity rating drops very quickly after a few iterations. As was elaborated before, <b>lower Perplexity means that the model is more certain about its prediction</b>. As such, we can be sure that this model is performing well!\n"
   ]
  },
  {
   "cell_type": "markdown",
   "metadata": {},
   "source": [
    "-------\n"
   ]
  },
  {
   "cell_type": "markdown",
   "metadata": {},
   "source": [
    "This is the end of the <b>Applying Recurrent Neural Networks to Text Processing</b> notebook. Hopefully you now have a better understanding of Recurrent Neural Networks and how to implement one utilizing TensorFlow. Thank you for reading this notebook, and good luck on your studies.\n"
   ]
  },
  {
   "cell_type": "markdown",
   "metadata": {},
   "source": [
    "## Want to learn more?\n",
    "\n",
    "Also, you can use __Watson Studio__ to run these notebooks faster with bigger datasets.__Watson Studio__ is IBM’s leading cloud solution for data scientists, built by data scientists. With Jupyter notebooks, RStudio, Apache Spark and popular libraries pre-packaged in the cloud, __Watson Studio__ enables data scientists to collaborate on their projects without having to install anything. Join the fast-growing community of __Watson Studio__ users today with a free account at [Watson Studio](https://cocl.us/ML0120EN_DSX).This is the end of this lesson. Thank you for reading this notebook, and good luck on your studies.\n"
   ]
  },
  {
   "cell_type": "markdown",
   "metadata": {},
   "source": [
    "### Thanks for completing this lesson!\n",
    "\n",
    "Notebook created by <a href=\"https://br.linkedin.com/in/walter-gomes-de-amorim-junior-624726121\">Walter Gomes de Amorim Junior</a>, <a href = \"https://linkedin.com/in/saeedaghabozorgi\"> Saeed Aghabozorgi </a></h4>\n",
    "\n",
    "\n",
    "Updated to TF 2.X by  <a href=\"https://www.linkedin.com/in/samaya-madhavan\"> Samaya Madhavan </a>\n"
   ]
  },
  {
   "cell_type": "markdown",
   "metadata": {},
   "source": [
    "<hr>\n",
    "\n",
    "Copyright &copy; 2018 [Cognitive Class](https://cocl.us/DX0108EN_CC). This notebook and its source code are released under the terms of the [MIT License](https://bigdatauniversity.com/mit-license/).\n"
   ]
  }
 ],
 "metadata": {
  "kernelspec": {
   "display_name": "Python",
   "language": "python",
   "name": "conda-env-python-py"
  },
  "language_info": {
   "codemirror_mode": {
    "name": "ipython",
    "version": 3
   },
   "file_extension": ".py",
   "mimetype": "text/x-python",
   "name": "python",
   "nbconvert_exporter": "python",
   "pygments_lexer": "ipython3",
   "version": "3.7.12"
  },
  "prev_pub_hash": "dc854cc2a3cd5e8454549d14810f586268aa35a4c1ca674849cd9bf9674931b2"
 },
 "nbformat": 4,
 "nbformat_minor": 4
}
