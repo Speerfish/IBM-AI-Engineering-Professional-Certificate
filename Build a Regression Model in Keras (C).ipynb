{
 "cells": [
  {
   "cell_type": "markdown",
   "metadata": {},
   "source": [
    "## Download and Clean Dataset\n"
   ]
  },
  {
   "cell_type": "markdown",
   "metadata": {},
   "source": [
    "Let's start by importing the <em>pandas</em> and the Numpy libraries.\n"
   ]
  },
  {
   "cell_type": "code",
   "execution_count": 1,
   "metadata": {
    "tags": []
   },
   "outputs": [],
   "source": [
    "import pandas as pd\n",
    "import numpy as np\n",
    "\n",
    "import warnings\n",
    "warnings.simplefilter('ignore', FutureWarning)"
   ]
  },
  {
   "cell_type": "markdown",
   "metadata": {},
   "source": [
    "We will be using the required dataset for this assignment.\n",
    "\n",
    "<strong>The dataset is about the compressive strength of different samples of concrete based on the volumes of the different ingredients that were used to make them. <br/> \n",
    "Ingredients include:</strong>\n",
    "\n",
    "<strong>1. Cement</strong>\n",
    "\n",
    "<strong>2. Blast Furnace Slag</strong>\n",
    "\n",
    "<strong>3. Fly Ash</strong>\n",
    "\n",
    "<strong>4. Water</strong>\n",
    "\n",
    "<strong>5. Superplasticizer</strong>\n",
    "\n",
    "<strong>6. Coarse Aggregate</strong>\n",
    "\n",
    "<strong>7. Fine Aggregate</strong>\n"
   ]
  },
  {
   "cell_type": "markdown",
   "metadata": {},
   "source": [
    "Let's load the CSV data and read it into a <em>pandas</em> dataframe.\n"
   ]
  },
  {
   "cell_type": "code",
   "execution_count": 2,
   "metadata": {
    "tags": []
   },
   "outputs": [
    {
     "data": {
      "text/html": [
       "<div>\n",
       "<style scoped>\n",
       "    .dataframe tbody tr th:only-of-type {\n",
       "        vertical-align: middle;\n",
       "    }\n",
       "\n",
       "    .dataframe tbody tr th {\n",
       "        vertical-align: top;\n",
       "    }\n",
       "\n",
       "    .dataframe thead th {\n",
       "        text-align: right;\n",
       "    }\n",
       "</style>\n",
       "<table border=\"1\" class=\"dataframe\">\n",
       "  <thead>\n",
       "    <tr style=\"text-align: right;\">\n",
       "      <th></th>\n",
       "      <th>Cement</th>\n",
       "      <th>Blast Furnace Slag</th>\n",
       "      <th>Fly Ash</th>\n",
       "      <th>Water</th>\n",
       "      <th>Superplasticizer</th>\n",
       "      <th>Coarse Aggregate</th>\n",
       "      <th>Fine Aggregate</th>\n",
       "      <th>Age</th>\n",
       "      <th>Strength</th>\n",
       "    </tr>\n",
       "  </thead>\n",
       "  <tbody>\n",
       "    <tr>\n",
       "      <th>0</th>\n",
       "      <td>540.0</td>\n",
       "      <td>0.0</td>\n",
       "      <td>0.0</td>\n",
       "      <td>162.0</td>\n",
       "      <td>2.5</td>\n",
       "      <td>1040.0</td>\n",
       "      <td>676.0</td>\n",
       "      <td>28</td>\n",
       "      <td>79.99</td>\n",
       "    </tr>\n",
       "    <tr>\n",
       "      <th>1</th>\n",
       "      <td>540.0</td>\n",
       "      <td>0.0</td>\n",
       "      <td>0.0</td>\n",
       "      <td>162.0</td>\n",
       "      <td>2.5</td>\n",
       "      <td>1055.0</td>\n",
       "      <td>676.0</td>\n",
       "      <td>28</td>\n",
       "      <td>61.89</td>\n",
       "    </tr>\n",
       "    <tr>\n",
       "      <th>2</th>\n",
       "      <td>332.5</td>\n",
       "      <td>142.5</td>\n",
       "      <td>0.0</td>\n",
       "      <td>228.0</td>\n",
       "      <td>0.0</td>\n",
       "      <td>932.0</td>\n",
       "      <td>594.0</td>\n",
       "      <td>270</td>\n",
       "      <td>40.27</td>\n",
       "    </tr>\n",
       "    <tr>\n",
       "      <th>3</th>\n",
       "      <td>332.5</td>\n",
       "      <td>142.5</td>\n",
       "      <td>0.0</td>\n",
       "      <td>228.0</td>\n",
       "      <td>0.0</td>\n",
       "      <td>932.0</td>\n",
       "      <td>594.0</td>\n",
       "      <td>365</td>\n",
       "      <td>41.05</td>\n",
       "    </tr>\n",
       "    <tr>\n",
       "      <th>4</th>\n",
       "      <td>198.6</td>\n",
       "      <td>132.4</td>\n",
       "      <td>0.0</td>\n",
       "      <td>192.0</td>\n",
       "      <td>0.0</td>\n",
       "      <td>978.4</td>\n",
       "      <td>825.5</td>\n",
       "      <td>360</td>\n",
       "      <td>44.30</td>\n",
       "    </tr>\n",
       "  </tbody>\n",
       "</table>\n",
       "</div>"
      ],
      "text/plain": [
       "   Cement  Blast Furnace Slag  Fly Ash  Water  Superplasticizer  \\\n",
       "0   540.0                 0.0      0.0  162.0               2.5   \n",
       "1   540.0                 0.0      0.0  162.0               2.5   \n",
       "2   332.5               142.5      0.0  228.0               0.0   \n",
       "3   332.5               142.5      0.0  228.0               0.0   \n",
       "4   198.6               132.4      0.0  192.0               0.0   \n",
       "\n",
       "   Coarse Aggregate  Fine Aggregate  Age  Strength  \n",
       "0            1040.0           676.0   28     79.99  \n",
       "1            1055.0           676.0   28     61.89  \n",
       "2             932.0           594.0  270     40.27  \n",
       "3             932.0           594.0  365     41.05  \n",
       "4             978.4           825.5  360     44.30  "
      ]
     },
     "execution_count": 2,
     "metadata": {},
     "output_type": "execute_result"
    }
   ],
   "source": [
    "concrete_data = pd.read_csv('concrete_data.csv')\n",
    "concrete_data.head()"
   ]
  },
  {
   "cell_type": "markdown",
   "metadata": {},
   "source": [
    "So the first concrete sample has 540 cubic meter of cement, 0 cubic meter of blast furnace slag, 0 cubic meter of fly ash, 162 cubic meter of water, 2.5 cubic meter of superplaticizer, 1040 cubic meter of coarse aggregate, 676 cubic meter of fine aggregate. Such a concrete mix which is 28 days old, has a compressive strength of 79.99 MPa. \n"
   ]
  },
  {
   "cell_type": "markdown",
   "metadata": {},
   "source": [
    "#### Let's check how many data points we have.\n"
   ]
  },
  {
   "cell_type": "code",
   "execution_count": 3,
   "metadata": {
    "tags": []
   },
   "outputs": [
    {
     "data": {
      "text/plain": [
       "(1030, 9)"
      ]
     },
     "execution_count": 3,
     "metadata": {},
     "output_type": "execute_result"
    }
   ],
   "source": [
    "concrete_data.shape"
   ]
  },
  {
   "cell_type": "markdown",
   "metadata": {},
   "source": [
    "So, there are approximately 1000 samples to train our model on. Because of the few samples, we have to be careful not to overfit the training data.\n"
   ]
  },
  {
   "cell_type": "markdown",
   "metadata": {},
   "source": [
    "Let's check the dataset for any missing values.\n"
   ]
  },
  {
   "cell_type": "code",
   "execution_count": 4,
   "metadata": {
    "tags": []
   },
   "outputs": [
    {
     "data": {
      "text/html": [
       "<div>\n",
       "<style scoped>\n",
       "    .dataframe tbody tr th:only-of-type {\n",
       "        vertical-align: middle;\n",
       "    }\n",
       "\n",
       "    .dataframe tbody tr th {\n",
       "        vertical-align: top;\n",
       "    }\n",
       "\n",
       "    .dataframe thead th {\n",
       "        text-align: right;\n",
       "    }\n",
       "</style>\n",
       "<table border=\"1\" class=\"dataframe\">\n",
       "  <thead>\n",
       "    <tr style=\"text-align: right;\">\n",
       "      <th></th>\n",
       "      <th>Cement</th>\n",
       "      <th>Blast Furnace Slag</th>\n",
       "      <th>Fly Ash</th>\n",
       "      <th>Water</th>\n",
       "      <th>Superplasticizer</th>\n",
       "      <th>Coarse Aggregate</th>\n",
       "      <th>Fine Aggregate</th>\n",
       "      <th>Age</th>\n",
       "      <th>Strength</th>\n",
       "    </tr>\n",
       "  </thead>\n",
       "  <tbody>\n",
       "    <tr>\n",
       "      <th>count</th>\n",
       "      <td>1030.000000</td>\n",
       "      <td>1030.000000</td>\n",
       "      <td>1030.000000</td>\n",
       "      <td>1030.000000</td>\n",
       "      <td>1030.000000</td>\n",
       "      <td>1030.000000</td>\n",
       "      <td>1030.000000</td>\n",
       "      <td>1030.000000</td>\n",
       "      <td>1030.000000</td>\n",
       "    </tr>\n",
       "    <tr>\n",
       "      <th>mean</th>\n",
       "      <td>281.167864</td>\n",
       "      <td>73.895825</td>\n",
       "      <td>54.188350</td>\n",
       "      <td>181.567282</td>\n",
       "      <td>6.204660</td>\n",
       "      <td>972.918932</td>\n",
       "      <td>773.580485</td>\n",
       "      <td>45.662136</td>\n",
       "      <td>35.817961</td>\n",
       "    </tr>\n",
       "    <tr>\n",
       "      <th>std</th>\n",
       "      <td>104.506364</td>\n",
       "      <td>86.279342</td>\n",
       "      <td>63.997004</td>\n",
       "      <td>21.354219</td>\n",
       "      <td>5.973841</td>\n",
       "      <td>77.753954</td>\n",
       "      <td>80.175980</td>\n",
       "      <td>63.169912</td>\n",
       "      <td>16.705742</td>\n",
       "    </tr>\n",
       "    <tr>\n",
       "      <th>min</th>\n",
       "      <td>102.000000</td>\n",
       "      <td>0.000000</td>\n",
       "      <td>0.000000</td>\n",
       "      <td>121.800000</td>\n",
       "      <td>0.000000</td>\n",
       "      <td>801.000000</td>\n",
       "      <td>594.000000</td>\n",
       "      <td>1.000000</td>\n",
       "      <td>2.330000</td>\n",
       "    </tr>\n",
       "    <tr>\n",
       "      <th>25%</th>\n",
       "      <td>192.375000</td>\n",
       "      <td>0.000000</td>\n",
       "      <td>0.000000</td>\n",
       "      <td>164.900000</td>\n",
       "      <td>0.000000</td>\n",
       "      <td>932.000000</td>\n",
       "      <td>730.950000</td>\n",
       "      <td>7.000000</td>\n",
       "      <td>23.710000</td>\n",
       "    </tr>\n",
       "    <tr>\n",
       "      <th>50%</th>\n",
       "      <td>272.900000</td>\n",
       "      <td>22.000000</td>\n",
       "      <td>0.000000</td>\n",
       "      <td>185.000000</td>\n",
       "      <td>6.400000</td>\n",
       "      <td>968.000000</td>\n",
       "      <td>779.500000</td>\n",
       "      <td>28.000000</td>\n",
       "      <td>34.445000</td>\n",
       "    </tr>\n",
       "    <tr>\n",
       "      <th>75%</th>\n",
       "      <td>350.000000</td>\n",
       "      <td>142.950000</td>\n",
       "      <td>118.300000</td>\n",
       "      <td>192.000000</td>\n",
       "      <td>10.200000</td>\n",
       "      <td>1029.400000</td>\n",
       "      <td>824.000000</td>\n",
       "      <td>56.000000</td>\n",
       "      <td>46.135000</td>\n",
       "    </tr>\n",
       "    <tr>\n",
       "      <th>max</th>\n",
       "      <td>540.000000</td>\n",
       "      <td>359.400000</td>\n",
       "      <td>200.100000</td>\n",
       "      <td>247.000000</td>\n",
       "      <td>32.200000</td>\n",
       "      <td>1145.000000</td>\n",
       "      <td>992.600000</td>\n",
       "      <td>365.000000</td>\n",
       "      <td>82.600000</td>\n",
       "    </tr>\n",
       "  </tbody>\n",
       "</table>\n",
       "</div>"
      ],
      "text/plain": [
       "            Cement  Blast Furnace Slag      Fly Ash        Water  \\\n",
       "count  1030.000000         1030.000000  1030.000000  1030.000000   \n",
       "mean    281.167864           73.895825    54.188350   181.567282   \n",
       "std     104.506364           86.279342    63.997004    21.354219   \n",
       "min     102.000000            0.000000     0.000000   121.800000   \n",
       "25%     192.375000            0.000000     0.000000   164.900000   \n",
       "50%     272.900000           22.000000     0.000000   185.000000   \n",
       "75%     350.000000          142.950000   118.300000   192.000000   \n",
       "max     540.000000          359.400000   200.100000   247.000000   \n",
       "\n",
       "       Superplasticizer  Coarse Aggregate  Fine Aggregate          Age  \\\n",
       "count       1030.000000       1030.000000     1030.000000  1030.000000   \n",
       "mean           6.204660        972.918932      773.580485    45.662136   \n",
       "std            5.973841         77.753954       80.175980    63.169912   \n",
       "min            0.000000        801.000000      594.000000     1.000000   \n",
       "25%            0.000000        932.000000      730.950000     7.000000   \n",
       "50%            6.400000        968.000000      779.500000    28.000000   \n",
       "75%           10.200000       1029.400000      824.000000    56.000000   \n",
       "max           32.200000       1145.000000      992.600000   365.000000   \n",
       "\n",
       "          Strength  \n",
       "count  1030.000000  \n",
       "mean     35.817961  \n",
       "std      16.705742  \n",
       "min       2.330000  \n",
       "25%      23.710000  \n",
       "50%      34.445000  \n",
       "75%      46.135000  \n",
       "max      82.600000  "
      ]
     },
     "execution_count": 4,
     "metadata": {},
     "output_type": "execute_result"
    }
   ],
   "source": [
    "concrete_data.describe()"
   ]
  },
  {
   "cell_type": "code",
   "execution_count": 5,
   "metadata": {
    "tags": []
   },
   "outputs": [
    {
     "data": {
      "text/plain": [
       "Cement                0\n",
       "Blast Furnace Slag    0\n",
       "Fly Ash               0\n",
       "Water                 0\n",
       "Superplasticizer      0\n",
       "Coarse Aggregate      0\n",
       "Fine Aggregate        0\n",
       "Age                   0\n",
       "Strength              0\n",
       "dtype: int64"
      ]
     },
     "execution_count": 5,
     "metadata": {},
     "output_type": "execute_result"
    }
   ],
   "source": [
    "concrete_data.isnull().sum()"
   ]
  },
  {
   "cell_type": "markdown",
   "metadata": {},
   "source": [
    "The data looks very clean and is ready to be used to build our model.\n"
   ]
  },
  {
   "cell_type": "markdown",
   "metadata": {},
   "source": [
    "#### Split data into predictors and target\n"
   ]
  },
  {
   "cell_type": "markdown",
   "metadata": {},
   "source": [
    "The target variable in this problem is the concrete sample strength. Therefore, our predictors will be all the other columns.\n"
   ]
  },
  {
   "cell_type": "code",
   "execution_count": 6,
   "metadata": {
    "tags": []
   },
   "outputs": [],
   "source": [
    "concrete_data_columns = concrete_data.columns\n",
    "\n",
    "predictors = concrete_data[concrete_data_columns[concrete_data_columns != 'Strength']] # all columns except Strength\n",
    "target = concrete_data['Strength'] # Strength column"
   ]
  },
  {
   "cell_type": "markdown",
   "metadata": {},
   "source": [
    "Let's do a quick sanity check of the predictors and the target dataframes.\n"
   ]
  },
  {
   "cell_type": "code",
   "execution_count": 7,
   "metadata": {
    "tags": []
   },
   "outputs": [
    {
     "data": {
      "text/html": [
       "<div>\n",
       "<style scoped>\n",
       "    .dataframe tbody tr th:only-of-type {\n",
       "        vertical-align: middle;\n",
       "    }\n",
       "\n",
       "    .dataframe tbody tr th {\n",
       "        vertical-align: top;\n",
       "    }\n",
       "\n",
       "    .dataframe thead th {\n",
       "        text-align: right;\n",
       "    }\n",
       "</style>\n",
       "<table border=\"1\" class=\"dataframe\">\n",
       "  <thead>\n",
       "    <tr style=\"text-align: right;\">\n",
       "      <th></th>\n",
       "      <th>Cement</th>\n",
       "      <th>Blast Furnace Slag</th>\n",
       "      <th>Fly Ash</th>\n",
       "      <th>Water</th>\n",
       "      <th>Superplasticizer</th>\n",
       "      <th>Coarse Aggregate</th>\n",
       "      <th>Fine Aggregate</th>\n",
       "      <th>Age</th>\n",
       "    </tr>\n",
       "  </thead>\n",
       "  <tbody>\n",
       "    <tr>\n",
       "      <th>0</th>\n",
       "      <td>540.0</td>\n",
       "      <td>0.0</td>\n",
       "      <td>0.0</td>\n",
       "      <td>162.0</td>\n",
       "      <td>2.5</td>\n",
       "      <td>1040.0</td>\n",
       "      <td>676.0</td>\n",
       "      <td>28</td>\n",
       "    </tr>\n",
       "    <tr>\n",
       "      <th>1</th>\n",
       "      <td>540.0</td>\n",
       "      <td>0.0</td>\n",
       "      <td>0.0</td>\n",
       "      <td>162.0</td>\n",
       "      <td>2.5</td>\n",
       "      <td>1055.0</td>\n",
       "      <td>676.0</td>\n",
       "      <td>28</td>\n",
       "    </tr>\n",
       "    <tr>\n",
       "      <th>2</th>\n",
       "      <td>332.5</td>\n",
       "      <td>142.5</td>\n",
       "      <td>0.0</td>\n",
       "      <td>228.0</td>\n",
       "      <td>0.0</td>\n",
       "      <td>932.0</td>\n",
       "      <td>594.0</td>\n",
       "      <td>270</td>\n",
       "    </tr>\n",
       "    <tr>\n",
       "      <th>3</th>\n",
       "      <td>332.5</td>\n",
       "      <td>142.5</td>\n",
       "      <td>0.0</td>\n",
       "      <td>228.0</td>\n",
       "      <td>0.0</td>\n",
       "      <td>932.0</td>\n",
       "      <td>594.0</td>\n",
       "      <td>365</td>\n",
       "    </tr>\n",
       "    <tr>\n",
       "      <th>4</th>\n",
       "      <td>198.6</td>\n",
       "      <td>132.4</td>\n",
       "      <td>0.0</td>\n",
       "      <td>192.0</td>\n",
       "      <td>0.0</td>\n",
       "      <td>978.4</td>\n",
       "      <td>825.5</td>\n",
       "      <td>360</td>\n",
       "    </tr>\n",
       "  </tbody>\n",
       "</table>\n",
       "</div>"
      ],
      "text/plain": [
       "   Cement  Blast Furnace Slag  Fly Ash  Water  Superplasticizer  \\\n",
       "0   540.0                 0.0      0.0  162.0               2.5   \n",
       "1   540.0                 0.0      0.0  162.0               2.5   \n",
       "2   332.5               142.5      0.0  228.0               0.0   \n",
       "3   332.5               142.5      0.0  228.0               0.0   \n",
       "4   198.6               132.4      0.0  192.0               0.0   \n",
       "\n",
       "   Coarse Aggregate  Fine Aggregate  Age  \n",
       "0            1040.0           676.0   28  \n",
       "1            1055.0           676.0   28  \n",
       "2             932.0           594.0  270  \n",
       "3             932.0           594.0  365  \n",
       "4             978.4           825.5  360  "
      ]
     },
     "execution_count": 7,
     "metadata": {},
     "output_type": "execute_result"
    }
   ],
   "source": [
    "predictors.head()"
   ]
  },
  {
   "cell_type": "code",
   "execution_count": 8,
   "metadata": {
    "tags": []
   },
   "outputs": [
    {
     "data": {
      "text/plain": [
       "0    79.99\n",
       "1    61.89\n",
       "2    40.27\n",
       "3    41.05\n",
       "4    44.30\n",
       "Name: Strength, dtype: float64"
      ]
     },
     "execution_count": 8,
     "metadata": {},
     "output_type": "execute_result"
    }
   ],
   "source": [
    "target.head()"
   ]
  },
  {
   "cell_type": "code",
   "execution_count": 9,
   "metadata": {
    "tags": []
   },
   "outputs": [
    {
     "data": {
      "text/html": [
       "<div>\n",
       "<style scoped>\n",
       "    .dataframe tbody tr th:only-of-type {\n",
       "        vertical-align: middle;\n",
       "    }\n",
       "\n",
       "    .dataframe tbody tr th {\n",
       "        vertical-align: top;\n",
       "    }\n",
       "\n",
       "    .dataframe thead th {\n",
       "        text-align: right;\n",
       "    }\n",
       "</style>\n",
       "<table border=\"1\" class=\"dataframe\">\n",
       "  <thead>\n",
       "    <tr style=\"text-align: right;\">\n",
       "      <th></th>\n",
       "      <th>Cement</th>\n",
       "      <th>Blast Furnace Slag</th>\n",
       "      <th>Fly Ash</th>\n",
       "      <th>Water</th>\n",
       "      <th>Superplasticizer</th>\n",
       "      <th>Coarse Aggregate</th>\n",
       "      <th>Fine Aggregate</th>\n",
       "      <th>Age</th>\n",
       "    </tr>\n",
       "  </thead>\n",
       "  <tbody>\n",
       "    <tr>\n",
       "      <th>0</th>\n",
       "      <td>2.476712</td>\n",
       "      <td>-0.856472</td>\n",
       "      <td>-0.846733</td>\n",
       "      <td>-0.916319</td>\n",
       "      <td>-0.620147</td>\n",
       "      <td>0.862735</td>\n",
       "      <td>-1.217079</td>\n",
       "      <td>-0.279597</td>\n",
       "    </tr>\n",
       "    <tr>\n",
       "      <th>1</th>\n",
       "      <td>2.476712</td>\n",
       "      <td>-0.856472</td>\n",
       "      <td>-0.846733</td>\n",
       "      <td>-0.916319</td>\n",
       "      <td>-0.620147</td>\n",
       "      <td>1.055651</td>\n",
       "      <td>-1.217079</td>\n",
       "      <td>-0.279597</td>\n",
       "    </tr>\n",
       "    <tr>\n",
       "      <th>2</th>\n",
       "      <td>0.491187</td>\n",
       "      <td>0.795140</td>\n",
       "      <td>-0.846733</td>\n",
       "      <td>2.174405</td>\n",
       "      <td>-1.038638</td>\n",
       "      <td>-0.526262</td>\n",
       "      <td>-2.239829</td>\n",
       "      <td>3.551340</td>\n",
       "    </tr>\n",
       "    <tr>\n",
       "      <th>3</th>\n",
       "      <td>0.491187</td>\n",
       "      <td>0.795140</td>\n",
       "      <td>-0.846733</td>\n",
       "      <td>2.174405</td>\n",
       "      <td>-1.038638</td>\n",
       "      <td>-0.526262</td>\n",
       "      <td>-2.239829</td>\n",
       "      <td>5.055221</td>\n",
       "    </tr>\n",
       "    <tr>\n",
       "      <th>4</th>\n",
       "      <td>-0.790075</td>\n",
       "      <td>0.678079</td>\n",
       "      <td>-0.846733</td>\n",
       "      <td>0.488555</td>\n",
       "      <td>-1.038638</td>\n",
       "      <td>0.070492</td>\n",
       "      <td>0.647569</td>\n",
       "      <td>4.976069</td>\n",
       "    </tr>\n",
       "  </tbody>\n",
       "</table>\n",
       "</div>"
      ],
      "text/plain": [
       "     Cement  Blast Furnace Slag   Fly Ash     Water  Superplasticizer  \\\n",
       "0  2.476712           -0.856472 -0.846733 -0.916319         -0.620147   \n",
       "1  2.476712           -0.856472 -0.846733 -0.916319         -0.620147   \n",
       "2  0.491187            0.795140 -0.846733  2.174405         -1.038638   \n",
       "3  0.491187            0.795140 -0.846733  2.174405         -1.038638   \n",
       "4 -0.790075            0.678079 -0.846733  0.488555         -1.038638   \n",
       "\n",
       "   Coarse Aggregate  Fine Aggregate       Age  \n",
       "0          0.862735       -1.217079 -0.279597  \n",
       "1          1.055651       -1.217079 -0.279597  \n",
       "2         -0.526262       -2.239829  3.551340  \n",
       "3         -0.526262       -2.239829  5.055221  \n",
       "4          0.070492        0.647569  4.976069  "
      ]
     },
     "execution_count": 9,
     "metadata": {},
     "output_type": "execute_result"
    }
   ],
   "source": [
    "predictors_normalized = (predictors - predictors.mean()) / predictors.std()\n",
    "predictors_normalized.head()"
   ]
  },
  {
   "cell_type": "code",
   "execution_count": 10,
   "metadata": {
    "tags": []
   },
   "outputs": [
    {
     "data": {
      "text/plain": [
       "8"
      ]
     },
     "execution_count": 10,
     "metadata": {},
     "output_type": "execute_result"
    }
   ],
   "source": [
    "number_of_columns = predictors_normalized.shape[1] # number of predictors\n",
    "number_of_columns"
   ]
  },
  {
   "cell_type": "markdown",
   "metadata": {},
   "source": [
    "## Import Keras\n"
   ]
  },
  {
   "cell_type": "markdown",
   "metadata": {},
   "source": [
    "#### Let's go ahead and import the Keras library\n"
   ]
  },
  {
   "cell_type": "code",
   "execution_count": 11,
   "metadata": {
    "tags": []
   },
   "outputs": [
    {
     "name": "stderr",
     "output_type": "stream",
     "text": [
      "Using TensorFlow backend.\n"
     ]
    }
   ],
   "source": [
    "import keras"
   ]
  },
  {
   "cell_type": "markdown",
   "metadata": {},
   "source": [
    "As you can see, the TensorFlow backend was used to install the Keras library.\n"
   ]
  },
  {
   "cell_type": "markdown",
   "metadata": {},
   "source": [
    "Let's import the rest of the packages from the Keras library that we will need to build our regressoin model.\n"
   ]
  },
  {
   "cell_type": "code",
   "execution_count": 12,
   "metadata": {
    "tags": []
   },
   "outputs": [],
   "source": [
    "from keras.models import Sequential\n",
    "from keras.layers import Dense"
   ]
  },
  {
   "cell_type": "markdown",
   "metadata": {},
   "source": [
    "## Build a Neural Network\n"
   ]
  },
  {
   "cell_type": "markdown",
   "metadata": {},
   "source": [
    "Let's define a function that defines our regression model for us so that we can conveniently call it to create our model.\n"
   ]
  },
  {
   "cell_type": "code",
   "execution_count": 13,
   "metadata": {
    "tags": []
   },
   "outputs": [],
   "source": [
    "# define regression model\n",
    "def regression_model():\n",
    "    # create model\n",
    "    model = Sequential()\n",
    "    model.add(Dense(10, activation='relu', input_shape=(number_of_columns,)))\n",
    "    model.add(Dense(1))\n",
    "    \n",
    "    # compile model\n",
    "    model.compile(optimizer='adam', loss='mean_squared_error')\n",
    "    return model"
   ]
  },
  {
   "cell_type": "markdown",
   "metadata": {},
   "source": [
    "The above function creates a model that has one hidden layer with 10 neurons and a ReLU activation function. It uses the adam optimizer and the mean squared error as the loss function.\n"
   ]
  },
  {
   "cell_type": "markdown",
   "metadata": {},
   "source": [
    "Let's import scikit-learn in order to randomly split the data into a training and test sets\n"
   ]
  },
  {
   "cell_type": "markdown",
   "metadata": {},
   "source": [
    "<a id='item34'></a>\n"
   ]
  },
  {
   "cell_type": "code",
   "execution_count": 14,
   "metadata": {},
   "outputs": [
    {
     "name": "stderr",
     "output_type": "stream",
     "text": [
      "/home/jupyterlab/conda/envs/python/lib/python3.7/site-packages/sklearn/utils/validation.py:37: DeprecationWarning: distutils Version classes are deprecated. Use packaging.version instead.\n",
      "  LARGE_SPARSE_SUPPORTED = LooseVersion(scipy_version) >= '0.14.0'\n"
     ]
    }
   ],
   "source": [
    "from sklearn.model_selection import train_test_split"
   ]
  },
  {
   "cell_type": "markdown",
   "metadata": {},
   "source": [
    "Splitting the data into a training and test sets by holding 30% of the data for testing\n"
   ]
  },
  {
   "cell_type": "code",
   "execution_count": 15,
   "metadata": {},
   "outputs": [],
   "source": [
    "x_training, x_testing, y_training, y_testing = train_test_split(predictors, target, test_size=0.3, random_state=50)"
   ]
  },
  {
   "cell_type": "markdown",
   "metadata": {},
   "source": [
    "## Train and Test the Network\n"
   ]
  },
  {
   "cell_type": "markdown",
   "metadata": {},
   "source": [
    "Let's call the function now to create our model.\n"
   ]
  },
  {
   "cell_type": "code",
   "execution_count": 16,
   "metadata": {
    "tags": []
   },
   "outputs": [
    {
     "name": "stdout",
     "output_type": "stream",
     "text": [
      "WARNING:tensorflow:From /home/jupyterlab/conda/envs/python/lib/python3.7/site-packages/keras/backend/tensorflow_backend.py:68: The name tf.get_default_graph is deprecated. Please use tf.compat.v1.get_default_graph instead.\n",
      "\n",
      "WARNING:tensorflow:From /home/jupyterlab/conda/envs/python/lib/python3.7/site-packages/keras/backend/tensorflow_backend.py:508: The name tf.placeholder is deprecated. Please use tf.compat.v1.placeholder instead.\n",
      "\n",
      "WARNING:tensorflow:From /home/jupyterlab/conda/envs/python/lib/python3.7/site-packages/keras/backend/tensorflow_backend.py:3837: The name tf.random_uniform is deprecated. Please use tf.random.uniform instead.\n",
      "\n",
      "WARNING:tensorflow:From /home/jupyterlab/conda/envs/python/lib/python3.7/site-packages/keras/optimizers.py:757: The name tf.train.Optimizer is deprecated. Please use tf.compat.v1.train.Optimizer instead.\n",
      "\n"
     ]
    }
   ],
   "source": [
    "# build the model\n",
    "model = regression_model()"
   ]
  },
  {
   "cell_type": "markdown",
   "metadata": {},
   "source": [
    "Next, we will train and test the model at the same time using the *fit* method. We will leave out 30% of the data for validation and we will train the model for 100 epochs.\n"
   ]
  },
  {
   "cell_type": "code",
   "execution_count": 17,
   "metadata": {
    "tags": []
   },
   "outputs": [
    {
     "name": "stdout",
     "output_type": "stream",
     "text": [
      "WARNING:tensorflow:From /home/jupyterlab/conda/envs/python/lib/python3.7/site-packages/keras/backend/tensorflow_backend.py:977: The name tf.assign_add is deprecated. Please use tf.compat.v1.assign_add instead.\n",
      "\n",
      "WARNING:tensorflow:From /home/jupyterlab/conda/envs/python/lib/python3.7/site-packages/keras/backend/tensorflow_backend.py:964: The name tf.assign is deprecated. Please use tf.compat.v1.assign instead.\n",
      "\n",
      "Epoch 1/100\n",
      " 32/721 [>.............................] - ETA: 4s - loss: 19573.9844"
     ]
    },
    {
     "name": "stderr",
     "output_type": "stream",
     "text": [
      "2024-08-24 23:48:32.080342: I tensorflow/core/platform/cpu_feature_guard.cc:142] Your CPU supports instructions that this TensorFlow binary was not compiled to use: SSE4.1 SSE4.2 AVX AVX2 AVX512F FMA\n",
      "2024-08-24 23:48:32.085472: I tensorflow/core/platform/profile_utils/cpu_utils.cc:94] CPU Frequency: 2494050000 Hz\n",
      "2024-08-24 23:48:32.086016: I tensorflow/compiler/xla/service/service.cc:168] XLA service 0x55fce450e8b0 executing computations on platform Host. Devices:\n",
      "2024-08-24 23:48:32.086059: I tensorflow/compiler/xla/service/service.cc:175]   StreamExecutor device (0): <undefined>, <undefined>\n",
      "2024-08-24 23:48:32.157024: W tensorflow/compiler/jit/mark_for_compilation_pass.cc:1412] (One-time warning): Not using XLA:CPU for cluster because envvar TF_XLA_FLAGS=--tf_xla_cpu_global_jit was not set.  If you want XLA:CPU, either set that envvar, or use experimental_jit_scope to enable XLA:CPU.  To confirm that XLA is active, pass --vmodule=xla_compilation_cache=1 (as a proper command-line flag, not via TF_XLA_FLAGS) or set the envvar XLA_FLAGS=--xla_hlo_profile.\n"
     ]
    },
    {
     "name": "stdout",
     "output_type": "stream",
     "text": [
      "721/721 [==============================] - 0s 343us/step - loss: 11831.9270\n",
      "Epoch 2/100\n",
      "721/721 [==============================] - 0s 85us/step - loss: 8452.1398\n",
      "Epoch 3/100\n",
      "721/721 [==============================] - 0s 84us/step - loss: 6948.1255\n",
      "Epoch 4/100\n",
      "721/721 [==============================] - 0s 101us/step - loss: 5530.0124\n",
      "Epoch 5/100\n",
      "721/721 [==============================] - 0s 84us/step - loss: 4318.5239\n",
      "Epoch 6/100\n",
      "721/721 [==============================] - 0s 79us/step - loss: 3350.0766\n",
      "Epoch 7/100\n",
      "721/721 [==============================] - 0s 62us/step - loss: 2564.5957\n",
      "Epoch 8/100\n",
      "721/721 [==============================] - 0s 60us/step - loss: 2061.9211\n",
      "Epoch 9/100\n",
      "721/721 [==============================] - 0s 72us/step - loss: 1707.7043\n",
      "Epoch 10/100\n",
      "721/721 [==============================] - 0s 59us/step - loss: 1450.5921\n",
      "Epoch 11/100\n",
      "721/721 [==============================] - 0s 54us/step - loss: 1250.1205\n",
      "Epoch 12/100\n",
      "721/721 [==============================] - 0s 63us/step - loss: 1085.2226\n",
      "Epoch 13/100\n",
      "721/721 [==============================] - 0s 68us/step - loss: 955.6058\n",
      "Epoch 14/100\n",
      "721/721 [==============================] - 0s 54us/step - loss: 834.3641\n",
      "Epoch 15/100\n",
      "721/721 [==============================] - 0s 60us/step - loss: 741.6823\n",
      "Epoch 16/100\n",
      "721/721 [==============================] - 0s 58us/step - loss: 681.9457\n",
      "Epoch 17/100\n",
      "721/721 [==============================] - 0s 57us/step - loss: 582.1275\n",
      "Epoch 18/100\n",
      "721/721 [==============================] - 0s 55us/step - loss: 514.9483\n",
      "Epoch 19/100\n",
      "721/721 [==============================] - 0s 55us/step - loss: 464.1516\n",
      "Epoch 20/100\n",
      "721/721 [==============================] - 0s 57us/step - loss: 405.0767\n",
      "Epoch 21/100\n",
      "721/721 [==============================] - 0s 51us/step - loss: 368.1214\n",
      "Epoch 22/100\n",
      "721/721 [==============================] - 0s 55us/step - loss: 330.7196\n",
      "Epoch 23/100\n",
      "721/721 [==============================] - 0s 56us/step - loss: 296.6117\n",
      "Epoch 24/100\n",
      "721/721 [==============================] - 0s 52us/step - loss: 273.1530\n",
      "Epoch 25/100\n",
      "721/721 [==============================] - 0s 69us/step - loss: 245.9840\n",
      "Epoch 26/100\n",
      "721/721 [==============================] - 0s 56us/step - loss: 233.2710\n",
      "Epoch 27/100\n",
      "721/721 [==============================] - 0s 55us/step - loss: 213.9849\n",
      "Epoch 28/100\n",
      "721/721 [==============================] - 0s 54us/step - loss: 204.3038\n",
      "Epoch 29/100\n",
      "721/721 [==============================] - 0s 56us/step - loss: 187.7618\n",
      "Epoch 30/100\n",
      "721/721 [==============================] - 0s 53us/step - loss: 178.5151\n",
      "Epoch 31/100\n",
      "721/721 [==============================] - 0s 57us/step - loss: 174.8704\n",
      "Epoch 32/100\n",
      "721/721 [==============================] - 0s 56us/step - loss: 171.5839\n",
      "Epoch 33/100\n",
      "721/721 [==============================] - 0s 55us/step - loss: 160.9613\n",
      "Epoch 34/100\n",
      "721/721 [==============================] - 0s 57us/step - loss: 153.3173\n",
      "Epoch 35/100\n",
      "721/721 [==============================] - 0s 52us/step - loss: 147.4199\n",
      "Epoch 36/100\n",
      "721/721 [==============================] - 0s 52us/step - loss: 145.7034\n",
      "Epoch 37/100\n",
      "721/721 [==============================] - 0s 57us/step - loss: 140.5676\n",
      "Epoch 38/100\n",
      "721/721 [==============================] - 0s 53us/step - loss: 137.7284\n",
      "Epoch 39/100\n",
      "721/721 [==============================] - 0s 53us/step - loss: 134.8583\n",
      "Epoch 40/100\n",
      "721/721 [==============================] - 0s 54us/step - loss: 131.8976\n",
      "Epoch 41/100\n",
      "721/721 [==============================] - 0s 54us/step - loss: 130.1986\n",
      "Epoch 42/100\n",
      "721/721 [==============================] - 0s 56us/step - loss: 129.3424\n",
      "Epoch 43/100\n",
      "721/721 [==============================] - 0s 56us/step - loss: 128.0047\n",
      "Epoch 44/100\n",
      "721/721 [==============================] - 0s 55us/step - loss: 129.2810\n",
      "Epoch 45/100\n",
      "721/721 [==============================] - 0s 52us/step - loss: 124.1995\n",
      "Epoch 46/100\n",
      "721/721 [==============================] - 0s 54us/step - loss: 127.0904\n",
      "Epoch 47/100\n",
      "721/721 [==============================] - 0s 54us/step - loss: 121.6133\n",
      "Epoch 48/100\n",
      "721/721 [==============================] - 0s 60us/step - loss: 121.0861\n",
      "Epoch 49/100\n",
      "721/721 [==============================] - 0s 54us/step - loss: 119.9775\n",
      "Epoch 50/100\n",
      "721/721 [==============================] - 0s 71us/step - loss: 119.4673\n",
      "Epoch 51/100\n",
      "721/721 [==============================] - 0s 40us/step - loss: 118.5750\n",
      "Epoch 52/100\n",
      "721/721 [==============================] - 0s 53us/step - loss: 117.9350\n",
      "Epoch 53/100\n",
      "721/721 [==============================] - 0s 54us/step - loss: 117.8150\n",
      "Epoch 54/100\n",
      "721/721 [==============================] - 0s 53us/step - loss: 117.0127\n",
      "Epoch 55/100\n",
      "721/721 [==============================] - 0s 54us/step - loss: 116.2366\n",
      "Epoch 56/100\n",
      "721/721 [==============================] - 0s 55us/step - loss: 117.1200\n",
      "Epoch 57/100\n",
      "721/721 [==============================] - 0s 56us/step - loss: 116.2567\n",
      "Epoch 58/100\n",
      "721/721 [==============================] - 0s 59us/step - loss: 116.5003\n",
      "Epoch 59/100\n",
      "721/721 [==============================] - 0s 52us/step - loss: 116.8625\n",
      "Epoch 60/100\n",
      "721/721 [==============================] - 0s 54us/step - loss: 116.5663\n",
      "Epoch 61/100\n",
      "721/721 [==============================] - 0s 52us/step - loss: 116.7451\n",
      "Epoch 62/100\n",
      "721/721 [==============================] - 0s 53us/step - loss: 116.9839\n",
      "Epoch 63/100\n",
      "721/721 [==============================] - 0s 54us/step - loss: 116.0433\n",
      "Epoch 64/100\n",
      "721/721 [==============================] - 0s 54us/step - loss: 116.7171\n",
      "Epoch 65/100\n",
      "721/721 [==============================] - 0s 51us/step - loss: 115.1557\n",
      "Epoch 66/100\n",
      "721/721 [==============================] - 0s 54us/step - loss: 114.6748\n",
      "Epoch 67/100\n",
      "721/721 [==============================] - 0s 53us/step - loss: 114.4217\n",
      "Epoch 68/100\n",
      "721/721 [==============================] - 0s 53us/step - loss: 114.1163\n",
      "Epoch 69/100\n",
      "721/721 [==============================] - 0s 56us/step - loss: 115.5841\n",
      "Epoch 70/100\n",
      "721/721 [==============================] - 0s 54us/step - loss: 116.1739\n",
      "Epoch 71/100\n",
      "721/721 [==============================] - 0s 42us/step - loss: 113.1102\n",
      "Epoch 72/100\n",
      "721/721 [==============================] - 0s 40us/step - loss: 115.8148\n",
      "Epoch 73/100\n",
      "721/721 [==============================] - 0s 54us/step - loss: 113.7045\n",
      "Epoch 74/100\n",
      "721/721 [==============================] - 0s 56us/step - loss: 113.3040\n",
      "Epoch 75/100\n",
      "721/721 [==============================] - 0s 53us/step - loss: 114.7481\n",
      "Epoch 76/100\n",
      "721/721 [==============================] - 0s 56us/step - loss: 116.0120\n",
      "Epoch 77/100\n",
      "721/721 [==============================] - 0s 56us/step - loss: 115.6417\n",
      "Epoch 78/100\n",
      "721/721 [==============================] - 0s 65us/step - loss: 117.7172\n",
      "Epoch 79/100\n",
      "721/721 [==============================] - 0s 42us/step - loss: 120.4247\n",
      "Epoch 80/100\n",
      "721/721 [==============================] - 0s 44us/step - loss: 113.3783\n",
      "Epoch 81/100\n",
      "721/721 [==============================] - 0s 51us/step - loss: 113.7670\n",
      "Epoch 82/100\n",
      "721/721 [==============================] - 0s 53us/step - loss: 113.4761\n",
      "Epoch 83/100\n",
      "721/721 [==============================] - 0s 54us/step - loss: 113.4739\n",
      "Epoch 84/100\n",
      "721/721 [==============================] - 0s 48us/step - loss: 115.6693\n",
      "Epoch 85/100\n",
      "721/721 [==============================] - 0s 64us/step - loss: 112.4065\n",
      "Epoch 86/100\n",
      "721/721 [==============================] - 0s 53us/step - loss: 116.0978\n",
      "Epoch 87/100\n",
      "721/721 [==============================] - 0s 52us/step - loss: 118.2462\n",
      "Epoch 88/100\n",
      "721/721 [==============================] - 0s 55us/step - loss: 113.0973\n",
      "Epoch 89/100\n",
      "721/721 [==============================] - 0s 54us/step - loss: 114.9091\n",
      "Epoch 90/100\n",
      "721/721 [==============================] - 0s 75us/step - loss: 112.6574\n",
      "Epoch 91/100\n",
      "721/721 [==============================] - 0s 54us/step - loss: 115.9964\n",
      "Epoch 92/100\n",
      "721/721 [==============================] - 0s 78us/step - loss: 113.5643\n",
      "Epoch 93/100\n",
      "721/721 [==============================] - 0s 112us/step - loss: 113.7968\n",
      "Epoch 94/100\n",
      "721/721 [==============================] - 0s 94us/step - loss: 113.8012\n",
      "Epoch 95/100\n",
      "721/721 [==============================] - 0s 54us/step - loss: 113.8712\n",
      "Epoch 96/100\n",
      "721/721 [==============================] - 0s 51us/step - loss: 116.0596\n",
      "Epoch 97/100\n",
      "721/721 [==============================] - 0s 54us/step - loss: 113.4355\n",
      "Epoch 98/100\n",
      "721/721 [==============================] - 0s 54us/step - loss: 113.6650\n",
      "Epoch 99/100\n",
      "721/721 [==============================] - 0s 57us/step - loss: 114.9047\n",
      "Epoch 100/100\n",
      "721/721 [==============================] - 0s 56us/step - loss: 113.1374\n"
     ]
    },
    {
     "data": {
      "text/plain": [
       "<keras.callbacks.History at 0x7f98e70ce810>"
      ]
     },
     "execution_count": 17,
     "metadata": {},
     "output_type": "execute_result"
    }
   ],
   "source": [
    "# fit the model\n",
    "epochs = 100\n",
    "model.fit(x_training, y_training, epochs=epochs, verbose=1)"
   ]
  },
  {
   "cell_type": "markdown",
   "metadata": {},
   "source": [
    "Next we need to evaluate the model on the test data.\n"
   ]
  },
  {
   "cell_type": "code",
   "execution_count": 18,
   "metadata": {},
   "outputs": [
    {
     "name": "stdout",
     "output_type": "stream",
     "text": [
      "309/309 [==============================] - 0s 89us/step\n"
     ]
    },
    {
     "data": {
      "text/plain": [
       "106.97428205175308"
      ]
     },
     "execution_count": 18,
     "metadata": {},
     "output_type": "execute_result"
    }
   ],
   "source": [
    "loss_val = model.evaluate(x_testing, y_testing)\n",
    "y_prediction = model.predict(x_testing)\n",
    "loss_val"
   ]
  },
  {
   "cell_type": "code",
   "execution_count": null,
   "metadata": {},
   "outputs": [],
   "source": [
    "Now we need to compute the mean squared error between the predicted concrete strength and the actual concrete strength.\n",
    "\n",
    "Let's import the mean_squared_error function from Scikit-learn.\n"
   ]
  },
  {
   "cell_type": "code",
   "execution_count": 19,
   "metadata": {},
   "outputs": [],
   "source": [
    "from sklearn.metrics import mean_squared_error"
   ]
  },
  {
   "cell_type": "code",
   "execution_count": 20,
   "metadata": {},
   "outputs": [
    {
     "name": "stdout",
     "output_type": "stream",
     "text": [
      "106.97430825337297 0.0\n"
     ]
    }
   ],
   "source": [
    "mean_square_error = mean_squared_error(y_testing, y_prediction)\n",
    "mean = np.mean(mean_square_error)\n",
    "standard_deviation = np.std(mean_square_error)\n",
    "print(mean, standard_deviation)"
   ]
  },
  {
   "cell_type": "code",
   "execution_count": null,
   "metadata": {},
   "outputs": [
    {
     "name": "stdout",
     "output_type": "stream",
     "text": [
      "Mean Squared Error 1: 92.79364379092713\n",
      "Mean Squared Error 2: 122.67464824787622\n",
      "Mean Squared Error 3: 121.6436899919726\n",
      "Mean Squared Error 4: 121.42572609120587\n",
      "Mean Squared Error 5: 123.35499873979192\n",
      "Mean Squared Error 6: 109.29540682301938\n",
      "Mean Squared Error 7: 132.43124769883633\n",
      "Mean Squared Error 8: 105.28217688501846\n",
      "Mean Squared Error 9: 119.49960080242465\n",
      "Mean Squared Error 10: 110.44392632049264\n",
      "Mean Squared Error 11: 130.26092383622353\n",
      "Mean Squared Error 12: 100.47939517814365\n",
      "Mean Squared Error 13: 116.66688722777135\n",
      "Mean Squared Error 14: 116.62239948754171\n",
      "Mean Squared Error 15: 112.26866685688303\n",
      "Mean Squared Error 16: 108.06025774810692\n",
      "Mean Squared Error 17: 117.2513910682456\n",
      "Mean Squared Error 18: 105.86800954874279\n",
      "Mean Squared Error 19: 100.06933606095299\n",
      "Mean Squared Error 20: 114.14320837718384\n",
      "Mean Squared Error 21: 98.9348689946542\n",
      "Mean Squared Error 22: 103.10797980842467\n",
      "Mean Squared Error 23: 113.37146731873547\n",
      "Mean Squared Error 24: 106.52487834448954\n",
      "Mean Squared Error 25: 107.8032085826096\n",
      "Mean Squared Error 26: 99.94766230413443\n",
      "Mean Squared Error 27: 121.19403234191697\n",
      "Mean Squared Error 28: 110.1361831121846\n",
      "Mean Squared Error 29: 111.23457427780991\n",
      "Mean Squared Error 30: 112.6669825334765\n",
      "Mean Squared Error 31: 132.23430542189712\n",
      "Mean Squared Error 32: 107.84920064068149\n",
      "Mean Squared Error 33: 102.38359138957891\n",
      "Mean Squared Error 34: 110.24541527707986\n",
      "Mean Squared Error 35: 115.01407344287267\n",
      "Mean Squared Error 36: 126.61357353728951\n",
      "Mean Squared Error 37: 118.63790392335565\n",
      "Mean Squared Error 38: 113.35130579186104\n",
      "Mean Squared Error 39: 105.67813164670876\n",
      "Mean Squared Error 40: 111.44634503608383\n",
      "Mean Squared Error 41: 114.0088338142074\n",
      "Mean Squared Error 42: 110.5389210722593\n",
      "Mean Squared Error 43: 103.64793914498635\n",
      "Mean Squared Error 44: 104.46705827435244\n",
      "Mean Squared Error 45: 113.04053109672077\n",
      "Mean Squared Error 46: 122.93730111723964\n",
      "Mean Squared Error 47: 106.85759238826418\n",
      "Mean Squared Error 48: 114.11938891364532\n",
      "Mean Squared Error 49: 98.96178937498419\n"
     ]
    }
   ],
   "source": [
    "total_mean_squared_errors = 50\n",
    "epochs = 100\n",
    "mean_squared_errors = []\n",
    "for i in range(0, total_mean_squared_errors):\n",
    "    x_training, x_testing, y_training, y_testing = train_test_split(predictors, target, test_size=0.3, random_state=i)\n",
    "    model.fit(x_training, y_training, epochs=epochs, verbose=0)\n",
    "    MeanSquaredError = model.evaluate(x_testing, y_testing, verbose=0)\n",
    "    print(\"Mean Squared Error \"+str(i+1)+\": \"+str(MeanSquaredError))\n",
    "    y_prediction = model.predict(x_testing)\n",
    "    mean_square_error = mean_squared_error(y_testing, y_prediction)\n",
    "    mean_squared_errors.append(mean_square_error)\n",
    "\n",
    "mean_squared_errors = np.array(mean_squared_errors)\n",
    "mean = np.mean(mean_squared_errors)\n",
    "standard_deviation = np.std(mean_squared_errors)\n",
    "\n",
    "print('\\n')\n",
    "print(\"This is the mean with a standard deviation of \" +str(total_mean_squared_errors) + \" mean squared errors with normalized data. Total number of training epochs: \" +str(epochs) + \"\\n\")\n",
    "print(\"Mean: \"+str(mean))\n",
    "print(\"Standard Deviation: \"+str(standard_deviation))"
   ]
  },
  {
   "cell_type": "code",
   "execution_count": null,
   "metadata": {},
   "outputs": [],
   "source": []
  }
 ],
 "metadata": {
  "kernelspec": {
   "display_name": "Python",
   "language": "python",
   "name": "conda-env-python-py"
  },
  "language_info": {
   "codemirror_mode": {
    "name": "ipython",
    "version": 3
   },
   "file_extension": ".py",
   "mimetype": "text/x-python",
   "name": "python",
   "nbconvert_exporter": "python",
   "pygments_lexer": "ipython3",
   "version": "3.7.12"
  },
  "prev_pub_hash": "83687881d337faa1ef19930a5252431ac8ebd74923546c921f47fecec1b0d333"
 },
 "nbformat": 4,
 "nbformat_minor": 4
}
